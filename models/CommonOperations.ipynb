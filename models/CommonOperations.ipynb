{
 "cells": [
  {
   "cell_type": "markdown",
   "metadata": {},
   "source": [
    "# Common Operations\n",
    "The following notebook contains reusable code for the other notebooks in a simple and organized place in case we have to change something. It's like a small library for our operations."
   ]
  },
  {
   "cell_type": "markdown",
   "metadata": {},
   "source": [
    "## Reading CSV files"
   ]
  },
  {
   "cell_type": "code",
   "execution_count": 10,
   "metadata": {},
   "outputs": [],
   "source": [
    "def readcsv(csv_file):\n",
    "    import csv\n",
    "    with open(csv_file, 'r') as file:\n",
    "        reader = csv.reader(file)\n",
    "        for row in reader:\n",
    "            print(row)"
   ]
  },
  {
   "cell_type": "code",
   "execution_count": 11,
   "metadata": {},
   "outputs": [],
   "source": [
    "#readcsv('best_models_isot.csv')"
   ]
  },
  {
   "cell_type": "markdown",
   "metadata": {},
   "source": [
    "## Rounding Validation and Test scores"
   ]
  },
  {
   "cell_type": "code",
   "execution_count": 12,
   "metadata": {},
   "outputs": [],
   "source": [
    "def prepare_val_and_test(validation_accuracy, test_accuracy):\n",
    "    rounded_max_val = round(validation_accuracy,4)\n",
    "    rounded_test_score = round(test_accuracy,4)\n",
    "    #print(rounded_max_val)\n",
    "    #print(rounded_test_score)\n",
    "    return rounded_max_val, rounded_test_score"
   ]
  },
  {
   "cell_type": "code",
   "execution_count": 13,
   "metadata": {},
   "outputs": [],
   "source": [
    "#prepare_val_and_test(0.97654, 0.8016)"
   ]
  },
  {
   "cell_type": "markdown",
   "metadata": {},
   "source": [
    "## Writing CSV files"
   ]
  },
  {
   "cell_type": "code",
   "execution_count": 14,
   "metadata": {},
   "outputs": [],
   "source": [
    "def writecsv(csv_file, model_name, hyperparameterTuned, validation_accuracy, test_accuracy):\n",
    "    val_accuracy, test_accuracy = prepare_val_and_test(validation_accuracy, test_accuracy)\n",
    "    #print(val_accuracy)\n",
    "    #print(test_accuracy)\n",
    "    import csv\n",
    "    with open(csv_file, 'a') as file:\n",
    "        writer = csv.writer(file)\n",
    "        writer.writerow([model_name, hyperparameterTuned, val_accuracy, test_accuracy])"
   ]
  },
  {
   "cell_type": "code",
   "execution_count": 26,
   "metadata": {},
   "outputs": [
    {
     "name": "stdout",
     "output_type": "stream",
     "text": [
      "0.9765\n",
      "0.8016\n"
     ]
    }
   ],
   "source": [
    "#Simple example to use the function#\n",
    "#writecsv('best_models_isot.csv', 'LogisticRegression', 'No', 0.97654, 0.8016)"
   ]
  }
 ],
 "metadata": {
  "kernelspec": {
   "display_name": "Python 3",
   "language": "python",
   "name": "python3"
  },
  "language_info": {
   "codemirror_mode": {
    "name": "ipython",
    "version": 3
   },
   "file_extension": ".py",
   "mimetype": "text/x-python",
   "name": "python",
   "nbconvert_exporter": "python",
   "pygments_lexer": "ipython3",
   "version": "3.7.6"
  }
 },
 "nbformat": 4,
 "nbformat_minor": 4
}
