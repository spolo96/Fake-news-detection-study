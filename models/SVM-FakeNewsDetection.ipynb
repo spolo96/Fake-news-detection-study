{
 "cells": [
  {
   "cell_type": "code",
   "execution_count": 10,
   "metadata": {
    "id": "7OxIKJ8wQVyi"
   },
   "outputs": [],
   "source": [
    "import numpy as np\n",
    "import pandas as pd\n",
    "import itertools\n",
    "from sklearn.model_selection import train_test_split\n",
    "from sklearn.feature_extraction.text import TfidfVectorizer\n",
    "from sklearn import svm\n",
    "from sklearn.metrics import accuracy_score, confusion_matrix, plot_confusion_matrix\n",
    "import os\n",
    "import matplotlib.pyplot as plt"
   ]
  },
  {
   "cell_type": "code",
   "execution_count": 11,
   "metadata": {
    "id": "DfJK0mEWReH1"
   },
   "outputs": [],
   "source": [
    "#Load the respective data\n",
    "header_names = ['ID','label','statement','subject','speaker','job title','state','party','hist_barely','hist_false','hist_half_true','hist_mostly_true','hist_pants_on_fire','location']\n",
    "df_train=pd.read_csv('train.tsv',sep='\\t',names=header_names)\n",
    "df_val=pd.read_csv('valid.tsv',sep='\\t', names=header_names)\n",
    "df_test=pd.read_csv('test.tsv',sep='\\t', names = header_names)"
   ]
  },
  {
   "cell_type": "code",
   "execution_count": 12,
   "metadata": {
    "colab": {
     "base_uri": "https://localhost:8080/",
     "height": 374
    },
    "id": "9iiquFvzSbx3",
    "outputId": "ed30f4b8-67ba-466e-ab56-d0cc19cb85c7"
   },
   "outputs": [
    {
     "data": {
      "text/html": [
       "<div>\n",
       "<style scoped>\n",
       "    .dataframe tbody tr th:only-of-type {\n",
       "        vertical-align: middle;\n",
       "    }\n",
       "\n",
       "    .dataframe tbody tr th {\n",
       "        vertical-align: top;\n",
       "    }\n",
       "\n",
       "    .dataframe thead th {\n",
       "        text-align: right;\n",
       "    }\n",
       "</style>\n",
       "<table border=\"1\" class=\"dataframe\">\n",
       "  <thead>\n",
       "    <tr style=\"text-align: right;\">\n",
       "      <th></th>\n",
       "      <th>ID</th>\n",
       "      <th>label</th>\n",
       "      <th>statement</th>\n",
       "      <th>subject</th>\n",
       "      <th>speaker</th>\n",
       "      <th>job title</th>\n",
       "      <th>state</th>\n",
       "      <th>party</th>\n",
       "      <th>hist_barely</th>\n",
       "      <th>hist_false</th>\n",
       "      <th>hist_half_true</th>\n",
       "      <th>hist_mostly_true</th>\n",
       "      <th>hist_pants_on_fire</th>\n",
       "      <th>location</th>\n",
       "    </tr>\n",
       "  </thead>\n",
       "  <tbody>\n",
       "    <tr>\n",
       "      <th>0</th>\n",
       "      <td>2635.json</td>\n",
       "      <td>false</td>\n",
       "      <td>Says the Annies List political group supports ...</td>\n",
       "      <td>abortion</td>\n",
       "      <td>dwayne-bohac</td>\n",
       "      <td>State representative</td>\n",
       "      <td>Texas</td>\n",
       "      <td>republican</td>\n",
       "      <td>0.0</td>\n",
       "      <td>1.0</td>\n",
       "      <td>0.0</td>\n",
       "      <td>0.0</td>\n",
       "      <td>0.0</td>\n",
       "      <td>a mailer</td>\n",
       "    </tr>\n",
       "    <tr>\n",
       "      <th>1</th>\n",
       "      <td>10540.json</td>\n",
       "      <td>half-true</td>\n",
       "      <td>When did the decline of coal start? It started...</td>\n",
       "      <td>energy,history,job-accomplishments</td>\n",
       "      <td>scott-surovell</td>\n",
       "      <td>State delegate</td>\n",
       "      <td>Virginia</td>\n",
       "      <td>democrat</td>\n",
       "      <td>0.0</td>\n",
       "      <td>0.0</td>\n",
       "      <td>1.0</td>\n",
       "      <td>1.0</td>\n",
       "      <td>0.0</td>\n",
       "      <td>a floor speech.</td>\n",
       "    </tr>\n",
       "    <tr>\n",
       "      <th>2</th>\n",
       "      <td>324.json</td>\n",
       "      <td>mostly-true</td>\n",
       "      <td>Hillary Clinton agrees with John McCain \"by vo...</td>\n",
       "      <td>foreign-policy</td>\n",
       "      <td>barack-obama</td>\n",
       "      <td>President</td>\n",
       "      <td>Illinois</td>\n",
       "      <td>democrat</td>\n",
       "      <td>70.0</td>\n",
       "      <td>71.0</td>\n",
       "      <td>160.0</td>\n",
       "      <td>163.0</td>\n",
       "      <td>9.0</td>\n",
       "      <td>Denver</td>\n",
       "    </tr>\n",
       "    <tr>\n",
       "      <th>3</th>\n",
       "      <td>1123.json</td>\n",
       "      <td>false</td>\n",
       "      <td>Health care reform legislation is likely to ma...</td>\n",
       "      <td>health-care</td>\n",
       "      <td>blog-posting</td>\n",
       "      <td>NaN</td>\n",
       "      <td>NaN</td>\n",
       "      <td>none</td>\n",
       "      <td>7.0</td>\n",
       "      <td>19.0</td>\n",
       "      <td>3.0</td>\n",
       "      <td>5.0</td>\n",
       "      <td>44.0</td>\n",
       "      <td>a news release</td>\n",
       "    </tr>\n",
       "    <tr>\n",
       "      <th>4</th>\n",
       "      <td>9028.json</td>\n",
       "      <td>half-true</td>\n",
       "      <td>The economic turnaround started at the end of ...</td>\n",
       "      <td>economy,jobs</td>\n",
       "      <td>charlie-crist</td>\n",
       "      <td>NaN</td>\n",
       "      <td>Florida</td>\n",
       "      <td>democrat</td>\n",
       "      <td>15.0</td>\n",
       "      <td>9.0</td>\n",
       "      <td>20.0</td>\n",
       "      <td>19.0</td>\n",
       "      <td>2.0</td>\n",
       "      <td>an interview on CNN</td>\n",
       "    </tr>\n",
       "  </tbody>\n",
       "</table>\n",
       "</div>"
      ],
      "text/plain": [
       "           ID        label  ... hist_pants_on_fire             location\n",
       "0   2635.json        false  ...                0.0             a mailer\n",
       "1  10540.json    half-true  ...                0.0      a floor speech.\n",
       "2    324.json  mostly-true  ...                9.0               Denver\n",
       "3   1123.json        false  ...               44.0       a news release\n",
       "4   9028.json    half-true  ...                2.0  an interview on CNN\n",
       "\n",
       "[5 rows x 14 columns]"
      ]
     },
     "execution_count": 12,
     "metadata": {
      "tags": []
     },
     "output_type": "execute_result"
    }
   ],
   "source": [
    "# Check true data\n",
    "df_train.head()"
   ]
  },
  {
   "cell_type": "code",
   "execution_count": 13,
   "metadata": {
    "colab": {
     "base_uri": "https://localhost:8080/"
    },
    "id": "o4Kco5WWSlai",
    "outputId": "8a218716-27d4-4cff-fe36-0d505ea3bec3"
   },
   "outputs": [
    {
     "data": {
      "text/plain": [
       "array(['pants-fire', 'false', 'barely-true', 'half-true', 'mostly-true',\n",
       "       'true'], dtype=object)"
      ]
     },
     "execution_count": 13,
     "metadata": {
      "tags": []
     },
     "output_type": "execute_result"
    }
   ],
   "source": [
    "class_names = df_val['label'].unique()\n",
    "class_names = np.array(['pants-fire', 'false','barely-true', 'half-true','mostly-true', 'true'],dtype=object)\n",
    "class_names"
   ]
  },
  {
   "cell_type": "code",
   "execution_count": 14,
   "metadata": {
    "colab": {
     "base_uri": "https://localhost:8080/"
    },
    "id": "qixQ8loqSpBT",
    "outputId": "a28feaec-3bd5-4d63-f590-2fb8cb1e0681"
   },
   "outputs": [
    {
     "data": {
      "text/plain": [
       "array(['Says the Annies List political group supports third-trimester abortions on demand.',\n",
       "       'When did the decline of coal start? It started when natural gas took off that started to begin in (President George W.) Bushs administration.',\n",
       "       'Hillary Clinton agrees with John McCain \"by voting to give George Bush the benefit of the doubt on Iran.\"',\n",
       "       ...,\n",
       "       'Says an alternative to Social Security that operates in Galveston County, Texas, has meant that participants will retire with a whole lot more money than under Social Security.',\n",
       "       'On lifting the U.S. Cuban embargo and allowing travel to Cuba.',\n",
       "       \"The Department of Veterans Affairs has a manual out there telling our veterans stuff like, 'Are you really of value to your community?' You know, encouraging them to commit suicide.\"],\n",
       "      dtype=object)"
      ]
     },
     "execution_count": 14,
     "metadata": {
      "tags": []
     },
     "output_type": "execute_result"
    }
   ],
   "source": [
    "x_train = df_train['statement'].values\n",
    "x_val = df_val['statement'].values\n",
    "x_test = df_test['statement'].values\n",
    "\n",
    "x_train"
   ]
  },
  {
   "cell_type": "code",
   "execution_count": 15,
   "metadata": {
    "id": "4pwUkkQzSsVx"
   },
   "outputs": [],
   "source": [
    "y_train = df_train.label\n",
    "y_val = df_val.label\n",
    "y_test = df_test.label"
   ]
  },
  {
   "cell_type": "code",
   "execution_count": 16,
   "metadata": {
    "colab": {
     "base_uri": "https://localhost:8080/"
    },
    "id": "1p_1BNU8Sw80",
    "outputId": "11cda742-dca2-4161-ac22-2b1b36eb3275"
   },
   "outputs": [
    {
     "data": {
      "text/plain": [
       "(10240, 11915)"
      ]
     },
     "execution_count": 16,
     "metadata": {
      "tags": []
     },
     "output_type": "execute_result"
    }
   ],
   "source": [
    "#DataFlair - Initialize a TfidfVectorizer\n",
    "tfidf_vectorizer=TfidfVectorizer(stop_words='english', max_df=0.7)\n",
    "#DataFlair - Fit and transform train set, transform test set\n",
    "tfidf_train=tfidf_vectorizer.fit_transform(x_train) \n",
    "tfidf_val=tfidf_vectorizer.transform(x_val)\n",
    "\n",
    "tfidf_train.shape"
   ]
  },
  {
   "cell_type": "code",
   "execution_count": 18,
   "metadata": {
    "colab": {
     "base_uri": "https://localhost:8080/"
    },
    "id": "mUZa0RTiSxwd",
    "outputId": "933c2d8a-f9d5-4135-c765-5192b3ec8195"
   },
   "outputs": [
    {
     "name": "stdout",
     "output_type": "stream",
     "text": [
      "Accuracy: 25.39%\n"
     ]
    }
   ],
   "source": [
    "clf = svm.SVC(decision_function_shape='ovr')\n",
    "clf.fit(tfidf_train, y_train)\n",
    "\n",
    "y_pred_val = clf.predict(tfidf_val)\n",
    "score=accuracy_score(y_val,y_pred_val)\n",
    "\n",
    "score=accuracy_score(y_val,y_pred_val)\n",
    "print(f'Accuracy: {round(score*100,2)}%')\n"
   ]
  },
  {
   "cell_type": "code",
   "execution_count": 22,
   "metadata": {
    "colab": {
     "base_uri": "https://localhost:8080/"
    },
    "id": "ihkjI-3KXnZC",
    "outputId": "79f9be0c-97ff-460d-fac9-f4ef450e2ddc"
   },
   "outputs": [
    {
     "name": "stdout",
     "output_type": "stream",
     "text": [
      "Accuracy: 24.14%\n"
     ]
    }
   ],
   "source": [
    "clf = svm.NuSVC(decision_function_shape='ovr')\n",
    "clf.fit(tfidf_train, y_train)\n",
    "\n",
    "y_pred_val = clf.predict(tfidf_val)\n",
    "score=accuracy_score(y_val,y_pred_val)\n",
    "\n",
    "score=accuracy_score(y_val,y_pred_val)\n",
    "print(f'Accuracy: {round(score*100,2)}%')"
   ]
  },
  {
   "cell_type": "code",
   "execution_count": 24,
   "metadata": {
    "colab": {
     "base_uri": "https://localhost:8080/"
    },
    "id": "aOPTIaRkXoMr",
    "outputId": "fa5352b3-ab1a-48d4-e06e-b8ac1d097a30"
   },
   "outputs": [
    {
     "name": "stdout",
     "output_type": "stream",
     "text": [
      "Accuracy: 22.82%\n"
     ]
    }
   ],
   "source": [
    "clf = svm.LinearSVC()\n",
    "clf.fit(tfidf_train, y_train)\n",
    "\n",
    "y_pred_val = clf.predict(tfidf_val)\n",
    "score=accuracy_score(y_val,y_pred_val)\n",
    "\n",
    "score=accuracy_score(y_val,y_pred_val)\n",
    "print(f'Accuracy: {round(score*100,2)}%')"
   ]
  },
  {
   "cell_type": "code",
   "execution_count": 20,
   "metadata": {
    "colab": {
     "base_uri": "https://localhost:8080/",
     "height": 1000
    },
    "id": "6y9iDswhXXKl",
    "outputId": "9f5e9c73-7a69-4612-9639-de684666b1e0"
   },
   "outputs": [
    {
     "name": "stdout",
     "output_type": "stream",
     "text": [
      "Confusion matrix, without normalization\n",
      "[[  3  48  15  31  10   9]\n",
      " [  0 117  24  70  36  16]\n",
      " [  0  74  24  84  41  14]\n",
      " [  0  74  14  85  58  17]\n",
      " [  0  60  14  82  70  25]\n",
      " [  0  43   3  47  49  27]]\n",
      "Normalized confusion matrix\n",
      "[[0.02586207 0.4137931  0.12931034 0.26724138 0.0862069  0.07758621]\n",
      " [0.         0.44486692 0.09125475 0.2661597  0.13688213 0.0608365 ]\n",
      " [0.         0.31223629 0.10126582 0.35443038 0.17299578 0.05907173]\n",
      " [0.         0.2983871  0.05645161 0.34274194 0.23387097 0.06854839]\n",
      " [0.         0.23904382 0.05577689 0.32669323 0.27888446 0.09960159]\n",
      " [0.         0.25443787 0.01775148 0.27810651 0.28994083 0.15976331]]\n"
     ]
    },
    {
     "data": {
      "image/png": "[encoded data removed]",
      "text/plain": [
       "<Figure size 1440x720 with 2 Axes>"
      ]
     },
     "metadata": {
      "needs_background": "light",
      "tags": []
     },
     "output_type": "display_data"
    },
    {
     "data": {
      "image/png": "[encoded data removed]",
      "text/plain": [
       "<Figure size 1440x720 with 2 Axes>"
      ]
     },
     "metadata": {
      "needs_background": "light",
      "tags": []
     },
     "output_type": "display_data"
    }
   ],
   "source": [
    "# Plot confusion matrix\n",
    "plt.rcParams[\"figure.figsize\"] = (20,10)\n",
    "\n",
    "\n",
    "titles_options = [(\"Confusion matrix, without normalization\", None,''),\n",
    "                  (\"Normalized confusion matrix\", 'true','.3f')]\n",
    "for title, normalize, format in titles_options:\n",
    "    disp = plot_confusion_matrix(clf, tfidf_val, y_val,\n",
    "                                 labels=class_names,\n",
    "                                 cmap=plt.cm.Blues,\n",
    "                                 normalize=normalize, values_format=format,)\n",
    "    disp.ax_.set_title(title)\n",
    "    disp.ax_.set_xticklabels([''] + class_names)\n",
    "    disp.ax_.set_yticklabels([''] + class_names)\n",
    "\n",
    "    print(title)\n",
    "    print(disp.confusion_matrix)\n",
    "\n",
    "plt.show()"
   ]
  }
 ],
 "metadata": {
  "colab": {
   "collapsed_sections": [],
   "name": "Fake-News-Detection-SMV.ipynb",
   "provenance": []
  },
  "kernelspec": {
   "display_name": "Python 3",
   "language": "python",
   "name": "python3"
  },
  "language_info": {
   "codemirror_mode": {
    "name": "ipython",
    "version": 3
   },
   "file_extension": ".py",
   "mimetype": "text/x-python",
   "name": "python",
   "nbconvert_exporter": "python",
   "pygments_lexer": "ipython3",
   "version": "3.6.10"
  }
 },
 "nbformat": 4,
 "nbformat_minor": 1
}
