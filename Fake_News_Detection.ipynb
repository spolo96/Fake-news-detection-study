{
  "nbformat": 4,
  "nbformat_minor": 0,
  "metadata": {
    "kernelspec": {
      "display_name": "Python 3",
      "language": "python",
      "name": "python3"
    },
    "language_info": {
      "codemirror_mode": {
        "name": "ipython",
        "version": 3
      },
      "file_extension": ".py",
      "mimetype": "text/x-python",
      "name": "python",
      "nbconvert_exporter": "python",
      "pygments_lexer": "ipython3",
      "version": "3.6.10"
    },
    "colab": {
      "name": "Fake-News-Detection.ipynb",
      "provenance": [],
      "collapsed_sections": []
    }
  },
  "cells": [
    {
      "cell_type": "markdown",
      "metadata": {
        "id": "ykEpxXeEtIJx"
      },
      "source": [
        "# XOHW21 - Fake News Detection"
      ]
    },
    {
      "cell_type": "markdown",
      "metadata": {
        "id": "yMaq9E_btIJy"
      },
      "source": [
        "# Possible Algorithms to use in the Fake News Detection Task"
      ]
    },
    {
      "cell_type": "markdown",
      "metadata": {
        "id": "-ztHxkFAtIJz"
      },
      "source": [
        "# Naive Bayes Classifier\n",
        "Models taken from https://scikit-learn.org/stable/modules/naive_bayes.html"
      ]
    },
    {
      "cell_type": "markdown",
      "metadata": {
        "id": "hfH1yWuQtIJz"
      },
      "source": [
        "## Gaussian Naive Bayes Classifier - Code example"
      ]
    },
    {
      "cell_type": "code",
      "metadata": {
        "colab": {
          "base_uri": "https://localhost:8080/"
        },
        "id": "7zbMYoLntIJ0",
        "outputId": "deda586a-6634-4c87-a18c-b9cb74b7889e"
      },
      "source": [
        "from sklearn.datasets import load_iris\n",
        "from sklearn.model_selection import train_test_split\n",
        "from sklearn.naive_bayes import GaussianNB\n",
        "X, y = load_iris(return_X_y=True)\n",
        "X_train, X_test, y_train, y_test = train_test_split(X, y, test_size=0.5, random_state=0)\n",
        "gnb = GaussianNB()\n",
        "y_pred = gnb.fit(X_train, y_train).predict(X_test)\n",
        "print(\"Number of mislabeled points out of a total %d points : %d\" % (X_test.shape[0], (y_test != y_pred).sum()))"
      ],
      "execution_count": 4,
      "outputs": [
        {
          "output_type": "stream",
          "text": [
            "Number of mislabeled points out of a total 75 points : 4\n"
          ],
          "name": "stdout"
        }
      ]
    },
    {
      "cell_type": "markdown",
      "metadata": {
        "id": "cNSvgoxPtIJ1"
      },
      "source": [
        "## Multinomial Naive Bayes (MNB) - Code example"
      ]
    },
    {
      "cell_type": "code",
      "metadata": {
        "colab": {
          "base_uri": "https://localhost:8080/"
        },
        "id": "eYmuLPyatIJ1",
        "outputId": "c23d6df6-6377-439e-a5c4-43d7b41d599e"
      },
      "source": [
        "from sklearn.datasets import load_iris\n",
        "from sklearn.model_selection import train_test_split\n",
        "from sklearn.naive_bayes import MultinomialNB\n",
        "X, y = load_iris(return_X_y=True)\n",
        "X_train, X_test, y_train, y_test = train_test_split(X, y, test_size=0.5, random_state=0)\n",
        "mnb = MultinomialNB()\n",
        "y_pred = mnb.fit(X_train, y_train).predict(X_test)\n",
        "print(\"Number of mislabeled points out of a total %d points : %d\" % (X_test.shape[0], (y_test != y_pred).sum()))"
      ],
      "execution_count": 5,
      "outputs": [
        {
          "output_type": "stream",
          "text": [
            "Number of mislabeled points out of a total 75 points : 30\n"
          ],
          "name": "stdout"
        }
      ]
    },
    {
      "cell_type": "markdown",
      "metadata": {
        "id": "n30YbchCtIJ2"
      },
      "source": [
        "The MNB has poor performance since the data isn't the most adequate to use with this algorithm."
      ]
    },
    {
      "cell_type": "markdown",
      "metadata": {
        "id": "ljGoY1VbtIJ2"
      },
      "source": [
        "## Fake News Detection using (MNB) with simple fake news dataset\n",
        "\n",
        "The following algorithms creates a Multinomial Naive Bayes model in order to test it with the \"news\" fake news dataset, \n",
        "the original algorithm uses a Passive Agressive Classifier which can be found here: https://data-flair.training/blogs/advanced-python-project-detecting-fake-news/ and also in the Basic-Fake-News-Detector notebook."
      ]
    },
    {
      "cell_type": "code",
      "metadata": {
        "id": "_NQC0YlKtIJ2"
      },
      "source": [
        "import numpy as np\n",
        "import pandas as pd\n",
        "import itertools\n",
        "from sklearn.model_selection import train_test_split\n",
        "from sklearn.feature_extraction.text import TfidfVectorizer\n",
        "from sklearn.linear_model import PassiveAggressiveClassifier\n",
        "from sklearn.metrics import accuracy_score, confusion_matrix\n",
        "import os"
      ],
      "execution_count": 6,
      "outputs": []
    },
    {
      "cell_type": "code",
      "metadata": {
        "id": "_bh1kzG0tIJ3",
        "outputId": "4236820f-2416-4de3-c78a-e81b806e333e"
      },
      "source": [
        "print(os.getcwd())"
      ],
      "execution_count": null,
      "outputs": [
        {
          "output_type": "stream",
          "text": [
            "C:\\Users\\User\\Documents\\Python_Scripts\\Fake-News-Detection\n"
          ],
          "name": "stdout"
        }
      ]
    },
    {
      "cell_type": "code",
      "metadata": {
        "id": "rtolsrmZtIJ3",
        "outputId": "072862ca-83e5-4a63-bb8a-2add6d60133d"
      },
      "source": [
        "#Read the data\n",
        "df=pd.read_csv('news.csv')\n",
        "#Get shape and head\n",
        "df.shape\n",
        "df.head()"
      ],
      "execution_count": null,
      "outputs": [
        {
          "output_type": "execute_result",
          "data": {
            "text/html": [
              "<div>\n",
              "<style scoped>\n",
              "    .dataframe tbody tr th:only-of-type {\n",
              "        vertical-align: middle;\n",
              "    }\n",
              "\n",
              "    .dataframe tbody tr th {\n",
              "        vertical-align: top;\n",
              "    }\n",
              "\n",
              "    .dataframe thead th {\n",
              "        text-align: right;\n",
              "    }\n",
              "</style>\n",
              "<table border=\"1\" class=\"dataframe\">\n",
              "  <thead>\n",
              "    <tr style=\"text-align: right;\">\n",
              "      <th></th>\n",
              "      <th>Unnamed: 0</th>\n",
              "      <th>title</th>\n",
              "      <th>text</th>\n",
              "      <th>label</th>\n",
              "    </tr>\n",
              "  </thead>\n",
              "  <tbody>\n",
              "    <tr>\n",
              "      <th>0</th>\n",
              "      <td>8476</td>\n",
              "      <td>You Can Smell Hillary’s Fear</td>\n",
              "      <td>Daniel Greenfield, a Shillman Journalism Fello...</td>\n",
              "      <td>FAKE</td>\n",
              "    </tr>\n",
              "    <tr>\n",
              "      <th>1</th>\n",
              "      <td>10294</td>\n",
              "      <td>Watch The Exact Moment Paul Ryan Committed Pol...</td>\n",
              "      <td>Google Pinterest Digg Linkedin Reddit Stumbleu...</td>\n",
              "      <td>FAKE</td>\n",
              "    </tr>\n",
              "    <tr>\n",
              "      <th>2</th>\n",
              "      <td>3608</td>\n",
              "      <td>Kerry to go to Paris in gesture of sympathy</td>\n",
              "      <td>U.S. Secretary of State John F. Kerry said Mon...</td>\n",
              "      <td>REAL</td>\n",
              "    </tr>\n",
              "    <tr>\n",
              "      <th>3</th>\n",
              "      <td>10142</td>\n",
              "      <td>Bernie supporters on Twitter erupt in anger ag...</td>\n",
              "      <td>— Kaydee King (@KaydeeKing) November 9, 2016 T...</td>\n",
              "      <td>FAKE</td>\n",
              "    </tr>\n",
              "    <tr>\n",
              "      <th>4</th>\n",
              "      <td>875</td>\n",
              "      <td>The Battle of New York: Why This Primary Matters</td>\n",
              "      <td>It's primary day in New York and front-runners...</td>\n",
              "      <td>REAL</td>\n",
              "    </tr>\n",
              "  </tbody>\n",
              "</table>\n",
              "</div>"
            ],
            "text/plain": [
              "   Unnamed: 0                                              title  \\\n",
              "0        8476                       You Can Smell Hillary’s Fear   \n",
              "1       10294  Watch The Exact Moment Paul Ryan Committed Pol...   \n",
              "2        3608        Kerry to go to Paris in gesture of sympathy   \n",
              "3       10142  Bernie supporters on Twitter erupt in anger ag...   \n",
              "4         875   The Battle of New York: Why This Primary Matters   \n",
              "\n",
              "                                                text label  \n",
              "0  Daniel Greenfield, a Shillman Journalism Fello...  FAKE  \n",
              "1  Google Pinterest Digg Linkedin Reddit Stumbleu...  FAKE  \n",
              "2  U.S. Secretary of State John F. Kerry said Mon...  REAL  \n",
              "3  — Kaydee King (@KaydeeKing) November 9, 2016 T...  FAKE  \n",
              "4  It's primary day in New York and front-runners...  REAL  "
            ]
          },
          "metadata": {
            "tags": []
          },
          "execution_count": 49
        }
      ]
    },
    {
      "cell_type": "code",
      "metadata": {
        "id": "ant10WAUtIJ4",
        "outputId": "2acb292a-57f5-47a1-d3ff-2f63a5f78118"
      },
      "source": [
        "#DataFlair - Get the labels\n",
        "labels=df.label\n",
        "labels.head()"
      ],
      "execution_count": null,
      "outputs": [
        {
          "output_type": "execute_result",
          "data": {
            "text/plain": [
              "0    FAKE\n",
              "1    FAKE\n",
              "2    REAL\n",
              "3    FAKE\n",
              "4    REAL\n",
              "Name: label, dtype: object"
            ]
          },
          "metadata": {
            "tags": []
          },
          "execution_count": 50
        }
      ]
    },
    {
      "cell_type": "code",
      "metadata": {
        "id": "yxkL67q6tIJ4"
      },
      "source": [
        "#DataFlair - Split the dataset\n",
        "x_train,x_test,y_train,y_test=train_test_split(df['text'], labels, test_size=0.2, random_state=7)"
      ],
      "execution_count": null,
      "outputs": []
    },
    {
      "cell_type": "code",
      "metadata": {
        "id": "G8_ifsBAtIJ4",
        "outputId": "953e784f-72fd-476f-f1c6-b39cca9c4f3a"
      },
      "source": [
        "print(x_train.shape, x_test.shape, y_train.shape, y_test.shape)"
      ],
      "execution_count": null,
      "outputs": [
        {
          "output_type": "stream",
          "text": [
            "(5068,) (1267,) (5068,) (1267,)\n"
          ],
          "name": "stdout"
        }
      ]
    },
    {
      "cell_type": "code",
      "metadata": {
        "id": "lKSX1UqjtIJ4"
      },
      "source": [
        "#DataFlair - Initialize a TfidfVectorizer\n",
        "tfidf_vectorizer=TfidfVectorizer(stop_words='english', max_df=0.7)\n",
        "#DataFlair - Fit and transform train set, transform test set\n",
        "tfidf_train=tfidf_vectorizer.fit_transform(x_train) \n",
        "tfidf_test=tfidf_vectorizer.transform(x_test)"
      ],
      "execution_count": null,
      "outputs": []
    },
    {
      "cell_type": "code",
      "metadata": {
        "id": "NJOedI3ltIJ5",
        "outputId": "1e3677cd-3595-4932-c1b7-7f514447a8b4"
      },
      "source": [
        "#DataFlair - Initialize a PassiveAggressiveClassifier\n",
        "mnb = MultinomialNB()\n",
        "mnb.fit(tfidf_train,y_train)\n",
        "\n",
        "#DataFlair - Predict on the test set and calculate accuracy\n",
        "y_pred=mnb.predict(tfidf_test)\n",
        "score=accuracy_score(y_test,y_pred)\n",
        "print(f'Accuracy: {round(score*100,2)}%')"
      ],
      "execution_count": null,
      "outputs": [
        {
          "output_type": "stream",
          "text": [
            "Accuracy: 84.06%\n"
          ],
          "name": "stdout"
        }
      ]
    },
    {
      "cell_type": "markdown",
      "metadata": {
        "id": "y5kTLJkXtIJ5"
      },
      "source": [
        "MNB has an accuracy of 84.06% compared to the Passive Aggresive Classifier with an accuracy of 92.82%."
      ]
    },
    {
      "cell_type": "code",
      "metadata": {
        "id": "-0yi0DmgtIJ5",
        "outputId": "cf632678-af5d-4ba6-93be-a53e7c7c50fa"
      },
      "source": [
        "#DataFlair - Build confusion matrix\n",
        "confusion_matrix(y_test,y_pred, labels=['FAKE','REAL'])"
      ],
      "execution_count": null,
      "outputs": [
        {
          "output_type": "execute_result",
          "data": {
            "text/plain": [
              "array([[450, 188],\n",
              "       [ 14, 615]], dtype=int64)"
            ]
          },
          "metadata": {
            "tags": []
          },
          "execution_count": 55
        }
      ]
    },
    {
      "cell_type": "code",
      "metadata": {
        "id": "6Wg3X1T0tIJ6",
        "outputId": "10ebe895-5c4e-4987-ee06-66a75ca5cb96"
      },
      "source": [
        "print(\"Number of mislabeled points out of a total %d points : %d\" % (x_test.shape[0], (y_test != y_pred).sum()))"
      ],
      "execution_count": null,
      "outputs": [
        {
          "output_type": "stream",
          "text": [
            "Number of mislabeled points out of a total 1267 points : 202\n"
          ],
          "name": "stdout"
        }
      ]
    },
    {
      "cell_type": "markdown",
      "metadata": {
        "id": "W3-x3u6ktIJ6"
      },
      "source": [
        "## Fake News Detection using (MNB) with ISOT Fake News Dataset\n",
        "\n",
        "The Fake News Dataset can be found here: https://www.uvic.ca/engineering/ece/isot/datasets/fake-news/index.php"
      ]
    },
    {
      "cell_type": "code",
      "metadata": {
        "id": "7WJApSxWtIJ6"
      },
      "source": [
        "import numpy as np\n",
        "import pandas as pd\n",
        "import itertools\n",
        "from sklearn.model_selection import train_test_split\n",
        "from sklearn.feature_extraction.text import TfidfVectorizer\n",
        "from sklearn.linear_model import PassiveAggressiveClassifier\n",
        "from sklearn.naive_bayes import MultinomialNB\n",
        "from sklearn.metrics import accuracy_score, confusion_matrix\n",
        "import os"
      ],
      "execution_count": 7,
      "outputs": []
    },
    {
      "cell_type": "code",
      "metadata": {
        "colab": {
          "base_uri": "https://localhost:8080/"
        },
        "id": "U2ss0rM1tIJ6",
        "outputId": "59781afc-6708-4e29-ee74-a72363fd154b"
      },
      "source": [
        "print(os.getcwd())"
      ],
      "execution_count": 8,
      "outputs": [
        {
          "output_type": "stream",
          "text": [
            "/content\n"
          ],
          "name": "stdout"
        }
      ]
    },
    {
      "cell_type": "code",
      "metadata": {
        "id": "A0xuhkz_tIJ7"
      },
      "source": [
        "#Load the respective data\n",
        "df_fake=pd.read_csv('Fake.csv')\n",
        "df_true=pd.read_csv('True.csv')"
      ],
      "execution_count": 9,
      "outputs": []
    },
    {
      "cell_type": "code",
      "metadata": {
        "colab": {
          "base_uri": "https://localhost:8080/",
          "height": 204
        },
        "id": "m1qRi76UtIJ7",
        "outputId": "7ca8d7ee-9343-4bcf-d626-15a271477cb2"
      },
      "source": [
        "# Check true data\n",
        "df_true.head()"
      ],
      "execution_count": 10,
      "outputs": [
        {
          "output_type": "execute_result",
          "data": {
            "text/html": [
              "<div>\n",
              "<style scoped>\n",
              "    .dataframe tbody tr th:only-of-type {\n",
              "        vertical-align: middle;\n",
              "    }\n",
              "\n",
              "    .dataframe tbody tr th {\n",
              "        vertical-align: top;\n",
              "    }\n",
              "\n",
              "    .dataframe thead th {\n",
              "        text-align: right;\n",
              "    }\n",
              "</style>\n",
              "<table border=\"1\" class=\"dataframe\">\n",
              "  <thead>\n",
              "    <tr style=\"text-align: right;\">\n",
              "      <th></th>\n",
              "      <th>title</th>\n",
              "      <th>text</th>\n",
              "      <th>subject</th>\n",
              "      <th>date</th>\n",
              "    </tr>\n",
              "  </thead>\n",
              "  <tbody>\n",
              "    <tr>\n",
              "      <th>0</th>\n",
              "      <td>As U.S. budget fight looms, Republicans flip t...</td>\n",
              "      <td>WASHINGTON (Reuters) - The head of a conservat...</td>\n",
              "      <td>politicsNews</td>\n",
              "      <td>December 31, 2017</td>\n",
              "    </tr>\n",
              "    <tr>\n",
              "      <th>1</th>\n",
              "      <td>U.S. military to accept transgender recruits o...</td>\n",
              "      <td>WASHINGTON (Reuters) - Transgender people will...</td>\n",
              "      <td>politicsNews</td>\n",
              "      <td>December 29, 2017</td>\n",
              "    </tr>\n",
              "    <tr>\n",
              "      <th>2</th>\n",
              "      <td>Senior U.S. Republican senator: 'Let Mr. Muell...</td>\n",
              "      <td>WASHINGTON (Reuters) - The special counsel inv...</td>\n",
              "      <td>politicsNews</td>\n",
              "      <td>December 31, 2017</td>\n",
              "    </tr>\n",
              "    <tr>\n",
              "      <th>3</th>\n",
              "      <td>FBI Russia probe helped by Australian diplomat...</td>\n",
              "      <td>WASHINGTON (Reuters) - Trump campaign adviser ...</td>\n",
              "      <td>politicsNews</td>\n",
              "      <td>December 30, 2017</td>\n",
              "    </tr>\n",
              "    <tr>\n",
              "      <th>4</th>\n",
              "      <td>Trump wants Postal Service to charge 'much mor...</td>\n",
              "      <td>SEATTLE/WASHINGTON (Reuters) - President Donal...</td>\n",
              "      <td>politicsNews</td>\n",
              "      <td>December 29, 2017</td>\n",
              "    </tr>\n",
              "  </tbody>\n",
              "</table>\n",
              "</div>"
            ],
            "text/plain": [
              "                                               title  ...                date\n",
              "0  As U.S. budget fight looms, Republicans flip t...  ...  December 31, 2017 \n",
              "1  U.S. military to accept transgender recruits o...  ...  December 29, 2017 \n",
              "2  Senior U.S. Republican senator: 'Let Mr. Muell...  ...  December 31, 2017 \n",
              "3  FBI Russia probe helped by Australian diplomat...  ...  December 30, 2017 \n",
              "4  Trump wants Postal Service to charge 'much mor...  ...  December 29, 2017 \n",
              "\n",
              "[5 rows x 4 columns]"
            ]
          },
          "metadata": {
            "tags": []
          },
          "execution_count": 10
        }
      ]
    },
    {
      "cell_type": "code",
      "metadata": {
        "colab": {
          "base_uri": "https://localhost:8080/"
        },
        "id": "mU5AV1_jtIJ7",
        "outputId": "cf5424a0-2790-4c58-e37f-0c6a421c7875"
      },
      "source": [
        "# Check true data info\n",
        "df_true.info()"
      ],
      "execution_count": 11,
      "outputs": [
        {
          "output_type": "stream",
          "text": [
            "<class 'pandas.core.frame.DataFrame'>\n",
            "RangeIndex: 21417 entries, 0 to 21416\n",
            "Data columns (total 4 columns):\n",
            " #   Column   Non-Null Count  Dtype \n",
            "---  ------   --------------  ----- \n",
            " 0   title    21417 non-null  object\n",
            " 1   text     21417 non-null  object\n",
            " 2   subject  21417 non-null  object\n",
            " 3   date     21417 non-null  object\n",
            "dtypes: object(4)\n",
            "memory usage: 669.4+ KB\n"
          ],
          "name": "stdout"
        }
      ]
    },
    {
      "cell_type": "code",
      "metadata": {
        "colab": {
          "base_uri": "https://localhost:8080/"
        },
        "id": "U-fw7emFtIJ7",
        "outputId": "ae48b58d-851d-439b-b7dd-6c5cb6fab4e7"
      },
      "source": [
        "# Check true data for missing values\n",
        "df_true.isnull().sum()"
      ],
      "execution_count": 12,
      "outputs": [
        {
          "output_type": "execute_result",
          "data": {
            "text/plain": [
              "title      0\n",
              "text       0\n",
              "subject    0\n",
              "date       0\n",
              "dtype: int64"
            ]
          },
          "metadata": {
            "tags": []
          },
          "execution_count": 12
        }
      ]
    },
    {
      "cell_type": "code",
      "metadata": {
        "colab": {
          "base_uri": "https://localhost:8080/",
          "height": 204
        },
        "id": "8ZZxbVzmtIJ8",
        "outputId": "fde98883-eaa9-4579-da1f-42178229551f"
      },
      "source": [
        "# Check fake data\n",
        "df_fake.head()"
      ],
      "execution_count": 13,
      "outputs": [
        {
          "output_type": "execute_result",
          "data": {
            "text/html": [
              "<div>\n",
              "<style scoped>\n",
              "    .dataframe tbody tr th:only-of-type {\n",
              "        vertical-align: middle;\n",
              "    }\n",
              "\n",
              "    .dataframe tbody tr th {\n",
              "        vertical-align: top;\n",
              "    }\n",
              "\n",
              "    .dataframe thead th {\n",
              "        text-align: right;\n",
              "    }\n",
              "</style>\n",
              "<table border=\"1\" class=\"dataframe\">\n",
              "  <thead>\n",
              "    <tr style=\"text-align: right;\">\n",
              "      <th></th>\n",
              "      <th>title</th>\n",
              "      <th>text</th>\n",
              "      <th>subject</th>\n",
              "      <th>date</th>\n",
              "    </tr>\n",
              "  </thead>\n",
              "  <tbody>\n",
              "    <tr>\n",
              "      <th>0</th>\n",
              "      <td>Donald Trump Sends Out Embarrassing New Year’...</td>\n",
              "      <td>Donald Trump just couldn t wish all Americans ...</td>\n",
              "      <td>News</td>\n",
              "      <td>December 31, 2017</td>\n",
              "    </tr>\n",
              "    <tr>\n",
              "      <th>1</th>\n",
              "      <td>Drunk Bragging Trump Staffer Started Russian ...</td>\n",
              "      <td>House Intelligence Committee Chairman Devin Nu...</td>\n",
              "      <td>News</td>\n",
              "      <td>December 31, 2017</td>\n",
              "    </tr>\n",
              "    <tr>\n",
              "      <th>2</th>\n",
              "      <td>Sheriff David Clarke Becomes An Internet Joke...</td>\n",
              "      <td>On Friday, it was revealed that former Milwauk...</td>\n",
              "      <td>News</td>\n",
              "      <td>December 30, 2017</td>\n",
              "    </tr>\n",
              "    <tr>\n",
              "      <th>3</th>\n",
              "      <td>Trump Is So Obsessed He Even Has Obama’s Name...</td>\n",
              "      <td>On Christmas day, Donald Trump announced that ...</td>\n",
              "      <td>News</td>\n",
              "      <td>December 29, 2017</td>\n",
              "    </tr>\n",
              "    <tr>\n",
              "      <th>4</th>\n",
              "      <td>Pope Francis Just Called Out Donald Trump Dur...</td>\n",
              "      <td>Pope Francis used his annual Christmas Day mes...</td>\n",
              "      <td>News</td>\n",
              "      <td>December 25, 2017</td>\n",
              "    </tr>\n",
              "  </tbody>\n",
              "</table>\n",
              "</div>"
            ],
            "text/plain": [
              "                                               title  ...               date\n",
              "0   Donald Trump Sends Out Embarrassing New Year’...  ...  December 31, 2017\n",
              "1   Drunk Bragging Trump Staffer Started Russian ...  ...  December 31, 2017\n",
              "2   Sheriff David Clarke Becomes An Internet Joke...  ...  December 30, 2017\n",
              "3   Trump Is So Obsessed He Even Has Obama’s Name...  ...  December 29, 2017\n",
              "4   Pope Francis Just Called Out Donald Trump Dur...  ...  December 25, 2017\n",
              "\n",
              "[5 rows x 4 columns]"
            ]
          },
          "metadata": {
            "tags": []
          },
          "execution_count": 13
        }
      ]
    },
    {
      "cell_type": "code",
      "metadata": {
        "colab": {
          "base_uri": "https://localhost:8080/"
        },
        "id": "fI3leArQtIJ8",
        "outputId": "ea7930f7-9b5d-4a26-cdd2-c77ac75fa392"
      },
      "source": [
        "# Check fake data info\n",
        "df_fake.info()"
      ],
      "execution_count": 14,
      "outputs": [
        {
          "output_type": "stream",
          "text": [
            "<class 'pandas.core.frame.DataFrame'>\n",
            "RangeIndex: 23481 entries, 0 to 23480\n",
            "Data columns (total 4 columns):\n",
            " #   Column   Non-Null Count  Dtype \n",
            "---  ------   --------------  ----- \n",
            " 0   title    23481 non-null  object\n",
            " 1   text     23481 non-null  object\n",
            " 2   subject  23481 non-null  object\n",
            " 3   date     23481 non-null  object\n",
            "dtypes: object(4)\n",
            "memory usage: 733.9+ KB\n"
          ],
          "name": "stdout"
        }
      ]
    },
    {
      "cell_type": "code",
      "metadata": {
        "colab": {
          "base_uri": "https://localhost:8080/"
        },
        "id": "vTmnKinZtIJ8",
        "outputId": "f2dc4328-d2e9-4dba-a2fa-7f1160ccda27"
      },
      "source": [
        "# Check fake data for missing values\n",
        "df_fake.isnull().sum()"
      ],
      "execution_count": 15,
      "outputs": [
        {
          "output_type": "execute_result",
          "data": {
            "text/plain": [
              "title      0\n",
              "text       0\n",
              "subject    0\n",
              "date       0\n",
              "dtype: int64"
            ]
          },
          "metadata": {
            "tags": []
          },
          "execution_count": 15
        }
      ]
    },
    {
      "cell_type": "markdown",
      "metadata": {
        "id": "8kFlDGXJtIJ8"
      },
      "source": [
        "## Data Preprocessing"
      ]
    },
    {
      "cell_type": "code",
      "metadata": {
        "colab": {
          "base_uri": "https://localhost:8080/",
          "height": 204
        },
        "id": "vzHWz0g-tIJ9",
        "outputId": "6f0ecfb4-7b1c-40a0-b705-e7eacf28d85e"
      },
      "source": [
        "# add a target class column to indicate whether the news is real or fake\n",
        "df_true['isfake'] = 1\n",
        "\n",
        "# Check data\n",
        "df_true.head()"
      ],
      "execution_count": 16,
      "outputs": [
        {
          "output_type": "execute_result",
          "data": {
            "text/html": [
              "<div>\n",
              "<style scoped>\n",
              "    .dataframe tbody tr th:only-of-type {\n",
              "        vertical-align: middle;\n",
              "    }\n",
              "\n",
              "    .dataframe tbody tr th {\n",
              "        vertical-align: top;\n",
              "    }\n",
              "\n",
              "    .dataframe thead th {\n",
              "        text-align: right;\n",
              "    }\n",
              "</style>\n",
              "<table border=\"1\" class=\"dataframe\">\n",
              "  <thead>\n",
              "    <tr style=\"text-align: right;\">\n",
              "      <th></th>\n",
              "      <th>title</th>\n",
              "      <th>text</th>\n",
              "      <th>subject</th>\n",
              "      <th>date</th>\n",
              "      <th>isfake</th>\n",
              "    </tr>\n",
              "  </thead>\n",
              "  <tbody>\n",
              "    <tr>\n",
              "      <th>0</th>\n",
              "      <td>As U.S. budget fight looms, Republicans flip t...</td>\n",
              "      <td>WASHINGTON (Reuters) - The head of a conservat...</td>\n",
              "      <td>politicsNews</td>\n",
              "      <td>December 31, 2017</td>\n",
              "      <td>1</td>\n",
              "    </tr>\n",
              "    <tr>\n",
              "      <th>1</th>\n",
              "      <td>U.S. military to accept transgender recruits o...</td>\n",
              "      <td>WASHINGTON (Reuters) - Transgender people will...</td>\n",
              "      <td>politicsNews</td>\n",
              "      <td>December 29, 2017</td>\n",
              "      <td>1</td>\n",
              "    </tr>\n",
              "    <tr>\n",
              "      <th>2</th>\n",
              "      <td>Senior U.S. Republican senator: 'Let Mr. Muell...</td>\n",
              "      <td>WASHINGTON (Reuters) - The special counsel inv...</td>\n",
              "      <td>politicsNews</td>\n",
              "      <td>December 31, 2017</td>\n",
              "      <td>1</td>\n",
              "    </tr>\n",
              "    <tr>\n",
              "      <th>3</th>\n",
              "      <td>FBI Russia probe helped by Australian diplomat...</td>\n",
              "      <td>WASHINGTON (Reuters) - Trump campaign adviser ...</td>\n",
              "      <td>politicsNews</td>\n",
              "      <td>December 30, 2017</td>\n",
              "      <td>1</td>\n",
              "    </tr>\n",
              "    <tr>\n",
              "      <th>4</th>\n",
              "      <td>Trump wants Postal Service to charge 'much mor...</td>\n",
              "      <td>SEATTLE/WASHINGTON (Reuters) - President Donal...</td>\n",
              "      <td>politicsNews</td>\n",
              "      <td>December 29, 2017</td>\n",
              "      <td>1</td>\n",
              "    </tr>\n",
              "  </tbody>\n",
              "</table>\n",
              "</div>"
            ],
            "text/plain": [
              "                                               title  ... isfake\n",
              "0  As U.S. budget fight looms, Republicans flip t...  ...      1\n",
              "1  U.S. military to accept transgender recruits o...  ...      1\n",
              "2  Senior U.S. Republican senator: 'Let Mr. Muell...  ...      1\n",
              "3  FBI Russia probe helped by Australian diplomat...  ...      1\n",
              "4  Trump wants Postal Service to charge 'much mor...  ...      1\n",
              "\n",
              "[5 rows x 5 columns]"
            ]
          },
          "metadata": {
            "tags": []
          },
          "execution_count": 16
        }
      ]
    },
    {
      "cell_type": "code",
      "metadata": {
        "colab": {
          "base_uri": "https://localhost:8080/",
          "height": 204
        },
        "id": "pUQjxEErtIJ9",
        "outputId": "51cc2705-0974-49b0-f7f5-3a7973eb9ace"
      },
      "source": [
        "# add a target class column to indicate whether the news is real or fake\n",
        "df_fake['isfake'] = 0\n",
        "\n",
        "# Check data\n",
        "df_fake.head()"
      ],
      "execution_count": 17,
      "outputs": [
        {
          "output_type": "execute_result",
          "data": {
            "text/html": [
              "<div>\n",
              "<style scoped>\n",
              "    .dataframe tbody tr th:only-of-type {\n",
              "        vertical-align: middle;\n",
              "    }\n",
              "\n",
              "    .dataframe tbody tr th {\n",
              "        vertical-align: top;\n",
              "    }\n",
              "\n",
              "    .dataframe thead th {\n",
              "        text-align: right;\n",
              "    }\n",
              "</style>\n",
              "<table border=\"1\" class=\"dataframe\">\n",
              "  <thead>\n",
              "    <tr style=\"text-align: right;\">\n",
              "      <th></th>\n",
              "      <th>title</th>\n",
              "      <th>text</th>\n",
              "      <th>subject</th>\n",
              "      <th>date</th>\n",
              "      <th>isfake</th>\n",
              "    </tr>\n",
              "  </thead>\n",
              "  <tbody>\n",
              "    <tr>\n",
              "      <th>0</th>\n",
              "      <td>Donald Trump Sends Out Embarrassing New Year’...</td>\n",
              "      <td>Donald Trump just couldn t wish all Americans ...</td>\n",
              "      <td>News</td>\n",
              "      <td>December 31, 2017</td>\n",
              "      <td>0</td>\n",
              "    </tr>\n",
              "    <tr>\n",
              "      <th>1</th>\n",
              "      <td>Drunk Bragging Trump Staffer Started Russian ...</td>\n",
              "      <td>House Intelligence Committee Chairman Devin Nu...</td>\n",
              "      <td>News</td>\n",
              "      <td>December 31, 2017</td>\n",
              "      <td>0</td>\n",
              "    </tr>\n",
              "    <tr>\n",
              "      <th>2</th>\n",
              "      <td>Sheriff David Clarke Becomes An Internet Joke...</td>\n",
              "      <td>On Friday, it was revealed that former Milwauk...</td>\n",
              "      <td>News</td>\n",
              "      <td>December 30, 2017</td>\n",
              "      <td>0</td>\n",
              "    </tr>\n",
              "    <tr>\n",
              "      <th>3</th>\n",
              "      <td>Trump Is So Obsessed He Even Has Obama’s Name...</td>\n",
              "      <td>On Christmas day, Donald Trump announced that ...</td>\n",
              "      <td>News</td>\n",
              "      <td>December 29, 2017</td>\n",
              "      <td>0</td>\n",
              "    </tr>\n",
              "    <tr>\n",
              "      <th>4</th>\n",
              "      <td>Pope Francis Just Called Out Donald Trump Dur...</td>\n",
              "      <td>Pope Francis used his annual Christmas Day mes...</td>\n",
              "      <td>News</td>\n",
              "      <td>December 25, 2017</td>\n",
              "      <td>0</td>\n",
              "    </tr>\n",
              "  </tbody>\n",
              "</table>\n",
              "</div>"
            ],
            "text/plain": [
              "                                               title  ... isfake\n",
              "0   Donald Trump Sends Out Embarrassing New Year’...  ...      0\n",
              "1   Drunk Bragging Trump Staffer Started Russian ...  ...      0\n",
              "2   Sheriff David Clarke Becomes An Internet Joke...  ...      0\n",
              "3   Trump Is So Obsessed He Even Has Obama’s Name...  ...      0\n",
              "4   Pope Francis Just Called Out Donald Trump Dur...  ...      0\n",
              "\n",
              "[5 rows x 5 columns]"
            ]
          },
          "metadata": {
            "tags": []
          },
          "execution_count": 17
        }
      ]
    },
    {
      "cell_type": "code",
      "metadata": {
        "id": "WLeMS9qqtIJ9"
      },
      "source": [
        "# Concatenate Real and Fake News\n",
        "df = pd.concat([df_true, df_fake]).reset_index(drop = True)"
      ],
      "execution_count": 18,
      "outputs": []
    },
    {
      "cell_type": "code",
      "metadata": {
        "colab": {
          "base_uri": "https://localhost:8080/",
          "height": 204
        },
        "id": "89FGT8eYtIJ9",
        "outputId": "14ea311d-0d4e-4c8a-a2b1-698217f2640d"
      },
      "source": [
        "# Check data\n",
        "df.head()"
      ],
      "execution_count": 19,
      "outputs": [
        {
          "output_type": "execute_result",
          "data": {
            "text/html": [
              "<div>\n",
              "<style scoped>\n",
              "    .dataframe tbody tr th:only-of-type {\n",
              "        vertical-align: middle;\n",
              "    }\n",
              "\n",
              "    .dataframe tbody tr th {\n",
              "        vertical-align: top;\n",
              "    }\n",
              "\n",
              "    .dataframe thead th {\n",
              "        text-align: right;\n",
              "    }\n",
              "</style>\n",
              "<table border=\"1\" class=\"dataframe\">\n",
              "  <thead>\n",
              "    <tr style=\"text-align: right;\">\n",
              "      <th></th>\n",
              "      <th>title</th>\n",
              "      <th>text</th>\n",
              "      <th>subject</th>\n",
              "      <th>date</th>\n",
              "      <th>isfake</th>\n",
              "    </tr>\n",
              "  </thead>\n",
              "  <tbody>\n",
              "    <tr>\n",
              "      <th>0</th>\n",
              "      <td>As U.S. budget fight looms, Republicans flip t...</td>\n",
              "      <td>WASHINGTON (Reuters) - The head of a conservat...</td>\n",
              "      <td>politicsNews</td>\n",
              "      <td>December 31, 2017</td>\n",
              "      <td>1</td>\n",
              "    </tr>\n",
              "    <tr>\n",
              "      <th>1</th>\n",
              "      <td>U.S. military to accept transgender recruits o...</td>\n",
              "      <td>WASHINGTON (Reuters) - Transgender people will...</td>\n",
              "      <td>politicsNews</td>\n",
              "      <td>December 29, 2017</td>\n",
              "      <td>1</td>\n",
              "    </tr>\n",
              "    <tr>\n",
              "      <th>2</th>\n",
              "      <td>Senior U.S. Republican senator: 'Let Mr. Muell...</td>\n",
              "      <td>WASHINGTON (Reuters) - The special counsel inv...</td>\n",
              "      <td>politicsNews</td>\n",
              "      <td>December 31, 2017</td>\n",
              "      <td>1</td>\n",
              "    </tr>\n",
              "    <tr>\n",
              "      <th>3</th>\n",
              "      <td>FBI Russia probe helped by Australian diplomat...</td>\n",
              "      <td>WASHINGTON (Reuters) - Trump campaign adviser ...</td>\n",
              "      <td>politicsNews</td>\n",
              "      <td>December 30, 2017</td>\n",
              "      <td>1</td>\n",
              "    </tr>\n",
              "    <tr>\n",
              "      <th>4</th>\n",
              "      <td>Trump wants Postal Service to charge 'much mor...</td>\n",
              "      <td>SEATTLE/WASHINGTON (Reuters) - President Donal...</td>\n",
              "      <td>politicsNews</td>\n",
              "      <td>December 29, 2017</td>\n",
              "      <td>1</td>\n",
              "    </tr>\n",
              "  </tbody>\n",
              "</table>\n",
              "</div>"
            ],
            "text/plain": [
              "                                               title  ... isfake\n",
              "0  As U.S. budget fight looms, Republicans flip t...  ...      1\n",
              "1  U.S. military to accept transgender recruits o...  ...      1\n",
              "2  Senior U.S. Republican senator: 'Let Mr. Muell...  ...      1\n",
              "3  FBI Russia probe helped by Australian diplomat...  ...      1\n",
              "4  Trump wants Postal Service to charge 'much mor...  ...      1\n",
              "\n",
              "[5 rows x 5 columns]"
            ]
          },
          "metadata": {
            "tags": []
          },
          "execution_count": 19
        }
      ]
    },
    {
      "cell_type": "code",
      "metadata": {
        "colab": {
          "base_uri": "https://localhost:8080/",
          "height": 204
        },
        "id": "eTdsB29PtIJ-",
        "outputId": "bac4646a-f11f-4154-e045-82959b75102a"
      },
      "source": [
        "# Check data\n",
        "df.tail()"
      ],
      "execution_count": 20,
      "outputs": [
        {
          "output_type": "execute_result",
          "data": {
            "text/html": [
              "<div>\n",
              "<style scoped>\n",
              "    .dataframe tbody tr th:only-of-type {\n",
              "        vertical-align: middle;\n",
              "    }\n",
              "\n",
              "    .dataframe tbody tr th {\n",
              "        vertical-align: top;\n",
              "    }\n",
              "\n",
              "    .dataframe thead th {\n",
              "        text-align: right;\n",
              "    }\n",
              "</style>\n",
              "<table border=\"1\" class=\"dataframe\">\n",
              "  <thead>\n",
              "    <tr style=\"text-align: right;\">\n",
              "      <th></th>\n",
              "      <th>title</th>\n",
              "      <th>text</th>\n",
              "      <th>subject</th>\n",
              "      <th>date</th>\n",
              "      <th>isfake</th>\n",
              "    </tr>\n",
              "  </thead>\n",
              "  <tbody>\n",
              "    <tr>\n",
              "      <th>44893</th>\n",
              "      <td>McPain: John McCain Furious That Iran Treated ...</td>\n",
              "      <td>21st Century Wire says As 21WIRE reported earl...</td>\n",
              "      <td>Middle-east</td>\n",
              "      <td>January 16, 2016</td>\n",
              "      <td>0</td>\n",
              "    </tr>\n",
              "    <tr>\n",
              "      <th>44894</th>\n",
              "      <td>JUSTICE? Yahoo Settles E-mail Privacy Class-ac...</td>\n",
              "      <td>21st Century Wire says It s a familiar theme. ...</td>\n",
              "      <td>Middle-east</td>\n",
              "      <td>January 16, 2016</td>\n",
              "      <td>0</td>\n",
              "    </tr>\n",
              "    <tr>\n",
              "      <th>44895</th>\n",
              "      <td>Sunnistan: US and Allied ‘Safe Zone’ Plan to T...</td>\n",
              "      <td>Patrick Henningsen  21st Century WireRemember ...</td>\n",
              "      <td>Middle-east</td>\n",
              "      <td>January 15, 2016</td>\n",
              "      <td>0</td>\n",
              "    </tr>\n",
              "    <tr>\n",
              "      <th>44896</th>\n",
              "      <td>How to Blow $700 Million: Al Jazeera America F...</td>\n",
              "      <td>21st Century Wire says Al Jazeera America will...</td>\n",
              "      <td>Middle-east</td>\n",
              "      <td>January 14, 2016</td>\n",
              "      <td>0</td>\n",
              "    </tr>\n",
              "    <tr>\n",
              "      <th>44897</th>\n",
              "      <td>10 U.S. Navy Sailors Held by Iranian Military ...</td>\n",
              "      <td>21st Century Wire says As 21WIRE predicted in ...</td>\n",
              "      <td>Middle-east</td>\n",
              "      <td>January 12, 2016</td>\n",
              "      <td>0</td>\n",
              "    </tr>\n",
              "  </tbody>\n",
              "</table>\n",
              "</div>"
            ],
            "text/plain": [
              "                                                   title  ... isfake\n",
              "44893  McPain: John McCain Furious That Iran Treated ...  ...      0\n",
              "44894  JUSTICE? Yahoo Settles E-mail Privacy Class-ac...  ...      0\n",
              "44895  Sunnistan: US and Allied ‘Safe Zone’ Plan to T...  ...      0\n",
              "44896  How to Blow $700 Million: Al Jazeera America F...  ...      0\n",
              "44897  10 U.S. Navy Sailors Held by Iranian Military ...  ...      0\n",
              "\n",
              "[5 rows x 5 columns]"
            ]
          },
          "metadata": {
            "tags": []
          },
          "execution_count": 20
        }
      ]
    },
    {
      "cell_type": "code",
      "metadata": {
        "id": "mIi6eZp9tIJ-"
      },
      "source": [
        "# Drop column\n",
        "df.drop(columns = ['date'], inplace = True)"
      ],
      "execution_count": 21,
      "outputs": []
    },
    {
      "cell_type": "code",
      "metadata": {
        "colab": {
          "base_uri": "https://localhost:8080/",
          "height": 204
        },
        "id": "yr3e9uUUtIJ-",
        "outputId": "eabf3682-8189-4d3c-afaa-df8bdcb34773"
      },
      "source": [
        "# Combine title and text together\n",
        "df['original'] = df['title'] + ' ' + df['text']\n",
        "df.head()"
      ],
      "execution_count": 22,
      "outputs": [
        {
          "output_type": "execute_result",
          "data": {
            "text/html": [
              "<div>\n",
              "<style scoped>\n",
              "    .dataframe tbody tr th:only-of-type {\n",
              "        vertical-align: middle;\n",
              "    }\n",
              "\n",
              "    .dataframe tbody tr th {\n",
              "        vertical-align: top;\n",
              "    }\n",
              "\n",
              "    .dataframe thead th {\n",
              "        text-align: right;\n",
              "    }\n",
              "</style>\n",
              "<table border=\"1\" class=\"dataframe\">\n",
              "  <thead>\n",
              "    <tr style=\"text-align: right;\">\n",
              "      <th></th>\n",
              "      <th>title</th>\n",
              "      <th>text</th>\n",
              "      <th>subject</th>\n",
              "      <th>isfake</th>\n",
              "      <th>original</th>\n",
              "    </tr>\n",
              "  </thead>\n",
              "  <tbody>\n",
              "    <tr>\n",
              "      <th>0</th>\n",
              "      <td>As U.S. budget fight looms, Republicans flip t...</td>\n",
              "      <td>WASHINGTON (Reuters) - The head of a conservat...</td>\n",
              "      <td>politicsNews</td>\n",
              "      <td>1</td>\n",
              "      <td>As U.S. budget fight looms, Republicans flip t...</td>\n",
              "    </tr>\n",
              "    <tr>\n",
              "      <th>1</th>\n",
              "      <td>U.S. military to accept transgender recruits o...</td>\n",
              "      <td>WASHINGTON (Reuters) - Transgender people will...</td>\n",
              "      <td>politicsNews</td>\n",
              "      <td>1</td>\n",
              "      <td>U.S. military to accept transgender recruits o...</td>\n",
              "    </tr>\n",
              "    <tr>\n",
              "      <th>2</th>\n",
              "      <td>Senior U.S. Republican senator: 'Let Mr. Muell...</td>\n",
              "      <td>WASHINGTON (Reuters) - The special counsel inv...</td>\n",
              "      <td>politicsNews</td>\n",
              "      <td>1</td>\n",
              "      <td>Senior U.S. Republican senator: 'Let Mr. Muell...</td>\n",
              "    </tr>\n",
              "    <tr>\n",
              "      <th>3</th>\n",
              "      <td>FBI Russia probe helped by Australian diplomat...</td>\n",
              "      <td>WASHINGTON (Reuters) - Trump campaign adviser ...</td>\n",
              "      <td>politicsNews</td>\n",
              "      <td>1</td>\n",
              "      <td>FBI Russia probe helped by Australian diplomat...</td>\n",
              "    </tr>\n",
              "    <tr>\n",
              "      <th>4</th>\n",
              "      <td>Trump wants Postal Service to charge 'much mor...</td>\n",
              "      <td>SEATTLE/WASHINGTON (Reuters) - President Donal...</td>\n",
              "      <td>politicsNews</td>\n",
              "      <td>1</td>\n",
              "      <td>Trump wants Postal Service to charge 'much mor...</td>\n",
              "    </tr>\n",
              "  </tbody>\n",
              "</table>\n",
              "</div>"
            ],
            "text/plain": [
              "                                               title  ...                                           original\n",
              "0  As U.S. budget fight looms, Republicans flip t...  ...  As U.S. budget fight looms, Republicans flip t...\n",
              "1  U.S. military to accept transgender recruits o...  ...  U.S. military to accept transgender recruits o...\n",
              "2  Senior U.S. Republican senator: 'Let Mr. Muell...  ...  Senior U.S. Republican senator: 'Let Mr. Muell...\n",
              "3  FBI Russia probe helped by Australian diplomat...  ...  FBI Russia probe helped by Australian diplomat...\n",
              "4  Trump wants Postal Service to charge 'much mor...  ...  Trump wants Postal Service to charge 'much mor...\n",
              "\n",
              "[5 rows x 5 columns]"
            ]
          },
          "metadata": {
            "tags": []
          },
          "execution_count": 22
        }
      ]
    },
    {
      "cell_type": "code",
      "metadata": {
        "colab": {
          "base_uri": "https://localhost:8080/",
          "height": 120
        },
        "id": "KGShu5MttIJ-",
        "outputId": "8b80380c-03b3-477c-9396-b061c2bd6536"
      },
      "source": [
        "# Check data sample\n",
        "df['original'][0]"
      ],
      "execution_count": 23,
      "outputs": [
        {
          "output_type": "execute_result",
          "data": {
            "application/vnd.google.colaboratory.intrinsic+json": {
              "type": "string"
            },
            "text/plain": [
              "'As U.S. budget fight looms, Republicans flip their fiscal script WASHINGTON (Reuters) - The head of a conservative Republican faction in the U.S. Congress, who voted this month for a huge expansion of the national debt to pay for tax cuts, called himself a “fiscal conservative” on Sunday and urged budget restraint in 2018. In keeping with a sharp pivot under way among Republicans, U.S. Representative Mark Meadows, speaking on CBS’ “Face the Nation,” drew a hard line on federal spending, which lawmakers are bracing to do battle over in January. When they return from the holidays on Wednesday, lawmakers will begin trying to pass a federal budget in a fight likely to be linked to other issues, such as immigration policy, even as the November congressional election campaigns approach in which Republicans will seek to keep control of Congress. President Donald Trump and his Republicans want a big budget increase in military spending, while Democrats also want proportional increases for non-defense “discretionary” spending on programs that support education, scientific research, infrastructure, public health and environmental protection. “The (Trump) administration has already been willing to say: ‘We’re going to increase non-defense discretionary spending ... by about 7 percent,’” Meadows, chairman of the small but influential House Freedom Caucus, said on the program. “Now, Democrats are saying that’s not enough, we need to give the government a pay raise of 10 to 11 percent. For a fiscal conservative, I don’t see where the rationale is. ... Eventually you run out of other people’s money,” he said. Meadows was among Republicans who voted in late December for their party’s debt-financed tax overhaul, which is expected to balloon the federal budget deficit and add about $1.5 trillion over 10 years to the $20 trillion national debt. “It’s interesting to hear Mark talk about fiscal responsibility,” Democratic U.S. Representative Joseph Crowley said on CBS. Crowley said the Republican tax bill would require the  United States to borrow $1.5 trillion, to be paid off by future generations, to finance tax cuts for corporations and the rich. “This is one of the least ... fiscally responsible bills we’ve ever seen passed in the history of the House of Representatives. I think we’re going to be paying for this for many, many years to come,” Crowley said. Republicans insist the tax package, the biggest U.S. tax overhaul in more than 30 years,  will boost the economy and job growth. House Speaker Paul Ryan, who also supported the tax bill, recently went further than Meadows, making clear in a radio interview that welfare or “entitlement reform,” as the party often calls it, would be a top Republican priority in 2018. In Republican parlance, “entitlement” programs mean food stamps, housing assistance, Medicare and Medicaid health insurance for the elderly, poor and disabled, as well as other programs created by Washington to assist the needy. Democrats seized on Ryan’s early December remarks, saying they showed Republicans would try to pay for their tax overhaul by seeking spending cuts for social programs. But the goals of House Republicans may have to take a back seat to the Senate, where the votes of some Democrats will be needed to approve a budget and prevent a government shutdown. Democrats will use their leverage in the Senate, which Republicans narrowly control, to defend both discretionary non-defense programs and social spending, while tackling the issue of the “Dreamers,” people brought illegally to the country as children. Trump in September put a March 2018 expiration date on the Deferred Action for Childhood Arrivals, or DACA, program, which protects the young immigrants from deportation and provides them with work permits. The president has said in recent Twitter messages he wants funding for his proposed Mexican border wall and other immigration law changes in exchange for agreeing to help the Dreamers. Representative Debbie Dingell told CBS she did not favor linking that issue to other policy objectives, such as wall funding. “We need to do DACA clean,” she said.  On Wednesday, Trump aides will meet with congressional leaders to discuss those issues. That will be followed by a weekend of strategy sessions for Trump and Republican leaders on Jan. 6 and 7, the White House said. Trump was also scheduled to meet on Sunday with Florida Republican Governor Rick Scott, who wants more emergency aid. The House has passed an $81 billion aid package after hurricanes in Florida, Texas and Puerto Rico, and wildfires in California. The package far exceeded the $44 billion requested by the Trump administration. The Senate has not yet voted on the aid. '"
            ]
          },
          "metadata": {
            "tags": []
          },
          "execution_count": 23
        }
      ]
    },
    {
      "cell_type": "code",
      "metadata": {
        "colab": {
          "base_uri": "https://localhost:8080/",
          "height": 120
        },
        "id": "8GxNytO9tIJ-",
        "outputId": "aa0ffa54-3a10-48fe-8e49-51f1e22308c9"
      },
      "source": [
        "# Check data sample\n",
        "df['original'][1]"
      ],
      "execution_count": 24,
      "outputs": [
        {
          "output_type": "execute_result",
          "data": {
            "application/vnd.google.colaboratory.intrinsic+json": {
              "type": "string"
            },
            "text/plain": [
              "'U.S. military to accept transgender recruits on Monday: Pentagon WASHINGTON (Reuters) - Transgender people will be allowed for the first time to enlist in the U.S. military starting on Monday as ordered by federal courts, the Pentagon said on Friday, after President Donald Trump’s administration decided not to appeal rulings that blocked his transgender ban. Two federal appeals courts, one in Washington and one in Virginia, last week rejected the administration’s request to put on hold orders by lower court judges requiring the military to begin accepting transgender recruits on Jan. 1. A Justice Department official said the administration will not challenge those rulings. “The Department of Defense has announced that it will be releasing an independent study of these issues in the coming weeks. So rather than litigate this interim appeal before that occurs, the administration has decided to wait for DOD’s study and will continue to defend the president’s lawful authority in District Court in the meantime,” the official said, speaking on condition of anonymity. In September, the Pentagon said it had created a panel of senior officials to study how to implement a directive by Trump to prohibit transgender individuals from serving. The Defense Department has until Feb. 21 to submit a plan to Trump. Lawyers representing currently-serving transgender service members and aspiring recruits said they had expected the administration to appeal the rulings to the conservative-majority Supreme Court, but were hoping that would not happen. Pentagon spokeswoman Heather Babb said in a statement: “As mandated by court order, the Department of Defense is prepared to begin accessing transgender applicants for military service Jan. 1. All applicants must meet all accession standards.” Jennifer Levi, a lawyer with gay, lesbian and transgender advocacy group GLAD, called the decision not to appeal “great news.” “I’m hoping it means the government has come to see that there is no way to justify a ban and that it’s not good for the military or our country,” Levi said. Both GLAD and the American Civil Liberties Union represent plaintiffs in the lawsuits filed against the administration. In a move that appealed to his hard-line conservative supporters, Trump announced in July that he would prohibit transgender people from serving in the military, reversing Democratic President Barack Obama’s policy of accepting them. Trump said on Twitter at the time that the military “cannot be burdened with the tremendous medical costs and disruption that transgender in the military would entail.” Four federal judges - in Baltimore, Washington, D.C., Seattle and Riverside, California - have issued rulings blocking Trump’s ban while legal challenges to the Republican president’s policy proceed. The judges said the ban would likely violate the right under the U.S. Constitution to equal protection under the law. The Pentagon on Dec. 8 issued guidelines to recruitment personnel in order to enlist transgender applicants by Jan. 1. The memo outlined medical requirements and specified how the applicants’ sex would be identified and even which undergarments they would wear. The Trump administration previously said in legal papers that the armed forces were not prepared to train thousands of personnel on the medical standards needed to process transgender applicants and might have to accept “some individuals who are not medically fit for service.” The Obama administration had set a deadline of July 1, 2017, to begin accepting transgender recruits. But Trump’s defense secretary, James Mattis, postponed that date to Jan. 1, 2018, which the president’s ban then put off indefinitely. Trump has taken other steps aimed at rolling back transgender rights. In October, his administration said a federal law banning gender-based workplace discrimination does not protect transgender employees, reversing another Obama-era position. In February, Trump rescinded guidance issued by the Obama administration saying that public schools should allow transgender students to use the restroom that corresponds to their gender identity. '"
            ]
          },
          "metadata": {
            "tags": []
          },
          "execution_count": 24
        }
      ]
    },
    {
      "cell_type": "code",
      "metadata": {
        "colab": {
          "base_uri": "https://localhost:8080/"
        },
        "id": "hSclYYyptIJ_",
        "outputId": "1bc279bf-a720-4fd4-e70d-3f611d74ed83"
      },
      "source": [
        "#DataFlair - Get the labels\n",
        "labels=df.isfake\n",
        "labels.head()"
      ],
      "execution_count": 26,
      "outputs": [
        {
          "output_type": "execute_result",
          "data": {
            "text/plain": [
              "0    1\n",
              "1    1\n",
              "2    1\n",
              "3    1\n",
              "4    1\n",
              "Name: isfake, dtype: int64"
            ]
          },
          "metadata": {
            "tags": []
          },
          "execution_count": 26
        }
      ]
    },
    {
      "cell_type": "code",
      "metadata": {
        "id": "BlxEhgd8tIJ_"
      },
      "source": [
        "#DataFlair - Split the dataset\n",
        "x_train,x_test,y_train,y_test=train_test_split(df['original'], labels, test_size=0.2, random_state=7)"
      ],
      "execution_count": 27,
      "outputs": []
    },
    {
      "cell_type": "code",
      "metadata": {
        "colab": {
          "base_uri": "https://localhost:8080/"
        },
        "id": "WgzG40UwtIJ_",
        "outputId": "835216f2-8ec3-4350-d01a-efba10ee4069"
      },
      "source": [
        "print(x_train.shape, x_test.shape, y_train.shape, y_test.shape)"
      ],
      "execution_count": 28,
      "outputs": [
        {
          "output_type": "stream",
          "text": [
            "(35918,) (8980,) (35918,) (8980,)\n"
          ],
          "name": "stdout"
        }
      ]
    },
    {
      "cell_type": "code",
      "metadata": {
        "id": "U-Z5dK7NtIJ_"
      },
      "source": [
        "#DataFlair - Initialize a TfidfVectorizer\n",
        "tfidf_vectorizer=TfidfVectorizer(stop_words='english', max_df=0.7)\n",
        "#DataFlair - Fit and transform train set, transform test set\n",
        "tfidf_train=tfidf_vectorizer.fit_transform(x_train) \n",
        "tfidf_test=tfidf_vectorizer.transform(x_test)"
      ],
      "execution_count": 29,
      "outputs": []
    },
    {
      "cell_type": "code",
      "metadata": {
        "colab": {
          "base_uri": "https://localhost:8080/"
        },
        "id": "Nj4YbZC5tIKA",
        "outputId": "a3644a9f-897e-4734-8cb7-69959291b5d7"
      },
      "source": [
        "#DataFlair - Initialize a PassiveAggressiveClassifier\n",
        "mnb = MultinomialNB()\n",
        "mnb.fit(tfidf_train,y_train)\n",
        "\n",
        "#DataFlair - Predict on the test set and calculate accuracy\n",
        "y_pred=mnb.predict(tfidf_test)\n",
        "score=accuracy_score(y_test,y_pred)\n",
        "print(f'Accuracy: {round(score*100,2)}%')"
      ],
      "execution_count": 30,
      "outputs": [
        {
          "output_type": "stream",
          "text": [
            "Accuracy: 93.8%\n"
          ],
          "name": "stdout"
        }
      ]
    },
    {
      "cell_type": "code",
      "metadata": {
        "colab": {
          "base_uri": "https://localhost:8080/"
        },
        "id": "hC1s_4dJtIKA",
        "outputId": "36344a18-98cb-4bf5-d561-1b854b1ba1ed"
      },
      "source": [
        "#DataFlair - Build confusion matrix\n",
        "confusion_matrix(y_test,y_pred, labels=[0,1])"
      ],
      "execution_count": 31,
      "outputs": [
        {
          "output_type": "execute_result",
          "data": {
            "text/plain": [
              "array([[4427,  248],\n",
              "       [ 309, 3996]])"
            ]
          },
          "metadata": {
            "tags": []
          },
          "execution_count": 31
        }
      ]
    },
    {
      "cell_type": "code",
      "metadata": {
        "colab": {
          "base_uri": "https://localhost:8080/"
        },
        "id": "xDYtls3XtIKA",
        "outputId": "de04b4d0-233b-4a50-ec26-71190f89f621"
      },
      "source": [
        "print(\"Number of mislabeled points out of a total %d points : %d\" % (x_test.shape[0], (y_test != y_pred).sum()))"
      ],
      "execution_count": 32,
      "outputs": [
        {
          "output_type": "stream",
          "text": [
            "Number of mislabeled points out of a total 8980 points : 557\n"
          ],
          "name": "stdout"
        }
      ]
    },
    {
      "cell_type": "markdown",
      "metadata": {
        "id": "HcldUKN0TlNR"
      },
      "source": [
        "# Fake News Detection using (MNB) with LIAR News Dataset"
      ]
    },
    {
      "cell_type": "code",
      "metadata": {
        "id": "GYzuSNLhTzWe"
      },
      "source": [
        "import numpy as np\n",
        "import pandas as pd\n",
        "import itertools\n",
        "from sklearn.model_selection import train_test_split\n",
        "from sklearn.feature_extraction.text import TfidfVectorizer\n",
        "from sklearn.linear_model import PassiveAggressiveClassifier\n",
        "from sklearn.naive_bayes import MultinomialNB\n",
        "from sklearn.metrics import accuracy_score, confusion_matrix\n",
        "import os"
      ],
      "execution_count": 3,
      "outputs": []
    },
    {
      "cell_type": "code",
      "metadata": {
        "id": "kbbfT-PCW46b"
      },
      "source": [
        "#Load the respective data\n",
        "header_names = ['ID','label','statement','subject','speaker','job title','state','party','hist_barely','hist_false','hist_half_true','hist_mostly_true','hist_pants_on_fire','location']\n",
        "df_train=pd.read_csv('train.tsv',sep='\\t',names=header_names)\n",
        "df_val=pd.read_csv('test.tsv',sep='\\t', names=header_names)\n",
        "df_test=pd.read_csv('test.tsv',sep='\\t', names = header_names)"
      ],
      "execution_count": 23,
      "outputs": []
    },
    {
      "cell_type": "code",
      "metadata": {
        "colab": {
          "base_uri": "https://localhost:8080/",
          "height": 374
        },
        "id": "EgMmTB9EXhEe",
        "outputId": "0ca552c0-0959-4a4a-8bd2-7e5bfd7ccc19"
      },
      "source": [
        "# Check true data\n",
        "df_train.head()"
      ],
      "execution_count": 24,
      "outputs": [
        {
          "output_type": "execute_result",
          "data": {
            "text/html": [
              "<div>\n",
              "<style scoped>\n",
              "    .dataframe tbody tr th:only-of-type {\n",
              "        vertical-align: middle;\n",
              "    }\n",
              "\n",
              "    .dataframe tbody tr th {\n",
              "        vertical-align: top;\n",
              "    }\n",
              "\n",
              "    .dataframe thead th {\n",
              "        text-align: right;\n",
              "    }\n",
              "</style>\n",
              "<table border=\"1\" class=\"dataframe\">\n",
              "  <thead>\n",
              "    <tr style=\"text-align: right;\">\n",
              "      <th></th>\n",
              "      <th>ID</th>\n",
              "      <th>label</th>\n",
              "      <th>statement</th>\n",
              "      <th>subject</th>\n",
              "      <th>speaker</th>\n",
              "      <th>job title</th>\n",
              "      <th>state</th>\n",
              "      <th>party</th>\n",
              "      <th>hist_barely</th>\n",
              "      <th>hist_false</th>\n",
              "      <th>hist_half_true</th>\n",
              "      <th>hist_mostly_true</th>\n",
              "      <th>hist_pants_on_fire</th>\n",
              "      <th>location</th>\n",
              "    </tr>\n",
              "  </thead>\n",
              "  <tbody>\n",
              "    <tr>\n",
              "      <th>0</th>\n",
              "      <td>2635.json</td>\n",
              "      <td>false</td>\n",
              "      <td>Says the Annies List political group supports ...</td>\n",
              "      <td>abortion</td>\n",
              "      <td>dwayne-bohac</td>\n",
              "      <td>State representative</td>\n",
              "      <td>Texas</td>\n",
              "      <td>republican</td>\n",
              "      <td>0.0</td>\n",
              "      <td>1.0</td>\n",
              "      <td>0.0</td>\n",
              "      <td>0.0</td>\n",
              "      <td>0.0</td>\n",
              "      <td>a mailer</td>\n",
              "    </tr>\n",
              "    <tr>\n",
              "      <th>1</th>\n",
              "      <td>10540.json</td>\n",
              "      <td>half-true</td>\n",
              "      <td>When did the decline of coal start? It started...</td>\n",
              "      <td>energy,history,job-accomplishments</td>\n",
              "      <td>scott-surovell</td>\n",
              "      <td>State delegate</td>\n",
              "      <td>Virginia</td>\n",
              "      <td>democrat</td>\n",
              "      <td>0.0</td>\n",
              "      <td>0.0</td>\n",
              "      <td>1.0</td>\n",
              "      <td>1.0</td>\n",
              "      <td>0.0</td>\n",
              "      <td>a floor speech.</td>\n",
              "    </tr>\n",
              "    <tr>\n",
              "      <th>2</th>\n",
              "      <td>324.json</td>\n",
              "      <td>mostly-true</td>\n",
              "      <td>Hillary Clinton agrees with John McCain \"by vo...</td>\n",
              "      <td>foreign-policy</td>\n",
              "      <td>barack-obama</td>\n",
              "      <td>President</td>\n",
              "      <td>Illinois</td>\n",
              "      <td>democrat</td>\n",
              "      <td>70.0</td>\n",
              "      <td>71.0</td>\n",
              "      <td>160.0</td>\n",
              "      <td>163.0</td>\n",
              "      <td>9.0</td>\n",
              "      <td>Denver</td>\n",
              "    </tr>\n",
              "    <tr>\n",
              "      <th>3</th>\n",
              "      <td>1123.json</td>\n",
              "      <td>false</td>\n",
              "      <td>Health care reform legislation is likely to ma...</td>\n",
              "      <td>health-care</td>\n",
              "      <td>blog-posting</td>\n",
              "      <td>NaN</td>\n",
              "      <td>NaN</td>\n",
              "      <td>none</td>\n",
              "      <td>7.0</td>\n",
              "      <td>19.0</td>\n",
              "      <td>3.0</td>\n",
              "      <td>5.0</td>\n",
              "      <td>44.0</td>\n",
              "      <td>a news release</td>\n",
              "    </tr>\n",
              "    <tr>\n",
              "      <th>4</th>\n",
              "      <td>9028.json</td>\n",
              "      <td>half-true</td>\n",
              "      <td>The economic turnaround started at the end of ...</td>\n",
              "      <td>economy,jobs</td>\n",
              "      <td>charlie-crist</td>\n",
              "      <td>NaN</td>\n",
              "      <td>Florida</td>\n",
              "      <td>democrat</td>\n",
              "      <td>15.0</td>\n",
              "      <td>9.0</td>\n",
              "      <td>20.0</td>\n",
              "      <td>19.0</td>\n",
              "      <td>2.0</td>\n",
              "      <td>an interview on CNN</td>\n",
              "    </tr>\n",
              "  </tbody>\n",
              "</table>\n",
              "</div>"
            ],
            "text/plain": [
              "           ID        label  ... hist_pants_on_fire             location\n",
              "0   2635.json        false  ...                0.0             a mailer\n",
              "1  10540.json    half-true  ...                0.0      a floor speech.\n",
              "2    324.json  mostly-true  ...                9.0               Denver\n",
              "3   1123.json        false  ...               44.0       a news release\n",
              "4   9028.json    half-true  ...                2.0  an interview on CNN\n",
              "\n",
              "[5 rows x 14 columns]"
            ]
          },
          "metadata": {
            "tags": []
          },
          "execution_count": 24
        }
      ]
    },
    {
      "cell_type": "code",
      "metadata": {
        "colab": {
          "base_uri": "https://localhost:8080/",
          "height": 561
        },
        "id": "VpikkMFPgmC1",
        "outputId": "41182a49-5e30-4386-c6be-f52025562c4b"
      },
      "source": [
        "df_val.head()"
      ],
      "execution_count": 25,
      "outputs": [
        {
          "output_type": "execute_result",
          "data": {
            "text/html": [
              "<div>\n",
              "<style scoped>\n",
              "    .dataframe tbody tr th:only-of-type {\n",
              "        vertical-align: middle;\n",
              "    }\n",
              "\n",
              "    .dataframe tbody tr th {\n",
              "        vertical-align: top;\n",
              "    }\n",
              "\n",
              "    .dataframe thead th {\n",
              "        text-align: right;\n",
              "    }\n",
              "</style>\n",
              "<table border=\"1\" class=\"dataframe\">\n",
              "  <thead>\n",
              "    <tr style=\"text-align: right;\">\n",
              "      <th></th>\n",
              "      <th>ID</th>\n",
              "      <th>label</th>\n",
              "      <th>statement</th>\n",
              "      <th>subject</th>\n",
              "      <th>speaker</th>\n",
              "      <th>job title</th>\n",
              "      <th>state</th>\n",
              "      <th>party</th>\n",
              "      <th>hist_barely</th>\n",
              "      <th>hist_false</th>\n",
              "      <th>hist_half_true</th>\n",
              "      <th>hist_mostly_true</th>\n",
              "      <th>hist_pants_on_fire</th>\n",
              "      <th>location</th>\n",
              "    </tr>\n",
              "  </thead>\n",
              "  <tbody>\n",
              "    <tr>\n",
              "      <th>0</th>\n",
              "      <td>11972.json</td>\n",
              "      <td>true</td>\n",
              "      <td>Building a wall on the U.S.-Mexico border will...</td>\n",
              "      <td>immigration</td>\n",
              "      <td>rick-perry</td>\n",
              "      <td>Governor</td>\n",
              "      <td>Texas</td>\n",
              "      <td>republican</td>\n",
              "      <td>30</td>\n",
              "      <td>30</td>\n",
              "      <td>42</td>\n",
              "      <td>23</td>\n",
              "      <td>18</td>\n",
              "      <td>Radio interview</td>\n",
              "    </tr>\n",
              "    <tr>\n",
              "      <th>1</th>\n",
              "      <td>11685.json</td>\n",
              "      <td>false</td>\n",
              "      <td>Wisconsin is on pace to double the number of l...</td>\n",
              "      <td>jobs</td>\n",
              "      <td>katrina-shankland</td>\n",
              "      <td>State representative</td>\n",
              "      <td>Wisconsin</td>\n",
              "      <td>democrat</td>\n",
              "      <td>2</td>\n",
              "      <td>1</td>\n",
              "      <td>0</td>\n",
              "      <td>0</td>\n",
              "      <td>0</td>\n",
              "      <td>a news conference</td>\n",
              "    </tr>\n",
              "    <tr>\n",
              "      <th>2</th>\n",
              "      <td>11096.json</td>\n",
              "      <td>false</td>\n",
              "      <td>Says John McCain has done nothing to help the ...</td>\n",
              "      <td>military,veterans,voting-record</td>\n",
              "      <td>donald-trump</td>\n",
              "      <td>President-Elect</td>\n",
              "      <td>New York</td>\n",
              "      <td>republican</td>\n",
              "      <td>63</td>\n",
              "      <td>114</td>\n",
              "      <td>51</td>\n",
              "      <td>37</td>\n",
              "      <td>61</td>\n",
              "      <td>comments on ABC's This Week.</td>\n",
              "    </tr>\n",
              "    <tr>\n",
              "      <th>3</th>\n",
              "      <td>5209.json</td>\n",
              "      <td>half-true</td>\n",
              "      <td>Suzanne Bonamici supports a plan that will cut...</td>\n",
              "      <td>medicare,message-machine-2012,campaign-adverti...</td>\n",
              "      <td>rob-cornilles</td>\n",
              "      <td>consultant</td>\n",
              "      <td>Oregon</td>\n",
              "      <td>republican</td>\n",
              "      <td>1</td>\n",
              "      <td>1</td>\n",
              "      <td>3</td>\n",
              "      <td>1</td>\n",
              "      <td>1</td>\n",
              "      <td>a radio show</td>\n",
              "    </tr>\n",
              "    <tr>\n",
              "      <th>4</th>\n",
              "      <td>9524.json</td>\n",
              "      <td>pants-fire</td>\n",
              "      <td>When asked by a reporter whether hes at the ce...</td>\n",
              "      <td>campaign-finance,legal-issues,campaign-adverti...</td>\n",
              "      <td>state-democratic-party-wisconsin</td>\n",
              "      <td>NaN</td>\n",
              "      <td>Wisconsin</td>\n",
              "      <td>democrat</td>\n",
              "      <td>5</td>\n",
              "      <td>7</td>\n",
              "      <td>2</td>\n",
              "      <td>2</td>\n",
              "      <td>7</td>\n",
              "      <td>a web video</td>\n",
              "    </tr>\n",
              "  </tbody>\n",
              "</table>\n",
              "</div>"
            ],
            "text/plain": [
              "           ID       label  ... hist_pants_on_fire                      location\n",
              "0  11972.json        true  ...                 18               Radio interview\n",
              "1  11685.json       false  ...                  0             a news conference\n",
              "2  11096.json       false  ...                 61  comments on ABC's This Week.\n",
              "3   5209.json   half-true  ...                  1                  a radio show\n",
              "4   9524.json  pants-fire  ...                  7                   a web video\n",
              "\n",
              "[5 rows x 14 columns]"
            ]
          },
          "metadata": {
            "tags": []
          },
          "execution_count": 25
        }
      ]
    },
    {
      "cell_type": "code",
      "metadata": {
        "colab": {
          "base_uri": "https://localhost:8080/"
        },
        "id": "-B89-S8mpLiO",
        "outputId": "d4e4be6b-b64b-4c60-c077-2c8a27c3f1d1"
      },
      "source": [
        "x_train = df_train['statement'].values.tolist()\n",
        "x_val = df_val['statement'].values.tolist()\n",
        "x_test = df_test['statement'].values.tolist()\n",
        "\n",
        "x_train"
      ],
      "execution_count": 33,
      "outputs": [
        {
          "output_type": "execute_result",
          "data": {
            "text/plain": [
              "['Says the Annies List political group supports third-trimester abortions on demand.',\n",
              " 'When did the decline of coal start? It started when natural gas took off that started to begin in (President George W.) Bushs administration.',\n",
              " 'Hillary Clinton agrees with John McCain \"by voting to give George Bush the benefit of the doubt on Iran.\"',\n",
              " 'Health care reform legislation is likely to mandate free sex change surgeries.',\n",
              " 'The economic turnaround started at the end of my term.',\n",
              " 'The Chicago Bears have had more starting quarterbacks in the last 10 years than the total number of tenured (UW) faculty fired during the last two decades.',\n",
              " 'Jim Dunnam has not lived in the district he represents for years now.',\n",
              " \"I'm the only person on this stage who has worked actively just last year passing, along with Russ Feingold, some of the toughest ethics reform since Watergate.\",\n",
              " 'However, it took $19.5 million in Oregon Lottery funds for the Port of Newport to eventually land the new NOAA Marine Operations Center-Pacific.',\n",
              " 'Says GOP primary opponents Glenn Grothman and Joe Leibham cast a compromise vote that cost $788 million in higher electricity costs.',\n",
              " 'For the first time in history, the share of the national popular vote margin is smaller than the Latino vote margin.',\n",
              " 'Since 2000, nearly 12 million Americans have slipped out of the middle class and into poverty.',\n",
              " 'When Mitt Romney was governor of Massachusetts, we didnt just slow the rate of growth of our government, we actually cut it.',\n",
              " 'The economy bled $24 billion due to the government shutdown.',\n",
              " 'Most of the (Affordable Care Act) has already in some sense been waived or otherwise suspended.',\n",
              " 'In this last election in November, ... 63 percent of the American people chose not to vote, ... 80 percent of young people, (and) 75 percent of low-income workers chose not to vote.',\n",
              " \"McCain opposed a requirement that the government buy American-made motorcycles. And he said all buy-American provisions were quote 'disgraceful.' \",\n",
              " 'U.S. Rep. Ron Kind, D-Wis., and his fellow Democrats went on a spending spree and now their credit card is maxed out',\n",
              " 'Water rates in Manila, Philippines, were raised up to 845 percent when a subsidiary of the World Bank became a partial owner.',\n",
              " 'Almost 100,000 people left Puerto Rico last year.',\n",
              " 'Women and men both are making less when you adjust for inflation than when John Kitzhaber was first elected governor.',\n",
              " 'The United States has the highest corporate tax rate in the free world.',\n",
              " 'We just had the best year for the auto industry in America in history.',\n",
              " 'Says Scott Walker favors cutting up to 350,000 families and children off health care.',\n",
              " 'Says Mitt Romney wants to get rid of Planned Parenthood.',\n",
              " 'I dont know who (Jonathan Gruber) is.',\n",
              " 'Hate crimes against American Muslims and mosques have tripled after Paris and San Bernardino.',\n",
              " 'Rick Perry has never lost an election and remains the only person to have won the Texas governorship three times in landslide elections.',\n",
              " 'ISIS supporter tweeted at 10:34 a.m. Shooting began at 10:45 a.m. in Chattanooga, Tenn.',\n",
              " 'Youth unemployment in minority communities is about 40 to 45 percent.',\n",
              " 'Says Paul Ryan is still endorsing Trump.',\n",
              " 'If you look at states that are right to work, they constantly do not have budget deficits and they have very good business climates.',\n",
              " 'What (the Obama administration is) going to come out with in the next several months is youre not even going to be able to burn coal very limitedly in the existing plants.',\n",
              " 'We cut business taxes so today 70 percent of our businesses dont pay a business tax.',\n",
              " 'Says Mark Pryor votes with Obama 93 percent of the time.',\n",
              " 'We have a federal government that thinks they have the authority to regulate our toilet seats.',\n",
              " 'Austin is a city that has basically doubled in size every 25 years or so since it was founded.',\n",
              " \"The nuclear test conducted in our nation this time is the Earth's 2,054th nuclear test. The five permanent members of the U.N. Security Council have conducted 99.99 percent of the total nuclear tests.\",\n",
              " 'In the case of a catastrophic event, the Atlanta-area offices of the Centers for Disease Control and Prevention will self-destruct.',\n",
              " 'Under President George W. Bush, we added $4.9 trillion to the debt. Under President Obama weve added $6.5 trillion to the debt.',\n",
              " 'Says a U.S. Supreme Court justice suggested that some U.S. cases will be decided based on South African law.',\n",
              " 'Says Marco Rubio skipped 18 defense votes including one to arm the Kurds to fight ISIS.',\n",
              " 'Rep. David Cicilline is responsible for the federal loan guarantee to Solyndra, the failed solar company',\n",
              " 'Says Ohio budget item later signed into law by Gov. John Kasich requires women seeking an abortion to undergo a mandatory vaginal probe.',\n",
              " \"We have a director of homeland security who cannot use and will not use the term 'terrorist attack' but instead substitutes 'man-made disaster.' \",\n",
              " 'African-American youth unemployment is 51 percent. Hispanic youth unemployment is 36 percent.',\n",
              " 'Obamacare will provide insurance to all non-U.S. residents, even if they are here illegally.',\n",
              " 'President Barack Obama took exactly none of his own deficit reduction commissions ideas. Not one.',\n",
              " 'It was under Barack Obama and Hillary Clinton that changed the rules of engagement that probably cost (Capt. Humayun Khans) life.',\n",
              " 'Hillary Clinton in 2005 co-sponsored legislation that would jail flag burners.',\n",
              " 'Says the paperback edition of Mitt Romneys book deleted line that Massachusetts individual mandate should be the model for the country',\n",
              " 'Maggie Hassan raised tuition, making it the highest in America.',\n",
              " 'Says Terry McAuliffe is the person who invented the scheme to rent out the Lincoln Bedroom.',\n",
              " 'We created 800,000 new jobs, we cut the unemployment rate almost in half and today New York State has more private sector jobs than it has ever had in its history',\n",
              " 'We have towns in West Texas that are out of water, that are having to truck in water.',\n",
              " 'In Georgia, women earn 82 cents for every dollar earned by men.',\n",
              " 'A federal system that verifies employees are authorized to work in the U.S. is inaccurate anywhere from 50 percent all the way up to in excess of 80 percent of the time.',\n",
              " 'They were going to build the wall a while ago, not so long ago, like in 06. And they couldnt get environmental impact statements.',\n",
              " \"Sen. Obama's campaign announced that he's choosing his cabinet.\",\n",
              " 'In 2008, only 54 percent of Latinos in Texas were registered to vote and only 35 percent actually turned out.',\n",
              " 'Only 2 percent of public high schools in the country offer PE classes.',\n",
              " 'Said he\\'s the only Republican candidate \"who\\'s actually turned around a government economy.\"',\n",
              " 'On military recruiters at Harvard, Elena Kagan \"took a position and the Supreme Court ruled unanimously that she was wrong.\"',\n",
              " 'There are 321,092 public school teachers in Texas. And there are 313,850 non-teachers in our public schools.',\n",
              " 'Under Mayor Cicilline, [Providence] was a sanctuary city.',\n",
              " 'Transgender individuals in the U.S. have a 1-in-12 chance of being murdered.',\n",
              " 'At Bain Capital, we helped start an early childhood learning company called Bright Horizons that First Lady Michelle Obama rightly praised.',\n",
              " 'Says the man who rushed the stage at him in Dayton, Ohio, had chatter about ISIS, or with ISIS in his social media posts.',\n",
              " 'U.S. Rep. Phil Gingrey gave the government the power to electronically spy on Americans without a warrant.',\n",
              " 'Alex Sink funneled three quarters of a million dollars in no-bid contracts to Bank of America.',\n",
              " 'If you take the population growth here in Virginia, we are net zero on job creation since (Bob McDonnell) became governor.',\n",
              " 'Under Obama, home values in Florida collapsed, construction jobs were lost and the state had a high foreclosure rate.',\n",
              " 'The new Arizona immigration law \"says that any police officer can stop anyone who appears to them to be reasonably suspicious of being an undocumented person.\"',\n",
              " 'The only time in our history when the debt has been higher than this was the end of World War II.',\n",
              " 'The cost of health care is now the single-biggest factor driving down the federal budget deficit.',\n",
              " 'During the recession, the consumer in his native perversity has begun to save. The savings rate is now 6.2 percent.',\n",
              " 'On whether a U.S. Supreme Court nominee should be forthcoming at confirmation hearings.',\n",
              " 'Says one out of three U.S. homeless men is a veteran.',\n",
              " 'Says Charlie Crist supports cuts to the Medicare Advantage program.',\n",
              " 'I think it is unacceptable for the Chinese today to be larger in wind power and in solar panels and photovoltaic manufacturing than all of Europe put together -- forget the United States.',\n",
              " 'Says Scott Brown co-sponsored legislation to let employers deny women coverage for birth control.',\n",
              " 'At some point in their lives, 99% of women use birth control.',\n",
              " 'In the past 20 years, Egypt has made great strides in political and democratic reform.',\n",
              " 'The amount of attention paid this week to Chris Christie makes the coverage of Benghazi ... pale in significance.',\n",
              " 'Says U.S. Rep. Steve Southerland voted to keep the shutdown going.',\n",
              " 'In Rick Perrys Texas, we import nurses ... from other countries.',\n",
              " 'There is a federal criminal law that says its a crime to transport dentures across state lines.',\n",
              " 'We built a new prison every 10 days between 1990 and 2005 to keep up with our mass incarceration explosion of nonviolent offenders.',\n",
              " 'Sen. McCain\\'s tax plan provides \"virtually nothing to the middle class.\"',\n",
              " 'Austin is burdened by the fastest-growing tax increases of any major city in the nation.',\n",
              " 'Phoenix, Arizona, is the No. 2 kidnapping capital of the world.',\n",
              " 'I belong to the AFL-CIO.',\n",
              " 'The insurance commissioner cant do squat about health care.',\n",
              " 'Says a poll found him the only Republican candidate who could beat Barack Obama in Texas -- and by eight points.',\n",
              " 'President Ronald Reagan sent troops into conflict only in one circumstance, which was in Grenada We were in a peacekeeping setting in Lebanon.',\n",
              " 'Says David Jolly supports privatizing Social Security.',\n",
              " 'Did you know US population growth is at its lowest since the Great Depression?',\n",
              " 'The average student in Florida, what they actually pay out of pocket at our major universities for tuition is as much or less than what they spend on cellphones.',\n",
              " 'Since 1968, more Americans have died from gunfire than died in all the wars of this countrys history.',\n",
              " 'A foreclosure tax that would take effect in 2013 could mean a high tax bill for those facing foreclosure and millions of families who modified their mortgage or had a short sale through their lender.',\n",
              " 'The Florida Department of Agricultures website FreshFromFlorida.com can be used to get a permit to carry a loaded hidden gun without ever leaving your house.',\n",
              " 'The Atlanta streetcar is expected to create 930 jobs during construction, totaling more than 5,600 jobs over the next 20 years.',\n",
              " 'Raising the minimum wage to $10.10 an hour, would help lift over a million Americans out of poverty.',\n",
              " 'Says Secretary of State John Kerry, when he was a senator, flew to Managua and met with a communist dictator there, Daniel Ortega, and accused the Reagan administration of engaging in terrorism.',\n",
              " 'NATO is opening up a major terror division. ... Im sure Im not going to get credit for it, but that was largely because of what I was saying and my criticism of NATO.',\n",
              " 'Sen. Obama has always had a 100 percent prochoice rating.',\n",
              " 'Since Gina Raimondo took office, investment fees on the states pension portfolio have gone up from about $12 million annually to about $50 million.',\n",
              " 'The (federal) debt is growing by more than $4 billion a day.',\n",
              " 'Under President Barack Obamas jobs bill, states would no longer have to lay off teachers, firefighters and police officers.',\n",
              " 'Of our 98,000 teachers who are K-12, over 53,000 of those teachers today are over 50 years old.',\n",
              " 'Two-thirds of Wisconsinites receiving unemployment checks are not required to search for work due to current work search exemptions.',\n",
              " 'Under President Obamas health-care reforms, the premium for an average plan for a family didnt go down by $2,500 per year, its gone up about $2,500 per year.',\n",
              " 'The IRS also investigated liberal groups, groups that had progressive in their name. ... The IRS was basically looking at everybody.',\n",
              " 'Says Obama promised unemployment would never go above 8 percent.',\n",
              " 'The economy is creating jobs at the fastest pace since 1999.',\n",
              " 'President Obama decided not to meet with Prime Minister Benjamin Netanyahu in New York.',\n",
              " 'In a majority of states, you can now marry freely, but can still be fired for who you love.',\n",
              " 'Say Oregon Reps. Peter DeFazio and Earl Blumenauer are socialists who are openly serving in the U.S. Congress.',\n",
              " 'Rudy Giuliani is \"probably the most underqualified man since George Bush to seek the presidency.\"',\n",
              " 'About half of the presidents have been governors; half of them, senators.',\n",
              " 'After Britains vote to leave the European Union, within 24 hours, Americans lost $100 billion from our 401(k)s.',\n",
              " 'Medicaid spending declined by 1.9 percent in 2012, the second such decline in 47 years.',\n",
              " 'Says 88 Texas constables have died in the line of duty.',\n",
              " 'Gov. Rick Scott cut the cost of prepaid college tuition by nearly $20,000.',\n",
              " 'The city of Columbus would save $41 million a year if employees had to contribute to their own, guaranteed-check pensions.',\n",
              " \"As Florida's CFO, I shut down Krakow's scam and refunded more than $1.2 million to Josephine and other victims of this con man.\",\n",
              " 'You had more women getting computer sciences degrees in the 80s by a factor of 2-plus than you do now.',\n",
              " 'The Air Force wants taxpayers to fund a fantasy football league.',\n",
              " 'Barack Hussein Obama will ... force courts to accept Islamic Sharia law in domestic disputes.',\n",
              " 'About 3 percent of murders and crimes are committed with guns from people who actually (legally) purchase those guns.',\n",
              " 'Some neighborhood schools are closing.',\n",
              " 'He told gay organizers in Massachusetts he would be a stronger advocate for special rights than even Ted Kennedy.',\n",
              " 'The years that I was speaker, the Florida House consistently offered leaner budgets than the governor offered.',\n",
              " 'We are already almost halfway to our 2010 goal of creating 700,000 new jobs in seven years.',\n",
              " 'Says the U.S. Supreme Court found that Social Security is not guaranteed.',\n",
              " 'SaysMichael Bennet wants to close Guantanamo Bay prisonand bring terrorists right here to Colorado.',\n",
              " 'Oregonians have an amazing no-cost way to fight abortion with free political donations',\n",
              " 'The president said hes going to bring in 250,000 (Syrian and Iraqi) refugees into this country.',\n",
              " 'Research shows that a vast majority of arriving immigrants today come here because they believe that government is the source of prosperity, and thats what they support.',\n",
              " 'Newt Gingrichs immigration plan offers a new doorway to amnesty.',\n",
              " 'Mr. Caprio is a career politician who has never worked in the private sector.',\n",
              " 'In Rhode Island, 9 percent of workers use the states temporary disability insurance program each year while in New Jersey, the rate is only 3 percent.',\n",
              " 'In just 17 years, spending for Social Security, federal health care and interest on the debt will exceed ALL tax revenue!',\n",
              " 'President Obama took more money from Wall Street in the 2008 campaign than anybody ever had.',\n",
              " 'Donald Trump has said nuclear proliferation is OK.',\n",
              " 'Hillary Clinton has taken over $800,000 from lobbyists.',\n",
              " 'Barack Obama has never even worked in business.',\n",
              " 'Says the Arizona immigration law expressly bans racial profiling.',\n",
              " 'Says Gov. Rick Perry has been begging for the federal government to send the Coast Guard to patrol two lakes on the U.S.-Mexico border.',\n",
              " 'On the VA: Over 300,000 veterans have died waiting for care.',\n",
              " 'Were now spending 42 percent of our economy on government.',\n",
              " 'Rob Cornilles supports privatizing Medicare.',\n",
              " 'In 2005, Dan Branch tried to expand third-trimester abortions in Texas.',\n",
              " 'We (Democrats) have made steady progress creating jobs and improving our schools.',\n",
              " 'Michigan and Massachusetts raised their bottle deposit and could no longer afford the program because the redemptions were so high there was no profit in there.',\n",
              " 'Whether you like to admit it or not, half our general revenue goes to education.',\n",
              " 'Im the only one whos fought against developers draining the Everglades!',\n",
              " 'Says Ron Johnson calls Social Security a Ponzi scheme and wants to privatize the program.',\n",
              " 'There are 31 other states and 10,000 other cities that have the same type of policies that we just passed, referring to North Carolinas House Bill 2.',\n",
              " 'Climate change is directly related to the growth of terrorism.',\n",
              " 'The jobs bill includes President Obamas tax on soup kitchens',\n",
              " 'Says the Obama administration spent taxpayer dollars on electric cars in Finland (and) windmills in China.',\n",
              " 'While Sarah was Mayor of Wasilla she tried to fire our highly respected City Librarian because the Librarian refused to consider removing from the library some books that Sarah wanted removed.',\n",
              " 'If Milwaukee approves reducing its maximum forfeiture for marijuana possession to $50, the city would have 23 different bicycle violations that have a higher forfeiture.',\n",
              " 'We have more illegal immigrants here than we did five years ago.',\n",
              " 'Says Rick Perry wrote a letter supporting Hillarycare.',\n",
              " 'The U.S. Patent and Trademark Office received zero complaints about the Washington Redskins name.',\n",
              " 'The presidents health care proposals will cause most Americans to have their premiums increased, not decreased, and hundreds of millions of people lose their current insurance coverage.',\n",
              " '(Mexican immigrants) are more law-abiding than U.S. citizens and that is a statistic.',\n",
              " 'Says Chris Christie vetoed a jobs package of 30 bills.',\n",
              " 'There are already more American jobs in the solar industry than in coal mining.',\n",
              " 'Says Illinois gubernatorial candidate Bill Bradys first priority after winning the primary was to sponsor a bill that would mass-euthanize sheltered dogs and cats in gas chambers.',\n",
              " 'Barack Obama is in an economy thats only worsened since hes been president of the United States.',\n",
              " 'Romney failed to take action against \"sanctuary cities\" in Massachusetts.',\n",
              " 'Says New Jersey is down nearly 200,000 jobs from its pre-recession peak and with Gov. Chris Christie New Jersey has trailed the rest of America when it comes to unemployment for 12 consecutive months.',\n",
              " 'Says Thomas Eric Duncan came into the United States with an elevated temperature.',\n",
              " 'We have been in Afghanistan longer now than we have been in any foreign land conducting a war in our nations history.',\n",
              " 'Gas prices have gone up $2 since Obama took office.',\n",
              " 'Webster sponsored a bill to create a form of marriage that would trap women in abusive relationships.',\n",
              " 'Says judges get better benefits at a lower cost than everybody else in the state.',\n",
              " 'There are a lot of casinos across the country that have gone bankrupt.',\n",
              " 'Small businesses create 70 percent of the jobs in America.',\n",
              " 'Seniors with coverage under Medicare Advantage will give up \"more than their share\" because of health care reform',\n",
              " 'Over 12,000 school kids were arrested in Florida. It makes Florida the nations leader in that area.',\n",
              " 'If Texas were a country our economy would rank # 10...in the WORLD.',\n",
              " 'There are more oil rigs in operation in the United States than the rest of the world combined.',\n",
              " 'Payday lenders profit from the poor by charging 1,000-plus percent interest.',\n",
              " 'The Social Security trust fund is sound. Without anything being done, it would function well into 2038; and even after that time with no changes, we could pay 80 percent of the benefits that people have earned.',\n",
              " 'It is a commitment voters take very seriously: The only incumbent in Ohio to break his Pledge and vote for Ted Stricklands income tax hike was defeated soundly on Tuesday.',\n",
              " 'The Obama administration shut down the Amber Alert program because of the government shutdown.',\n",
              " 'The Republicans have 2 percent of the Muslim vote.',\n",
              " '[W]e see Americas prison population exploding, with America having a greater percentage of its people behind bars than any other nation in the world!',\n",
              " 'Says that in a hearing, Rep. Gabrielle Giffords suggested to Gen. David Petraeus that the Army put more emphasis on less environmentally damaging methods, like stabbing or clubbing enemy forces in order to minimize the carbon output.',\n",
              " 'Every single one of the 41 Republican senators who just blocked a raise in the minimum wage will receive a $2,800 cost-of-living adjustment on January 1, 2015.',\n",
              " 'In Texas, the No. 1 name for new male babies many of whom will vote one day is Jose.',\n",
              " 'Marco Rubio voted against authorizing President Obama to strike Syria after Assad used chemical weapons on his own people.',\n",
              " \"Under the Cash for Clunkers program, all we've got to do is ... go to a local junkyard, all you've got to do is tow it to your house. And you're going to get $4,500.\",\n",
              " 'Not one Republican has the guts to recognize that climate change is real.',\n",
              " 'While our people work longer hours for lower wages, almost all new income goes to the top 1 percent.',\n",
              " 'David Dewhurst has a record of promoting an income tax.',\n",
              " 'Point Pleasant Beach does not own its beaches; they are privately owned and operated by businesses such as Jenkinsons',\n",
              " \"In the past year, more than 20 percent of Americans have changed their mind about the war in Afghanistan. They conclude we shouldn't be there.\",\n",
              " 'In the last five years, 28,000 people have been killed along the U.S.-Mexico border.',\n",
              " 'The state of Ohio has one of the lowest unemployment rates in the nation right now and is leading the pack in terms of job creation.',\n",
              " 'Says Obama health reform law denies millions access to affordable insurance.',\n",
              " 'Says HB2 hasnt moved the needle one iota on North Carolinas economy.',\n",
              " 'Close to 30% of our federal prison population consists of illegal immigrants.',\n",
              " 'Says Rick Scott called education not a core function of the state.',\n",
              " 'The Family Research Council, according to some government agencies, is a terrorist group.',\n",
              " 'Says Rep. Jim Weidner proposed a bill taking away health care for 80,000 of Oregons children.',\n",
              " 'Says that in the 1985 election former Gov. Tom Kean had the largest winning margin for a gubernatorial candidate in Jersey history.',\n",
              " 'Obamacare is the biggest tax increase in American history.',\n",
              " 'You ... said that Barack Obama was not ready to be commander in chief.',\n",
              " 'The median male worker in this country has not seen a raise, inflation adjusted, for 30 years, basically.',\n",
              " 'Milwaukee Mayor Tom Barrett has held the line on property taxes.',\n",
              " 'Im the only member of the House of Representatives who raised most of his campaign funds in the last election from small contributions of less than $200.',\n",
              " 'Unlike the gridlock in Washington, more than 80 percent of the bills we passed during this General Assembly had bipartisan support.',\n",
              " 'Josh Mandel is lying about his own record. The rating of Ohios investment fund has NOT improved.',\n",
              " 'Rick Scott took $200,000 from a family that leased land for drilling and now he is trying to hide from it.',\n",
              " 'On how money from a possible lease of the Ohio Turnpike would be used',\n",
              " 'At the beginning of the last decade ... America had a budget surplus of over $200 billion. By the time I took office, we had a one-year deficit of over $1 trillion and projected deficits of $8 trillion over the next decade.',\n",
              " 'The president has had 1,540 of his nominations confirmed, only four defeated.',\n",
              " 'U.S. taxpayers are being forced to fund Feisal Abdul Raufs trip to the Middle East.',\n",
              " 'Milwaukee County taxpayers paid $370,000 to settle a lawsuit over a decision by Sheriff David A. Clarke Jr. to use untrained corrections officers rather than deputies to patrol the lakefront.',\n",
              " 'There are Justice Department policies against FBI Director James Comey discussing details of a federal investigation so close to an election.',\n",
              " 'Democratic presidents \"have been considerably more effective at creating private-sector jobs.\"',\n",
              " 'Joe Biden \"voted against the first Gulf War. He opposed the surge. He wanted to partition Iraq.\"',\n",
              " 'Says Rush Limbaugh made it clear hed rather see the country fail than President Barack Obama succeed.',\n",
              " 'One percent of the American people make over 21 percent of all the income in America. That wasnt the way before George Bush became president.',\n",
              " 'Military \"recruiting went on at Harvard every single day throughout the time (Kagan) was there.\"',\n",
              " 'Says that under Rick Perrys plan, Texas has cut funding for public schools by 25%.',\n",
              " 'Says David Perdue wants to abolish the U.S. Department of Education, which would cost Georgia schools $1 billion a year and eliminate millions in student loans.',\n",
              " 'The Paul Ryan budget proposal would privatize Medicare.',\n",
              " 'High school students arrested on campus are twice as likely not to graduate and four times less likely to graduate if theyve appeared in court.',\n",
              " 'The United States imprisons more than any nation in the world.',\n",
              " 'Says Marco Rubio is the one for an open border.',\n",
              " '...Over 30 years, federal spending on education has grown by 375 percent, but test scores remain flat.',\n",
              " 'Says cuts to Medicare affect people who have already paid in. We paid for it.',\n",
              " 'David Alameel is giving thousands of dollars to support the Republican Party candidates including John Cornyn and Greg Abbott.',\n",
              " 'The American healthcare system burns 18 percent of our national GDP. Nobody else is close.',\n",
              " 'Providences port is 200 miles closer to Europe than any other Eastern port.',\n",
              " 'Says you need a photo ID to purchase Sudafed in Texas.',\n",
              " 'Twenty percent of housing in Portlands Pearl District is affordable.',\n",
              " 'Says allowing the payroll tax holiday to expire would end up costing another estimated 900,000 jobs in 2012.',\n",
              " 'Hillary Clinton supported NAFTA and permanent China trade. Pennsylvania lost thousands of jobs.',\n",
              " 'Numerous studies have shown that these so-called right-to-work laws do not generate jobs and economic growth.',\n",
              " \"Obama's budget plan would take national debt up to about 80 percent of gross national product. ... Historically, it's been about 40 percent.\",\n",
              " 'Says Hillary Clinton said the Veterans Affairs scandal is over-exaggerated. She said she was satisfied with what was going on.',\n",
              " 'We now have driven (health care) costs down to the lowest theyve been in 50 years.',\n",
              " 'President Barack Obama\\'s \"initial response when we heard about the Christmas underwear bomber\" was to say that \"this was the act of an isolated extremist.\"',\n",
              " 'Says Sen. Sherrod Brown admitted that his $787 billion stimulus law failed and after specifically attacking Republicans for wanting to lower Americans taxes, (he) now claims that his stimulus bill didnt do enough to lower taxes.',\n",
              " 'In the 1950s, \"A lot of people got rich and they had to pay a top tax rate of 90 percent.\"',\n",
              " 'The Charleston, S.C., shootershould have never been given a gun, but the universal background check was not fast enough.',\n",
              " \"Sixty-five percent of the Iraqi people now say it's okay to shoot an American soldier.\",\n",
              " 'Twelve judges have thrown out legal challenges to the health care law because they rejected the notion that the health care law was unconstitutional.',\n",
              " 'Says Gov. Chris Christies proposal to reduce state income taxes would be the second tax cut for the rich by the governor in two years.',\n",
              " 'Warren (Buffett) still does support me.',\n",
              " 'Says George LeMieux was one of two Republicans who voted for President Barack Obamas jobs bill.',\n",
              " 'A precinct in the Allen West-Patrick Murphy recount has 7 registered voters in Guatemalan community and the tally showed 900 voted!!!!!',\n",
              " 'About 230,000 people that were on unemployment when I took office are not on unemployment now.',\n",
              " 'One person, Kathleen Sebelius, was going to determine whether or not 10-year-old lung patient Sarah Murnaghan would live or die.',\n",
              " 'Ron Klein repeatedly voted in favor of amnesty for illegal immigrants.',\n",
              " 'Local law enforcement . . . will have access to the [Obamacare] Data Hubs treasure trove of personal info.',\n",
              " 'During his tenure as mayor, he saw Houstons crime rates drop to the lowest levels in more than 25 years.',\n",
              " 'Barack Obamas Columbia University ID says he was a foreign student and went by Barry Soetoro.',\n",
              " 'John McCain, \"one of the richest people in a Senate filled with millionaires,\" says the solution to the housing crisis is for people to get a \"second job\" and \"skip their vacations.\"',\n",
              " 'Terry McAuliffe wants to raise your taxes $1,700 to pay for his infinite promises.',\n",
              " 'Hypocrisy at the Clinton Foundation: Top male staff made on average $218,029 while top female staff made $153,014 from 2010-2014.',\n",
              " 'Since the federal Violence Against Women Act was adopted in 1994, cases of domestic violence have fallen by 67 percent.',\n",
              " 'Says federal law enforcement officers cut off questioning of the Christmas Day underwear bomber by giving him a Miranda warning after 30 minutes of questioning.',\n",
              " 'On legalizing illegal immigrants.',\n",
              " 'Nearly half of all pregnancies in the U.S. are unintended.',\n",
              " 'We are \"borrowing Saudi money for Saudi oil\" with the result being \"dependency and debt.\"',\n",
              " 'Says there are homes for sale on and around (Oswego Lake) right now for under $150,000 that anyone is welcome to buy.',\n",
              " 'Since the president became the president, we have lost 3.3 million jobs in the private sector. But you know whos done OK and whos not complaining today? The public sector. Weve gained 590,000 public sector jobs.',\n",
              " 'The top 1 percent pay over half of the entire revenue for this country.',\n",
              " 'The difference over the (previous) four years between where things were headed and where we brought them to over the last four years is a total of $816 in saved property tax money.',\n",
              " 'Chris Christie has not increased the taxes on anyone.',\n",
              " 'The United States does not have a system through which growers and dairies can bring a workforce legally into the U.S.',\n",
              " 'Says he never said he would keep education funding the same.',\n",
              " 'Since 1978, college tuition nationwide has gone up something like four times the rate of inflation.',\n",
              " 'Says Sen. Rob Portman said, It would be irresponsible not to cut Medicare.',\n",
              " 'Most of, if not all of, the [DeKalb school construction] projects always came in on or were under budget.',\n",
              " '(Palin) supported right-wing extremist Pat Buchanan for president in 2000.',\n",
              " 'Says Sen. Sherrod Brown voted to block American energy production and increase energy taxes.',\n",
              " 'Says Jeanne Shaheen voted for a measure that would have amounted to a new national energy tax.',\n",
              " 'Washington, D.C., had some of the strictest gun laws in the country. And when they passed them, violence skyrocketed.',\n",
              " 'Seven presidents before (Barack Obama) -- Republicans and Democrats -- tried to expand health care to all Americans.',\n",
              " 'While fighting a move to toughen penalties for workplace gender discrimination, state Sen. Glenn Grothman said he didnt believe women belonged in the workplace but belonged at home, cooking and cleaning and having babies.',\n",
              " 'If you put the $47 billion in revenue (raised over 10 years by the Buffett rule) into infrastructure you could create 611,000 infrastructure jobs.',\n",
              " 'What is the proper collective noun for a group of baboons? Believe it or not . . . a Congress!',\n",
              " 'I have repeatedly said that many of the predatory loans that were made in the mortgage system did target African-American and Latino communities.',\n",
              " 'Starting in December 2007, 1.4 million jobs were created in Texas. In that same period, the rest of the country lost 400,000 jobs.',\n",
              " 'The (health reform) legislation which Washington passed last year has made it more difficult to hire because its increased costs for employers.',\n",
              " 'The CBO, the Congressional Budget Office has said that Obamacare will kill 800,000 jobs.',\n",
              " 'Thompson \"voted against $250,000 caps on damages (and) almost anything that would make our legal system fairer.\"',\n",
              " 'Texas this fiscal year will have more money in reserve than the other 49 states combined.',\n",
              " 'On using the Strategic Petroleum Reserve.',\n",
              " 'Immigrants are more fertile.',\n",
              " 'The proposed education changes \"will not cut one teacher\\'s pay.\"',\n",
              " 'The number of uninsured people in Massachusetts is about the same as it was when the mandates were passed in 2006.',\n",
              " 'Firearms homicides are down about 40 percent since Texas passed concealed-gun permit law.',\n",
              " 'Upwards of 90 percent of women seeking an abortion decide not to have an abortion after seeing an ultrasound.',\n",
              " 'We spend less on defense today as % of GDP than at any time since Pearl Harbor.',\n",
              " \"If you got rid of the income tax today you'd have about as much revenue as we had 10 years ago.\",\n",
              " 'Says Scott Walker wants to ban common forms of birth control, including the pill.',\n",
              " 'Jason Kander supports [Obamas] plan to bring the remaining suspected terrorists to U.S. soil.',\n",
              " 'Shelby County donated Im sorry, gave 44 schools to the city of Memphis.',\n",
              " 'Top U.S. intelligence officials have toldevery member of Congress, including the president, were about to be attacked in a serious way because (of) the threat emanating from Syria and Iraq.',\n",
              " 'Have the suburbs been inundated with former residents of Atlanta housing projects? Absolutely not.',\n",
              " 'In July 1996, Mitt Romney helped locate the missing teenage daughter of a partner at Bain Capital.',\n",
              " 'Blames Mike McIntyre and Nancy Pelosi for the second straight year of no cost-of-living increases for Social Security beneficiaries.',\n",
              " 'The government is going to have the right to get into your bank account with the health care bill and make transfers without you knowing it.',\n",
              " 'There are mechanisms in place to shut down the Internet privately.',\n",
              " 'The American people support defunding Obamacare and oppose shutting down the government.',\n",
              " 'Report that #GOP insisting on changes to Social Security as part of #fiscalcliff false. BTW those changes are supported by @barackobama.',\n",
              " 'Nobody has played clips over and over ...of President Obama (saying), If they bring a knife to the fight, well bring a gun.',\n",
              " 'The people of Rhode Island dont want same-sex marriage.',\n",
              " 'Rep. Paul Ryans Medicare plan lines the pockets of the private insurance companies, increases costs for seniors and does not reduce the deficit.',\n",
              " 'This year in Congress (Connie Mack IV) has missed almost half of his votes.',\n",
              " '1/3 of our kids drop out (of high school), cannot go to college or start a career.',\n",
              " 'Not even old Gen. Eisenhower saluted military personnel as president.',\n",
              " 'If Wisconsins governor cuts perquisites as much as he plans to do, it would still leave (workers) better off than their private sector counterparts.',\n",
              " 'You cant get on an airplane, but more than 2,000 people on that list have been able to buy a gun.',\n",
              " '74 percent of Republicans support the Affordable Care Act.',\n",
              " 'For every $1 spent on afterschool programs, we can save over $5, almost $6, in crime costs down the line.',\n",
              " 'The federal government has $3 trillion in cash flow, so we can pay our bills and wont default.',\n",
              " 'Says Alex Sink failed Florida homeowners by using predatory lending practices.',\n",
              " 'Over 40 percent of small and mid-size banks that loan money to small businesses have been wiped out since Dodd-Frank has passed.',\n",
              " 'You cant check out a library book without a photo ID.',\n",
              " 'Says that Starbucks took Christmas off of their brand new cups.',\n",
              " 'Atmospheric conditions could push a footballs pressure down approximately one-and-a-half pounds per square inch.',\n",
              " 'Hillary Clinton supports unlimited abortion on demand up until the moment of birth, including partial-birth abortion, with taxpayer funding.',\n",
              " 'Under legislation that has cleared the Georgia House, some children who are legal refugees could obtain state scholarships to attend private schools.',\n",
              " 'We went from losing 3 million jobs in the last six months of the Bush Administration, adding almost 600,000 private sector jobs in the first six months of the year.',\n",
              " 'The STAR Ohio fund just received the highest possible credit rating one of these funds can receive.',\n",
              " 'Taxpayers are on the hook ... for less than a third of the proposed new Atlanta Falcons stadium, and those funds are repaid from money that comes from outsiders.',\n",
              " 'In the last 22 months, businesses have created more than 3 million jobs. Last year, they created the most jobs since 2005.',\n",
              " 'Every year, more than $40 million are leaving Missouri for the Lone Star State.',\n",
              " 'A college loan is the only loan in the United States that you cannot refinance when interest rates go down.',\n",
              " \"The House of Representatives has never passed a resolution of disapproval to condemn a member's behavior.\",\n",
              " 'We are younger than our competitors, and this is entirely because of immigration.',\n",
              " 'Recent international reports show the United States near the bottom among industrialized nations for k-12 academic achievement.',\n",
              " 'Says 24 million people in this country cant find a full-time job, 50 million cant see a doctor when theyre sick, 47 million people need government help to feed themselves and 15 million families owe more than the value of their home.',\n",
              " 'The policy mistakes that ... the Clintons made got us, in large degree, to the situation that we are in today with mass incarceration.',\n",
              " 'Says he raised average family income by 50 percent during his tenure as Arkansas governor.',\n",
              " 'They tried to give us $400 million to build a high-speed train that goes 39 miles an hour.',\n",
              " 'Says the CBO estimates that fully extending the Bush tax cuts would add 600,000-1.4 million jobs in 2011 and 900,000-2.7 million jobs in 2012.',\n",
              " 'President Reagan did it (raised the debt ceiling) 18 times. George W. Bush did it seven times.',\n",
              " 'According to David Cay Johnston, the average American pays about 22 percent of their income to federal taxes. The richest 400 Americans pay about 16 percent of their income to federal taxes.',\n",
              " 'Most young Americans right now, theyre not covered by health insurance.',\n",
              " 'In 1952, the corporate income tax accounted for 33 percent of all federal tax revenue. Today, despite record-breaking profits, corporate taxes bring in less than 9 percent.',\n",
              " 'Over the last 10 years, Texas created 33 percent of the net new jobs nationwide.',\n",
              " 'Says two-thirds of groups targeted for IRS scrutiny were not conservative.',\n",
              " 'In the class of 1968 at Patrice Lumumba University in Moscow, Mahmoud Abbas was one of the members of that class, and so was Ali Khamenei. And thats where they first established relationships with the young Vladimir Putin.',\n",
              " 'Last week the Texas State Board of Education (SBOE), led by Rick Perrys appointee, voted to remove Thomas Jefferson from social studies textbook standards. Thats right. Thomas Jefferson... was deleted from a list of historical figures who inspired political change.',\n",
              " 'As a U.S. senator with salary and perks, \\u202a#Bernie\\u202c is in the top 1 percent, but still paid only 13 percent in taxes last year.',\n",
              " \"You know we can't just pull out now... The truth of the matter is: If we started today, it would take one year, one year to get 160,000 troops physically out of Iraq, logistically.\",\n",
              " 'From 2013-2015, the richest 14 Americans increased their net wealth by more than $157 billion, yet the Republican budget would not require these Americans to contribute one penny to deficit reduction.',\n",
              " 'Says that while Foster was mayor, Rick Kriseman was ineffective in the Florida House of Representatives because there was no legislation that passed the House that had (Krisemans) name on it.',\n",
              " 'Says Texas routinely gets a lot more federal spending than it pays in taxes.',\n",
              " 'Cell phone numbers go public this month.',\n",
              " 'Says it has offered $12 million in savings through 2011 and $184 million in savings over the next 25 years in contract negotiations with the City of Milwaukee.',\n",
              " 'Clackamas County Commissioners approved a re-negotiated agreement to lower the countys contribution to TriMets Portland-Milwaukie Light Rail project to $19.9 million from $25 million.',\n",
              " 'Says Texas has 11 different felonies you can commit with an oyster.',\n",
              " 'The Obama administration is unwinding our nations welfare-to-work requirements.',\n",
              " 'Electric car sales in Georgia have dropped dramatically since a $5,000 tax credit was eliminated and a $200 annual registration fee was imposed July 1.',\n",
              " 'The Redskins Training Camp deal generated $40 million in new private investment in the city.',\n",
              " 'The GOP budget plan would cut nearly a million jobs.',\n",
              " 'There are more people living in this country who were not born here than at anytime in the history of the country.',\n",
              " 'Says Hillary Clinton defended Syrias President Assad as a possible reformer at the start of that countrys civil war.',\n",
              " 'The Postal Services financial losses result from a 2006 law that drains $5 billion a year from post office revenue, while the Postal Service is forced to overpay billions more into federal accounts.',\n",
              " 'As many as six federal department budget bills have been delayed because of opposition to amendments that would ban Confederate battle flag sales at federal building gift shops.',\n",
              " 'Shes voted for 60 tax increases, hurting the middle class and small businesses.',\n",
              " 'Now, in the House of Representatives, we have 40 different jobs bills that have passed and almost all of them have been bipartisan.',\n",
              " 'Sheila Jackson Lee of Texas said: Hey, all you wrinkly, white-aged has-beens: Its time for you to die and let the next generation have your spot on the planet.',\n",
              " 'Republican (small business tax cut) bill spends $80 million for better Google searches, not job creation',\n",
              " 'A 2013 state law would allow the operator of an iron ore mine in northern Wisconsin to fill in pristine streams and ponds with mine waste.',\n",
              " 'America is one of the highest-taxed nations in the world.',\n",
              " 'If black America were a country, itd be the 15th wealthiest nation in the world.',\n",
              " 'Since Republicans took over after the 2010 election, the graduation rate in Wisconsin has gone from 86 percent to 88 percent. The black graduation rate has gone from 60 percent to 65 percent. The Latino graduation rate has gone from 65 percent to 71 percent.',\n",
              " 'It has been estimated that nearly 40 percent of all guns sold in America are sold by private, unlicensed sellers either online or through gun shows.',\n",
              " '2008 was the deadliest year of the war (in Afghanistan) for American forces.',\n",
              " 'Florida teachers are \"already paid $5,000 below the national average.\"',\n",
              " 'Since Rick Perry became governor, Texas has gone from 46th in the country to 50th in the population that graduates from high school.',\n",
              " 'Says Amanda Fritz manages less than 5 percent of city operations.',\n",
              " 'The streetcar project planned by Mayor Tom Barrett would be a 1900s style trolley.',\n",
              " 'Americans, in the last 30 years, have more than doubled the amount of money we are spending per child (on education) and the results have gotten worse, not better.',\n",
              " 'Polls show that Floridians dont want to repeal the Affordable Care Act.',\n",
              " 'Says Congressman Bill Pascrell voted to remove the public option from the Affordable Health Care Act.',\n",
              " 'Lawmakers were paid for their off-season efforts to, for the first time, take the lead in drawing borders for two would-be cities.',\n",
              " 'Greg Abbott and his surrogates have referred to women who have been the victims of rape or incest as though somehow what they are confronting is a minor issue.',\n",
              " 'On offshore drilling for energy',\n",
              " 'Under a proposed medical marijuana amendment in Florida, you dont get refills -- you get it forever.',\n",
              " 'A data-storing microchip \"would be implanted in the majority of people who opt to become covered by the public health care option.\"',\n",
              " 'Enacting the Right-to-Carry Act would amount to expanding the rights of sex offenders, terrorists, child predators, and abusers to carry concealed weapons across state lines.',\n",
              " \"I haven't missed a vote since 1993.\",\n",
              " 'Says the treasurers office has saved $37 million in management costs for the oversight of public investments.',\n",
              " 'Says Georgia will send more state money per child to state charter schools and that budget cuts are not applied to those charter schools.',\n",
              " 'Jorge Elorza wants to impose a municipal income tax.',\n",
              " 'The Supreme Court cant overrule the other two branchesof government.',\n",
              " 'Roughly 25% of RI has a criminal record',\n",
              " 'Nathan Deal cut the HOPE scholarship program so that literally 100,000 Georgians will not be able to go to college or get technical training that they so badly needed to raise -- you know, give them a chance at a good job.',\n",
              " 'As governor of Arkansas, I cut taxes and fees almost 100 times, saving the taxpayers almost $380-million. I left a surplus of nearly $850-million.',\n",
              " 'I havent raised taxes in the time Ive been the governor of New Jersey.',\n",
              " 'Massachusetts public schools teach kids as young as kindergartners about gay marriage.',\n",
              " \"I'm probably one of the four or five best-known Americans in the world.\",\n",
              " 'We are accepting more legal immigrants than we ever have in the history (of the United States.)',\n",
              " 'Congress is bewildered at the scope and reach of our spying apparatus but in 2008 and 2012 explicitly rejected an amendment calling for more disclosure.',\n",
              " 'Six people in Florida die as a result of (not expanding Medicaid) every day.',\n",
              " 'Gov. Maggie Hassans budget proposal raises taxes on small businesses and increases taxes and fees by $100 million.',\n",
              " 'Only in Washington would politicians spend $27 million to teach Moroccans how to make pottery.',\n",
              " 'Hillary Clinton \"starts off with 47 percent of the country against her.\"',\n",
              " 'SaysRand Paulhas put out budgets to cut the military in half.',\n",
              " 'Groups that receive foreign money are spending huge sums to influence American elections.',\n",
              " 'Says legislative cuts mean Texas is spending on average $500 less per student.',\n",
              " '[A]t his current rate, President Obama will have added more debt to the United State of America by the end of his first term than each of the previous 43 presidents -- combined!',\n",
              " 'We know that Saudi Arabia started al-Qaida.',\n",
              " 'Says Williamson County Attorney Jana Duty has never prosecuted a single adult felony case.',\n",
              " 'The fundraising numbers are in, and our grassroots support is unmatched!',\n",
              " 'Issue 2 makes it illegal for us to negotiate for enough firefighters to do the job.',\n",
              " 'Says although the unemployment rate seems to be improving, it does not reflect real job creation -- its caused by a shrinking of the actual labor force.',\n",
              " 'Gov. Scott Walker hired convicted Assembly Speaker Scott Jensen to oversee a raid on the state employee retirement system to help balance the state budget.',\n",
              " 'Obama voted \"to cut off funding for our American troops on the battlefield.\"',\n",
              " 'In general, it appears Wisconsins right to work bill would likely apply to the Green Bay Packers players and their union.',\n",
              " 'The so-called defense minister of the Peoples Republic of Donetsk ... actually posted a bragging social media posting of having shot down a military transport. And then when it became apparent it was civilian, they pulled it down from social media.',\n",
              " \"Democrats are kind of falling over each other seeing who can raise taxes faster. It looks like they're going to raise taxes anywhere between 20 to 30 percent.\",\n",
              " 'Right now one of our highest job growth sectors is Leisure and Hospitality. Weve added jobs that mostly fall within the restaurant and bar sector industry. These are not high-paying jobs, as the U.S. Department of Labor estimates this is an industry sector with the lowest average wages and the lowest proportion of its workforce earning minimum or subminimum wage jobs.',\n",
              " 'Gov. Scott Walker bought 80 new, brand-new vehicles for the state that we probably dont need.',\n",
              " 'Says he passed eight measures, including ones to prevent groping at airport security checks and to bar sanctuary cities in Texas.',\n",
              " 'Its gotten to a point where the average federal worker makes twice as much as the average private sector worker.',\n",
              " 'These 15 political appointees (on the IPAB) will make all the major health care decisions for over 300 million Americans.',\n",
              " 'Says stores will be barred from selling 100-watt light bulbs as of 2012.',\n",
              " 'Before our last three presidents, you have to go back to the 1800s, early 1800s to find three presidents in a row being consecutively re-elected.',\n",
              " 'Jason Carter supports using Georgia tax dollars to promote Obamacare',\n",
              " 'The most recent Associated Press poll has Nader-Gonzalez at 6 percent, without any national coverage, against McCain and Obama.',\n",
              " 'Dan Patrick said that if women get paid less than a man for the same job, that thats not a problem.',\n",
              " 'Weve got an average of 5,600 soldiers committing suicide. Thats about 20 a day.',\n",
              " 'There have even been Republican congressmen who have said, If you give us more money we dont know where we would even put additional Border Patrol agents.',\n",
              " 'Today, for the first time in fifteen years, Master Locks unionized plant in Milwaukee is running at full capacity.',\n",
              " 'Tom Reed has actually voted for every single trade deal that has ever come before him in any form.',\n",
              " 'ISIS camp a few miles from Texas, Mexican authorities confirm.',\n",
              " 'New federal projections estimate that the health care overhaul will cost $1.76 trillion over 10 years -- well above the $940 billion Democrats originally claimed.',\n",
              " 'Say New Jersey Reps. Donald Payne and Frank Pallone are socialists who are openly serving in the U.S. Congress.',\n",
              " 'The unemployment rate may be as high as 42 percent.',\n",
              " 'Common Core is not from the federal government, they do not have their fingerprints on this thing at all.',\n",
              " 'Social Security is indeed a Ponzi scheme.',\n",
              " 'Says Scott Walker brags a lot about having an independent agency investigate police shootings. Of course, he didnt fund it.',\n",
              " 'What the Arizona law does is make a state crime out of something that already is... a federal crime.',\n",
              " 'When the country was founded, Congress had exactly the same attitude about the sanctity of Christmas celebrations that a 7-Eleven does today: Yeah, were open.',\n",
              " 'In Miami-Dade County, we spend at our school system over $20 million every year educating recent immigrants.',\n",
              " 'The omnibus bill has only $3.8 billion in earmarks.',\n",
              " 'Trump proposed enacting the largest tax increase in American history.',\n",
              " \"Senator McCain has been talking tough about earmarks, and that's good, but earmarks account for about $18-billion of our budget.\",\n",
              " 'Kim Myers voted repeatedly to raise taxes on the people of Broome County, but made millions off of tax savings when her family business relocated its headquarters.',\n",
              " 'Californias Prop 60, which would requirecondom usein adult films, would put workers in the adult film industry at riskfor lawsuits and harassment.',\n",
              " 'We pay among the highest tolls in the nation for the privilege of crossing that bridge.',\n",
              " 'Sens. Isaksons, Chambliss Votes Against Unemployment Insurance Were Votes to Kill Nearly 6,000 Georgia Jobs.',\n",
              " 'Says real estate taxes were put in place to pay for Obamacare.',\n",
              " 'Says today unemployment has been running near 12 percent or more for the last four years and the Legislature hasnt done much to lower it.',\n",
              " 'Says Kay Bailey Hutchison voted for sanctuary cities.',\n",
              " 'John Mica voted to borrow $10 trillion.',\n",
              " 'Says opponent Mary Burke told reporters she would have required workers to give up bargained-for healthcare and retirement benefits like Gov. Walker.',\n",
              " 'McCain \"hired some of the biggest lobbyists in Washington to run his campaign.\"',\n",
              " 'We do not want to raise anybodys tax rates. Thats never been on the table.',\n",
              " 'When terrorists killed more than 250 Americans in Lebanon under Ronald Reagan, the Democrats didnt make that a partisan issue.',\n",
              " 'This is the first time a party has picked up multiple seats during a regular election since the mid 1980s, making this the largest majority of any party in more than 25 years.',\n",
              " \"John wasn't this raging populist four years ago when he ran for president.\",\n",
              " 'House Republicans who complained they didnt have enough time to consider a constitutional ban against oil drilling shoved through a proposal in just a few days to open state waters to oil drilling.',\n",
              " 'Says no one from the Bush family attended the 2012 Republican National Convention and there was no President Bush at the 2008 convention.',\n",
              " 'Crime is rising.',\n",
              " '(Flint, Mich., is) paying three times more for poison water than I am paying in Burlington, Vt., for clean water.',\n",
              " 'Weve got a personal tax system thats so complicated it costs Americans about $500 billion a year to comply with the current tax code.',\n",
              " 'Says a Portland school gives Muslim students their own school provided prayer room, prayer rugs, and lets them out of class five times a day to pray to Allah.',\n",
              " '(Texas Republicans) believe in abolishing Social Security, abolishing V.A. health care.',\n",
              " 'The bulk of the people who are shot with a weapon other than these drug gangs taking on one another end up being shot with their own weapon.',\n",
              " 'In the case of General Motors, the (Bush) administration wrote a check without asking for any conditions of change.',\n",
              " 'Salaries for URI faculty are second to last among New England land grant universities and in lowest 20 percent of major U.S. research institutions',\n",
              " 'Says Miami Congressman Carlos Curbelo supports drilling offshore and repeatedly voted against President Obamas ability to fight pollution and combat climate change.',\n",
              " 'When President, then candidate, Obama was asked to disclose some of his donors because there was suspicion of their being the foreign source of money into his campaign, they refused to do it.',\n",
              " 'Oregon is the only state out of the 50 states in the USA that continues to pay 100% of the medical benefits for its employees and their families.',\n",
              " 'You wonder why you dont see Rand Paul as much; hes still shopping for his billionaire. Hes like the only one who hasnt found a billionaire to fund his super PAC.',\n",
              " 'Says Donald Trump cashed in on Sept. 11,collecting $150,000 in federal funds intended to help small businesses recover even though days after the attack Trump said his properties were not affected.',\n",
              " 'Three years ago, a newly elected President Obama told America that if Congress approved his plan to borrow nearly a trillion dollars, he would hold unemployment below 8 percent.',\n",
              " 'An independent payment advisory board created by in the health care reform law is like a Medicare IRS with the power to cut Medicare in order to pay for new government programs.',\n",
              " 'The Mitchell Park Domes lose about $1 million-plus every year and the number of people going to the Domes has been going down.',\n",
              " 'Under a bill before the legislature, youd have to go to court to fire an employee.',\n",
              " 'There is little if any evidence that the use of red light cameras in New Jersey has reduced the number or severity of accidents at the intersections where they are used.',\n",
              " 'In the entire public school system in Camden last year, only three students graduated college ready.',\n",
              " 'Says nearly 29,000 Oregonians almost 5 percent of all homeowners are 90 days or more delinquent on their mortgage.',\n",
              " 'Under the Hate Crimes bill, \"any pastor, preacher, priest, rabbi or imam who gives a sermon out of their moral traditions about sexual practices could be found guilty of a federal crime.\"',\n",
              " 'This is what President Obama said the jobless rate would be if we passed the stimulus: 5.6 percent.',\n",
              " 'George Allen and his colleagues in the Senate turned the biggest surplus in the history of the United States into the biggest deficit in the history of the United States.',\n",
              " 'Says President Obama has cracked down on employers who are attracting undocumented immigrants and hiring them more than any previous president.',\n",
              " 'Says Newt Gingrich made an affirmative statement that he would not only support but he would campaign for Republicans who were in support of the barbaric procedure known as partial-birth abortion.',\n",
              " 'U.S. global AIDS spending helped reduce political instability and violence by 40 percent in recipient nations.',\n",
              " \"I told the Congress 'thanks, but no thanks,' on that Bridge to Nowhere.\",\n",
              " 'The actual (construction) contracts that weve awarded to date have come in several hundred million dollars below estimates.',\n",
              " 'State school funding per pupil is down 16 percent compared to 2009, after adjusting for inflation.',\n",
              " 'Unemployment has fallen from 10 percent during the presidents first year in office to 8.5 percent today.',\n",
              " 'American voters remain steadfast in their support for immigration reform with a path to citizenship, with more than 70 percent who want to see reform passed this year.',\n",
              " 'There were more people on welfare than working in 2013.',\n",
              " 'Says Tammy Baldwin introduced a bill that would require doctors and other health care workers to ask patients, including young children, whether they are gay, lesbian, bisexual, or if they know their gender identity.',\n",
              " 'Says State Rep. Kristi Thibaut was an ACORN lobbyist.',\n",
              " 'Atlanta is the No. 1 trading point for sexual slavery in America. Between 100 and 200 girls are sold into slavery in Atlanta every month.',\n",
              " 'According to a national survey, transit ridership among people age 16 to 34 increased 40 percent between 2001 and 2009.',\n",
              " 'In fiscal year 2011-2012, 4,191 abortions were paid for by taxpayers via the Oregon Health Plan.',\n",
              " 'Any legislative action that is taken now could very well be rendered completely null and void by the decision of the Supreme Court expected this June.',\n",
              " 'Im the only (Republican)candidate that has actually reduced the size of government.',\n",
              " 'After how hard you work and how much you pay in taxes, New York City ends up getting the money. Im Chris Jacobs. I think its time we have someone in Albany thats making sure our region gets our fair share',\n",
              " 'Amazing fact: Senate has already voted on more amendments in 2015 than Reid allowed ALL YEAR last year.',\n",
              " 'Says state Supreme Court candidate Joe Donald twice supported incumbent Justice Rebecca Bradley.',\n",
              " 'One out of every four students fails to earn a high school diploma. In our major cities across America, half of our kids dont graduate.',\n",
              " 'There were 36 states where Republicans who were in charge refused to implement a state (health insurance) exchange.',\n",
              " 'Says a tweet he sent out wasnt saying, check out a sex tape. It was just take a look at the background of Alicia Machado.',\n",
              " 'Aphotograph of 21-year-old Hillary Clinton featured a Confederate battle flag in the background.',\n",
              " 'Texas leads the nation in the percentage of residents without health insurance.',\n",
              " 'This administration and this Congress have been systematically cutting funding to border security since the Democrats took control.',\n",
              " 'A new college tuition reciprocity agreement with Minnesota makes college education more affordable for Wisconsin residents.',\n",
              " 'Says Cory Booker supports late-term and partial-birth abortion and opposes safety regulations.',\n",
              " 'Mitt Romney is the first major party candidate for president of the United States in modern times not to release at least 12 years of tax returns.',\n",
              " 'In the month of July alone, EU exports to South Korea increased by over 36 percent. A lot of that is our market share. Those are our farmers and our service providers who are suffering.',\n",
              " 'Gov. Rick Perry spent over a million dollars on D.C. lobbyists asking for more federal money and lives in a luxury house that costs taxpayers $10,000 a month.',\n",
              " 'As Virginia lost over 65,000 jobs, (Tim) Kaine put partisan ambitions first by serving as DNC chairman during the last year of his governorship.',\n",
              " 'The DNC says McCain flip-flopped on whether the Iraq War would be easy.',\n",
              " 'Says Ohio law gives tax breaks to rich people who own private jets.',\n",
              " 'Says Zack Space voted for budgets and debt, energy taxes and the stimulus, and we still lost more than 2.5 million jobs.',\n",
              " 'Says Paul Ryans budget plan ends Medicare.',\n",
              " 'In every ethics case that has resulted in a formal sanction, theres been an investigative subcommittee thats been established first.',\n",
              " 'Says New Hampshire has the third-highest property tax in the country.',\n",
              " 'Obama\\'s tax plan cuts taxes \"for 95 percent of all working families.\"',\n",
              " 'Says Colorado Democraticcongressional candidate MorganCarroll racked up $11 billion in new spending in the state Legislature.',\n",
              " '59 percent of Americans today believe that Barack Obama is still a Muslim.',\n",
              " 'Carol Shea-Porter wants to increase taxes on small business and job creators.',\n",
              " 'People were hopeless. Sixty percent of the population, 70 percent of the population wanted to live somewhere else. . . . By the time I left, 70 percent wanted to stay.',\n",
              " 'A bill delaying the start of classes until Labor Day would permit school districts to shave 5 full weeks off the school year.',\n",
              " 'On whether the United States should intervene in Libya.',\n",
              " '99.97 percent of the kids live in poverty that attend Cleveland public schools.',\n",
              " 'John Kitzhaber created 128,000 new jobs while governor.',\n",
              " 'Says Texas ranks 49th nationally in what we are doing to support our per-pupil investment in education in the state.',\n",
              " 'Despite keeping distance from national media interviewers, I did local press all along, the last three months.',\n",
              " 'What we said was, you can keep (your plan) if it hasnt changed since the law passed.',\n",
              " 'In 2006, Bernie Sanders voted in the House with hard-line Republicans for indefinite detention for undocumented immigrants, and then he sided with those Republicans to stand with vigilantes known as Minutemen who were taking up outposts along the border to hunt down immigrants.',\n",
              " 'Says Florida didnt offer special incentives to Deutsche Bank, which announced it will add 300 jobs in Florida.',\n",
              " 'Says she was the first in her family to go to a four-year college.',\n",
              " 'There was a Gallup poll in Egypt last year, and 70 percent of Egyptians dont want our money.',\n",
              " \"The truth of the matter is that during my administration, the FBI's crime statistics show that violent crime was reduced in Massachusetts by 7 percent.\",\n",
              " 'Scott Maddox has run \"losing campaigns for 3 of Florida\\'s 4 available cabinet positions.\"',\n",
              " 'Americans spend 6.1 billion hours a year on tax preparation.',\n",
              " 'The budget I managed at the Department of Education was more than $60 million.',\n",
              " 'We are now, for the first time ever, energy independent.',\n",
              " 'Last year, Exxon pocketed nearly $4.7 million every hour.',\n",
              " 'AARP is \"the largest reseller of insurance in the country\" and \"has a vested interest in seeing that the market for reselling supplemental insurance expands.\"',\n",
              " 'Medicare monthly premiums will go up to $104.20 in 2012 and $247.00 in 2014 due to provisions incorporated in the Obamacare legislation, purposely delayed so as not to confuse the 2012 re-election campaigns.',\n",
              " 'Right now, 50 percent of Florida students leaving high school cannot read at grade level.',\n",
              " 'Says Republican Sen. John McCain won more votes for president in Cuyahoga County in the 2008 general election than he did in seven states.',\n",
              " 'Marco Rubio voted against funding health clinics that provide critical care during this public health emergency (Zika).',\n",
              " 'Youre in more trouble if you leave your pet in the car than if you leave your child in the car.',\n",
              " 'SaysPeter Kilmartin voted in favor of expanding the good behavior statute to sex offenders.',\n",
              " 'On letting Occupy Atlanta protesters stay in Woodruff Park.',\n",
              " 'What I have put forward does not add a penny to the debt.',\n",
              " 'There are more African American men in prison, jail, on probation or parole than were enslaved in 1850.',\n",
              " 'In first week as governor, Tim Kaine proposed a nearly $4 billion tax increase, $4 billion, including a tax increase on people earning as little as $17,000 a year.',\n",
              " 'On Lee Fishers watch, almost nine out of 10 jobs that Ohio lost were lost to other states, not to other countries.',\n",
              " 'Every president has raised the debt ceiling.',\n",
              " 'Limiting labor negotiations to only wages is how it is for the most part in the private sector.',\n",
              " 'Says on contraception, his plan is cheaper and easier for you than Sen. Mark Udalls',\n",
              " 'The states have always defined marriage.',\n",
              " 'Families in Del Valle, who are City of Austin residents, have to drive to Bastrop to go to the closest grocery store.',\n",
              " 'John McCain \"opposed legislation to fund levees and flood control programs, which he considers pork.\"',\n",
              " 'Mitt Romneys pledged to protect (oil companies) record profits and their billions in special tax breaks, too.',\n",
              " 'Mark Warner voted for nearly $1 trillion in new taxes and $7 trillion in new debt.',\n",
              " 'State government spending will be increase 10.7 percent this year.',\n",
              " 'Says Democrats first proposed prohibiting the government from negotiating prices for prescription drugs in Medicare Part D and he had nothing to do with that provision in the law.',\n",
              " 'The FCCs net neutrality policy includes whatis essentially a massive tax increase.',\n",
              " 'The typical white male worker in this country is making in real terms what he was making in 1973 and the average worker is making what they were making in 1996.',\n",
              " 'A United Nations arms treaty would almost certainly force the U.S. to create an international gun registry, setting the stage for full-scale gun confiscation.',\n",
              " 'More people die from medical misadventures than firearm accidents nationally and in Florida.',\n",
              " 'When we took office, let me remind you, there was virtually no international pressure on Iran.',\n",
              " 'The minimum wage is mostly an entry-level wage for young people.',\n",
              " 'Says six studies verify that the math adds up for Mitt Romneys tax plan.',\n",
              " 'In the United States, weve had 12 years in a row of wages declining.',\n",
              " 'Charlie Crist has six different positions on ObamaCare.',\n",
              " 'In the last few months alone, we have apprehended extremists within our borders who were sent here from the border region of Afghanistan and Pakistan to commit new acts of terror.',\n",
              " \"As governor, I've stood up to ... the big oil companies.\",\n",
              " 'This year, were off to our best private-sector jobs growth since 1999.',\n",
              " 'Says abortion doctors are flying into this state, performing abortions and flying out.',\n",
              " 'Speaker Gingrich for 20 years supported a federal individual mandate for health insurance.',\n",
              " 'There have been at least 100 shootings each year [Angel Taveras] has been mayor of Providence.',\n",
              " 'Maurice Ferre says Kendrick Meek has voted 98.6 percent of the time with the Democrat party.',\n",
              " 'Weve created more jobs in the United States than every other advanced economy combined since I came into office.',\n",
              " 'One in four inmates is an illegal immigrant.',\n",
              " 'Wisconsin is dead last in income growth among midwestern states during Gov. Scott Walkers term.',\n",
              " 'A three-cents-per-ounce soda tax in Philadelphia would result in the loss of 2,000 family-sustaining Teamster Union jobs and countless other jobs in the beverage industry.',\n",
              " 'I have had the challenge during this administration to suspend no less than 37 public officials in about 36 months.',\n",
              " 'Kendrick Meek was #1 in Florida in taking tobacco cash and then opposed a tax on cigars that would have helped pay for childrens health care.',\n",
              " 'Federal Reserve policies have led to a 69 percent rise in corn prices, 44 percent rise in wheat prices and 15 percent spike in sugar prices over the last year.',\n",
              " 'On repeal of Wisconsins smoking ban',\n",
              " 'Ninety percent of Texans say they do not want the nursing homes to close. It polls higher than anything else.',\n",
              " 'For the first time ever, we completely funded the critical needs waiting list so persons with unique abilities can get the help they need.',\n",
              " 'Paul Ryan got his start in politics, as a young staffer just out of college, working for then-Congressman John Kasichs Budget Committee.',\n",
              " 'Race to the Top grants require participating states to adopt the Common Core standards as a condition for receiving federal funding.',\n",
              " 'President Obama in November of last year wiped away (a program) that allows for shared fingerprinting for those who are behind bars so you know who is here legally and illegally.',\n",
              " 'McCain sought the political support of minister John Hagee, \"who believes Hurricane Katrina was God\\'s punishment for gay rights and called the Catholic Church \\'the Antichrist\\' and a \\'false cult.\\'\"',\n",
              " 'Says 51 percent of federal tax filers paid zero federal income tax.',\n",
              " 'Because of the 2011 debt ceiling fight, the stock market lost 2,000 points.',\n",
              " 'Since Wisconsin Gov. Scott Walker took office, we are losing jobs at rates not seen in decades.',\n",
              " 'Says U.S. Senate rival Tammy Baldwin supports a tax increase that President Obama says would cost middle-class families $3,000 per year.',\n",
              " 'I would be the first Republican senator elected in New Jersey in 41 years.',\n",
              " 'Wisconsins attorney general and state treasurer ordered the daughter of Earth Day founder Gaylord Nelson not to discuss climate change on state time.',\n",
              " 'Says unions take away hard-earned money of teachers, firefighters and police officers to play politics.',\n",
              " 'President Bush never did one interview with the New York Times during his entire presidency.',\n",
              " '14,000 Americans . . . lose their health insurance every single day.',\n",
              " 'Mr. Trump is self-financing his campaign, so we dont have any donors.',\n",
              " 'Nearly 2,000 high schools - roughly 12 percent of all secondary schools in the United States - produce about half of the nations dropouts.',\n",
              " 'Embryonic stem cell research is at a dead end, with no one good example of a successful treatment.',\n",
              " 'The U.S. spends more money on its military than the 16 biggest military budgets in the world combined.',\n",
              " 'Wisconsin has only one county, Dane, thats hand counting the votes in the 2016 presidential recount.',\n",
              " 'Says Libya Ambassador (Christopher) Stevens sent 600 requests for help in Benghazi.',\n",
              " 'The Affordable Care Act is bringing the cost of health care in our country down.',\n",
              " 'Tens of thousands of Atlanta households pay more than 30 percent of their income towards rent.',\n",
              " 'Rick Perry had planned to retire from the legislature until his best friend, David Weeks, and I talked him into switching parties and running for the GOP nomination for agriculture commissioner.',\n",
              " 'As the usage [of synthetic marijuana] has dramatically increased, instances of violence, bodily harm and even death have risen with it.',\n",
              " 'Out of 150,000 tenured teachers in the last 10 years, only 17 have been dismissed for incompetence.',\n",
              " 'The Providence teacher contract is one of the longest in the country.',\n",
              " 'In 1929, the Secretary of State shut down a program that was collecting information to protect America because it was unseemly, but that move led to millions and millions of deaths in World War II.',\n",
              " 'Look at the debt that has been accumulated in the last two years. Its more debt under this president than all those other presidents combined.',\n",
              " 'The Chris Hani Baragwanath in South Africa is the worlds third-biggest hospital.',\n",
              " 'Annual precipitation has increased in Rhode Island by over 12 inches in the last century.',\n",
              " 'Says Connie Mack initially said he would have voted yes for the Paul Ryan budget plan, and then, you said it was stupid and you would vote no. And then your folks corrected you, and you changed your position again, yes.',\n",
              " 'The state budget proposal has been submitted on time and [its] the earliest that a governor has done so in over two decades.',\n",
              " 'Ohio is not meeting its obligation to update voter registrations when voters change their address with the BMV.',\n",
              " 'Vietnamese is the third most commonly spoken language in Texas.',\n",
              " 'What we have now is the most generous, in my opinion, good time bill in the entire United States.',\n",
              " 'There is no Plan B if the transportation referendum is not passed by voters.',\n",
              " 'Barack Obama wrote a thesis at Columbia University in which he criticized \"plutocratic thugs\" and said the Constitution gave Americans \"the shackles of hypocrisy.\"',\n",
              " 'Youll find blacks in almost every regiment throughout the South who fought right alongside white Southerners, during the Civil War.',\n",
              " 'The most likely triggering cause of (microcephaly) is the DTaP shot, a vaccine that had been recently mandated by the Brazilian government to be injected into pregnant women.',\n",
              " 'Our economy still has three people looking for every job (opening).',\n",
              " 'Says she got unions to agree to about $10 million in reduction of salaries and health benefits while serving as Dane County executive in Wisconsin.',\n",
              " 'Democrats have lost more than 900 state legislators since Barack Obama has been president.',\n",
              " 'Carly Fiorina, shes against banning assault weapons.',\n",
              " \"Hillary's baby bond proposal would give $5,000 to each of the 4-million babies born in the U.S. each year, totaling $20-billion per year, multiplied by four years = $80-billion.\",\n",
              " 'Says her campaign platform includes the biggest investment in new, good-paying jobs since World War II.',\n",
              " 'Joe Biden brought Republicans and Democrats together to pass the 1994 crime bill, putting 100,000 cops on the streets and starting an eight-year drop in crime across the country.',\n",
              " 'If Rhode Island does a hybrid [retirement] plan well be the first state in the nation to do this.',\n",
              " 'Before the terrorist attacks in Benghazi, the State Department not only failed to honor repeated requests for additional security, but instead actually reduced security in Libya.',\n",
              " 'Failure to raise the debt limit does not force a U.S. default on debt payments.',\n",
              " 'Democrats in the Legislature in 2009 voted for various pork projects including a $5 million scoreboard for the Milwaukee Bucks.',\n",
              " 'Says Donald Trump has defended World War II internment camps.',\n",
              " 'Bill McCollum holds the same position on (embryonic stem cell research) as Barack Obama.',\n",
              " 'In 1999, the NRA leadership in Washington, pretty much the same people intact, were for (expanded background checks.)',\n",
              " 'Turkey is an Arab country.',\n",
              " 'Newt Gingrichs presidential campaign has exactly the same challenges as Ronald Reagans successful 1980 bid.',\n",
              " 'The number of people in Atlanta dying from HIV and AIDS declined 59 percent between 2004 and 2012.',\n",
              " 'Says Lee Leffingwell raised property taxes 20 percent in three years.',\n",
              " 'Accuses President Barack Obama of making contradictory claims about efforts to kill Osama bin Laden in 2008 and 2011.',\n",
              " '8 years of the Clintons, major losses for Democrats across the nation.',\n",
              " '92 percent of the jobs lost during Barack Obamas first term belonged to women.',\n",
              " 'Says President Barack Obama was responsible for the assassination of at least four American citizens in drone strikes.',\n",
              " 'It used to be the policy of the Republican Party to get rid of the Department of Education. We finally get in charge and a chance to do something, so we double the size of the Department of Education.',\n",
              " 'We have 395 inmates pushed into triple-bunked cells intended for two inmates and bunked in classrooms and areas supposed to be designated for inmate labor.',\n",
              " 'The ACLU didnt call for an investigation (of the Newark police department), they called for an immediate federal monitor.',\n",
              " 'Says his executive order requiring young girls to be vaccinated against HPV wasnt mandatory.',\n",
              " 'Says a highway was closed in El Paso because of bullets flying across the border.',\n",
              " 'If the House of Representatives fails to extend the middle-class tax cuts, 400,000 middle-class Rhode Island families will see their federal income taxes increase.',\n",
              " '95 percent of the income gains in the last few years have gone to the top 1 percent.',\n",
              " 'Eight out of the nine states with competitive Senate races, Hispanics make up less than 10 percent of the electorate.',\n",
              " 'We didnt go out and take information from the Hillary Clinton campaign.',\n",
              " \"If you actually took the number of Muslims [sic] Americans, we'd be one of the largest Muslim countries in the world.\",\n",
              " \"On the pace that we're on with job creation in the last four months ...we will have created more jobs in this year than in the entire Bush Presidency.\",\n",
              " 'Says Nikita Khrushchev brought an extra shoe to a United Nations session in 1960, which he banged on the desk in protest.',\n",
              " 'Low-flow toilets can cost homeowners up to $1,000 each.',\n",
              " 'Jim Renacci voted repeatedly to end Medicare.',\n",
              " 'Sen. Joe Liebermans home state has a public option which covers about 10,000 of its citizens that was introduced by its Republican governor.',\n",
              " 'Says this months special session will cost the state $27,300 a day just for legislators daily living expenses.',\n",
              " 'Wind powers nearly 13 million homes across the country.',\n",
              " 'Says businesses pay roughly 60 percent of taxes in Texas.',\n",
              " 'Health insurance companies pay CEOs $24 million a year',\n",
              " 'Every president since Franklin Delano Roosevelt has had fast-track trade authority.',\n",
              " 'Says Donald Trump wants to deport our Dreamers.',\n",
              " 'Says Barack Obama is apparently not for vetting people and saying just anybody can come to the United States.',\n",
              " 'The majority of Americans are conservatives.',\n",
              " 'Says a lawmaker seeks to defund Planned Parenthood for cutting children into small pieces.',\n",
              " 'Obama has racked up more debt than any president in history over $5 trillion.',\n",
              " 'Says Arizona congressional candidate Ray Strauss is a Champion of Big Government for his votes to raise taxes while on the local city council.',\n",
              " 'Says with Gov. Chris Christie and bipartisan reformers New Jersey had the most job growth in 11 years.',\n",
              " 'Says Oregon is near the top or at the top of the list when it comes to capital gains tax',\n",
              " 'The No. 1 issue that the American people care about is getting America back to work.',\n",
              " 'Says in 1944 we were in debt more than twice as much as we are now.',\n",
              " 'Says Ronda Storms voted to fund the Taj Mahal courthouse.',\n",
              " 'In France, they have a (surveillance) program a thousandfold more invasive than the United States.',\n",
              " 'One-half of undocumented workers pay federal income taxes, which means they are paying more federal income taxes than Donald Trump pays.',\n",
              " 'Last week the Blue Chip Economic Indicators came out that surveys lots of private forecasters. Almost all of them are predicting a turnaround in the third quarter and positive growth in the fourth quarter.',\n",
              " 'Since the United States began negotiations with Iran, thats probably the first year and a half in which Iran has not advanced its nuclear program in the last decade.',\n",
              " 'Says Ohios I-X Center used to be a great plant, but thousands of people of worked here, and they left when their jobs were moved overseas.',\n",
              " 'Weve got a 1,000 National Guard troop request thats been in front of this president for over a year and no response.',\n",
              " 'Under a new law, doctors performing drug-induced abortions could be charged if women dont return to them for follow-up care',\n",
              " 'Says veterans disability claims backlog doubled in Obamas first term.',\n",
              " 'At a minimum, 40 percent of those who view child pornography end up molesting children as a result.',\n",
              " 'In 67 different ways, Governor McCrory has raised taxes on middle income families.',\n",
              " 'Romney adviser admits Romneycare was blueprint for Obamacare.',\n",
              " 'Says Texas voters are being asked to act this November on a proposed constitutional amendment affecting property taxes.',\n",
              " 'Its hard to get people in Portland to vote yes on ballot measures, especially when theres opposition.',\n",
              " 'The @nytimes sent a letter to their subscribers apologizing for their BAD coverage of me.',\n",
              " 'Some businesses in Oregon are having to shrink back their businesses as a result of the law.',\n",
              " 'Says 11 straight years of no major hurricanes striking land in the United States bores a hole right through the whole climate change argument.',\n",
              " 'We spend more money on health care per capita in the United States than any other country in the world. Of the 30 developed countries in the world, we spend 2 1/2 times more than the average. Of the country that spends the second most per capita, Switzerland, we spend 175 percent more.',\n",
              " 'I have 2 and a half million more votes than he (Sanders) does.',\n",
              " 'On abortion',\n",
              " 'Members of Congress receive full pay retirement after serving one term.',\n",
              " 'Says he worked with the Democratic legislature to balance spending with revenues so that at the end of my four-year term, the rainy day fund was established at more than $2 billion.',\n",
              " 'In 2010 alone, 1,270 infants were reported to have died following attempted abortions and notably that is only one year.',\n",
              " 'Says the No. 2 cause of death in the U.S. (for) women under 50 is being killed by their spouse or domestic partner.',\n",
              " 'Just about everyone everywhere is spending more hours on the job, less time with their families, bringing home smaller and smaller paychecks, while theyre paying more and more at the gas pump and the grocery stores.',\n",
              " 'The hour of sleep you lose during the change to daylight saving time might initially pose some health risks.',\n",
              " 'David Perdue said hed raise taxes.',\n",
              " 'I am the first Latina to run for governor of Texas.',\n",
              " 'Says Every legislative district in the state has at least one craft brewery and countless home brewers.',\n",
              " 'Wisconsins criminal threshold for drunken-driving is way out of line with states surrounding us, which have the second offense as a felony.',\n",
              " 'In Ohio, we invested in our children, raising school funding by 5.5 percent in the last budget.',\n",
              " 'The poverty level in the Dallas school district is one of the highest in the country, higher than New York, Chicago, Los Angeles, Houston, Detroit and Newark.',\n",
              " 'Says in the last six months of the Bush administration, the U.S. lost 3.5 million jobs, including 760,000 jobs during January 2009 alone.',\n",
              " 'In 2007, when Nancy Pelosi met with President Assad of Syria, nobody got upset.',\n",
              " 'For the past eight years, Gov. Carcieri and Mrs. Carcieri would host the lighting of the State House Christmas tree.',\n",
              " 'Rhode Island has the the second-most heavily deployed National Guard in the United States.',\n",
              " 'Says Demond Means, turnaround district superintendent for Milwaukee Public Schools, said the district needs to be gutted.',\n",
              " 'SaysVirginia RepublicanScott Taylor has been convicted in at least four different courts across the country, at times failing to even appear, and having a warrant issued for his arrest.',\n",
              " 'Nearly 90% of Travis County government races will be settled by the time of the Democratic primary.',\n",
              " 'Says Mahatma Gandhi once said, First they ignore you, then they laugh at you, then they fight you, then you win.',\n",
              " 'Savings that I achieved helped fund cameras on the border. As a result, more than 21,500 arrests have been made and 46 tons of narcotics confiscated.',\n",
              " 'The American people will be appalled to learn the health care bill exempts (congressional) leadership and committee staff.',\n",
              " 'Says the number of Americans living at or below the poverty line is at its highest level since 1964.',\n",
              " 'The IRS will have the ability potentially to deny or delay health care.',\n",
              " 'Deregulation of the states telecommunications industry will create 50,000 jobs in Wisconsin.',\n",
              " 'We admit about 100,000 permanent immigrants from the Middle East every year.',\n",
              " 'Says paid family leave is a program that is standard in all but five nations around the world.',\n",
              " 'Nearly 14,000 Wisconsinites have lost their job since Governor Walker and the Republicans took over in January.',\n",
              " 'Says in the last 20 years, the French have not stood by the United States on foreign policy.',\n",
              " 'For the average middle-class family, your taxes today are lower than when I took office.',\n",
              " \"There's more than 100,000 people working at the Department of Agriculture. That's 1 employee for every 30 farmers.\",\n",
              " 'Says Attorney General Loretta Lynch was a member of Bill Clintons defense team during the 1992 Whitewater corruption probe.',\n",
              " 'Says thousands at a Manhattan rally for Donald Trump were chanting We hate Muslims, we hate blacks, we want our great country back.',\n",
              " 'Barack Obama \"passed laws moving people from welfare to work.\"',\n",
              " 'Says Mitt Romney is wrong to claim that spending under Obama has accelerated at a pace without precedent in recent history, because its actually risen slower than at any time in nearly 60 years.',\n",
              " 'Says President Barack Obama promised a pathway to citizenship to undocumented immigrants and didnt deliver jack squat on any of it.',\n",
              " 'California has robust job growth that outpaces the rest of the nation.',\n",
              " 'The amount of debt is on pace to double in five years and triple in 10. The federal debt is now over $100,000 per household.',\n",
              " 'The minute this proposal for near-beach oil drilling came up, I was against it.',\n",
              " 'The proposed Gogebic mine in northern Wisconsin could be extended as long as 21 miles.',\n",
              " 'The Richardson-Denish administration gave 50,000 drivers licenses to illegal immigrants in New Mexico.',\n",
              " 'If youre a Mexican, you get sent back. ... But if youre from a noncontiguous country like the Central American countries then you can stay in the United States.',\n",
              " 'Says the United States actually exports more gasoline, diesel and other fuels than it imported in 2011 for the first time since, I think, 1949.',\n",
              " 'Says Richard Burr was one of only three senators who voted against a ban on insider trading for members of Congress. And he called that vote brave.',\n",
              " 'Christian Pastor in Vermont Sentenced to One Year in Prison After Refusing to Marry Gay Couple',\n",
              " 'Rhode Island is the only state where officers at state-supported [colleges] carry out their duties unarmed.',\n",
              " 'Says the United States has the highest corporate tax rate in the world.',\n",
              " 'It was allowed, referring to her email practices.',\n",
              " \"The law is very clear! 'The monies recouped from the TARP shall be paid into the general fund of the treasury for the reduction of the public debt.'\",\n",
              " 'Our veterans, in many cases, are being treated worse than illegal immigrants.',\n",
              " 'Says Paul Ryan tried to change the whole game for Social Security',\n",
              " 'Says Rob Portman was a registered foreign agent whose client was Haiti, at a time when the Baby Doc, Duvalier, who was a despot, was killing people.',\n",
              " 'Recent solar energy policies in Georgia have resulted in rate hikes and did not result in solar becoming any more economically viable.',\n",
              " 'Says President Barack Obamas acceptance of an Islamic order and gold medal was unconstitutional.',\n",
              " 'In 2010, the non-partisan Government Accountability Office found that only 6.5 percent of the U.S.-Mexico border was under full control of the Border Patrol.',\n",
              " 'Not one tax has been raised since Ive been governor.',\n",
              " 'Demand for transportation choice is on the rise, with 14 percent more Ohioans riding passenger trains over the past year.',\n",
              " 'A poll conducted in Egypt revealed that 80 percent of Egyptians oppose receiving foreign aid from the United States.',\n",
              " 'We spend twice as much per capita on health care as any other nation on Earth.',\n",
              " 'Says the Texas Education Agency follows up to make sure undocumented immigrants paying in-state tuition at Texas colleges are applying for permanent residency.',\n",
              " 'Says 18 states and the District of Columbia have voted Democratic in six consecutive presidential elections.',\n",
              " 'Hidden in the healthcare.gov code is language that means users waive any reasonable right to privacy of your personal information.',\n",
              " \"One of the most recent polls said 75 percent of the American people have said either don't do anything or start over (on health care reform).\",\n",
              " 'Most military experts say there is anywhere between 25 and 30 members of al Qaeda in Afghanistan.',\n",
              " 'The average American is working through the month of May just to pay off the government.',\n",
              " 'Says Kelly Ayotte stands with the Washington gun lobby. They fund her campaigns.',\n",
              " 'Barack Obama\\'s network of small donors constitutes a \"parallel public financing system.\"',\n",
              " 'In Cranston, it costs $5,000 to $6,000 to send out community notifications on just one Level 3 sex offender.',\n",
              " 'While the countrys economy was battered, nine states with no income tax actually grew jobs from 2001 to 2010.',\n",
              " 'The United States is not building the aircraft, the long-range bombers, the additional aircraft carriers, the nuclear submarines.',\n",
              " 'Every year we spend roughly $500 billion on tax compliance. That is roughly the budget of our entire military, entirely wasted on tax compliance.',\n",
              " 'They say teachers only make on averagein New Jersey 60,000 dollars a year.They only work 180 days.',\n",
              " 'I can put 10,000 people to work. Electricians, plumbers, sheet metal workers -- by retrofitting all of the state buildings for energy independence or efficiency.',\n",
              " 'Exporters are using a federal loophole to deceptively sell products made from cat and dog fur to U.S. consumers.',\n",
              " 'The city of Atlanta has either the highest or second-highest average water bills in the country.',\n",
              " 'Mitt Romneys and Bain Capitals profits from KB Toys, which later went out of business, were described by the Boston Herald as disgusting.',\n",
              " 'Roy Coopers refusal to do his job is costing taxpayers money.',\n",
              " 'In exchange for five minutes with Bill Clinton, the government of Qatar was going to give $1 million to the Clinton Foundation.',\n",
              " 'Speaker Rubio supported gun restrictions that included background checks and waiting periods.',\n",
              " 'Salaries of Austin residents who dont work for city government have not been going up 3 percent a year for the last several years.',\n",
              " 'She (Kagan) took money from Goldman Sachs just like her boss, Obama.',\n",
              " 'Did you know that in 2013 over 50 percent of all babies born in Oregon were Hispanic?',\n",
              " 'We are one of only two states to have eight consecutive months of declining unemployment. Twenty-one states had increased unemployment last month. Ours went down.',\n",
              " 'Barack Obama wants to \"unilaterally disarm our nation.\"',\n",
              " 'On an earmark moratorium.',\n",
              " 'Milwaukees problems include 52 percent black male unemployment.',\n",
              " 'Rob Cornilles has disputed for two years a news story that said he said he would cut Social Security and Medicare programs before trimming the U.S. defense budget.',\n",
              " 'Says Texas Railroad Commissioner Michael Williams has attended more than 150 tea party gatherings.',\n",
              " 'Harry Reid has voted to give special tax breaks to illegal aliens.',\n",
              " 'Job growth in the United States is now at the fastest pace in this countrys history.',\n",
              " 'When asked about equal pay for women, (Rubios) quote was that it was a waste of time.',\n",
              " 'Atlanta has issued an increasing number of citations - and collected an increasing amount of revenue - since Mayor Kasim Reed took office in 2010.',\n",
              " 'Says he was known as Veto Corleone for cutting spending as Florida governor.',\n",
              " 'The last time Republican U.S. Senate candidates beat more than two (incumbents) was 1980.',\n",
              " 'On how to respond to Puerto Ricos debt crisis.',\n",
              " 'The State of Rhode Island has the worst state-funded pension in the country.',\n",
              " 'In 2009 Hillary Clinton was at the State Department working with U.S. corporations to pressure Haiti not to raise the minimum wage to 61 cents an hour from 24 cents.',\n",
              " 'More than any Republican governor in the 2014 elections, I took a higher percentage of the Republican voteand yet I also carried independents by 12 points.',\n",
              " 'After the 2012 redistricting, Wisconsin has competitive congressional districts.',\n",
              " '(John McCain) was even mentioned as a running mate with John Kerry.',\n",
              " \"I've cast a couple of 99-1 votes and been the lone dissenter.\",\n",
              " 'Says hes never asked for more than inflationary budget increases in his 10 budgets as Milwaukee County sheriff',\n",
              " 'Under New York Mayor Bill de Blasio, homicides are up by 20 percent, and subway delays have soared 45 percent.',\n",
              " 'And delivered more tax relief than the other Republicans combined.',\n",
              " 'Says U.S. Rep. Lamar Smith supported the $700 billion Wall Street bailout in 2008, \"but now he is standing in the way of reforms that would assure these bailouts would never happen again.',\n",
              " '#GradInsurance debacle is a DIRECT result of #ObamaCare. #MIZZOU has to break the law to do the right thing.',\n",
              " 'Says President Obama has waived the work requirement for welfare.',\n",
              " '7 out of 10 Oregon families living in poverty have at least one parent who works.',\n",
              " 'Ninety-seven percent of the time. Thats how often Mark Warner votes with President Obama.',\n",
              " 'Says Rick Perry is a 25-year incumbent.',\n",
              " 'Says an array of statistics show that conditions in some parts of Baltimore rival that of the West Bank in Palestine, North Korea, and distressed cities in Nigeria, India, China and South Africa.',\n",
              " 'The House passed a pay-as-you-go rule that said, \"If you wanted to have an investment, an entitlement, etc., you had to pay for it.\"',\n",
              " 'The numbers make it clear that Georgia voters are increasingly taking advantage of early voting opportunities.',\n",
              " 'Says Ocean Spray is moving its Bordentown processing facility to Pennsylvania largely because of costs associated with the Regional Greenhouse Gas Initiative.',\n",
              " 'On running for the presidency in 2012',\n",
              " 'Rhode Island is almost dead last among Northeastern states in the length of time first-degree murderers must spend in prison before theyre eligible for parole.',\n",
              " 'All the really great programs in American history, Social Security, was done without Republicans. Medicare was done without Republican support until the last vote where they realized they had to get on board.',\n",
              " 'Diane Black voted to fund Obamacare.',\n",
              " 'Hurricane Sandy, the most destructive Atlantic storm ever.',\n",
              " 'The Hispanic population in Gwinnett and Henry counties has increased by 153 percent and 339 percent, respectively, since 2000 while Republican presidential candidates are getting a smaller percentage of the vote in those counties.',\n",
              " 'I was the most bipartisan senator in the United States Senate.',\n",
              " 'Says Gov. Scott Walker raises the pay of inmates, but we dont raise the pay of staff in our correctional institutions.',\n",
              " 'The current debate over authorizing military action against the Islamic State would be the first time Congress would place limits on the commander-in-chiefs ability to be commander-in-chief.',\n",
              " 'U.S. debt is now equal to 100 percent of the GDP.',\n",
              " 'Tom Ganley supports a 23 percent national sales tax that would raise taxes on the middle class while giving a huge tax break to millionaires like himself.',\n",
              " 'Pat Toomey still supports privatizing Social Security.',\n",
              " 'The marijuana that kids are smoking today is not the same as the marijuana that Jeb Bush smoked 40 years ago.',\n",
              " 'Barack Obama voted against born alive legislation in Illinois that was virtually identical to the federal law.',\n",
              " 'Says Trump shirts are made in Bangladesh, Trump suits in Mexico, Trump Vodka in the Netherlands, Trump crystal barware in Slovenia and his cufflinks and ties in China.',\n",
              " 'Says President Barack Obama has opened up no new trade relationships with other nations.',\n",
              " 'Says taxpayer subsidy for the Oregon Convention Center hotel jumped $100 million in closed-door sessions',\n",
              " 'Says you can buy four light bulbs for $1.99 at Walmart, while a single compact fluorescent lamp (CFL) costs $10 a pop.',\n",
              " '(Jeb) Bush, not the State of Florida, decided which private emails to disclose.',\n",
              " 'History tells us that job growth always lags behind economic growth.',\n",
              " 'Bill Howell has been the consistent force behind every major tax increase in Virginia in the last decade.',\n",
              " 'More than 9,000 Rhode Island voters used the Moderate Party master lever mechanism and they didnt have a single Moderate on their ballot.',\n",
              " 'President Obama is attacking Paul Ryan on Medicare even though it is his administration with the help of Jim Langevin who cut $716 billion from Medicare.',\n",
              " 'Says Hillary Clinton has even deleted this record of total support (for the Trans-Pacific Partnership trade agreement) from her book.',\n",
              " \"Obama says Iran is a 'tiny' country, 'doesn't pose a serious threat.'\",\n",
              " 'Barbara Boxers worried about the weather instead of terrorism as the biggest threat to national security.',\n",
              " 'We spend three times more on entitlements and debt services than we do on defense.',\n",
              " 'In the 2014 elections, the American people overwhelmingly said we dont want Obamacare and we dont want amnesty.',\n",
              " 'Dan Patrick got caught not paying his taxes and pocketed his employees payroll taxes.',\n",
              " 'Says Merrick Garland authored an opinion that resulted in the release of 17 Guantanamo Bay prisoners who were part of a group of violent Islamist extremists the State Department had designated as terrorists.',\n",
              " 'Congress has 11 percent approval ratings, yet 96.4 percent of incumbent lawmakers were re-elected in 2014.',\n",
              " 'Letting the Bush tax cuts expire would raise taxes on small businesses.',\n",
              " 'Statistics bear out that any time a country, a state, makes more restrictive abortion laws ... fatalities go up and abortions actually increase.',\n",
              " 'The presidents budget would take ... non-defense spending to its lowest level ... as a percentage of the economy since JFK.',\n",
              " 'Of the approximately 6 million disenfranchised felons in the United States, one-quarter are Floridians.',\n",
              " 'Obama \"basically threatened to bomb Pakistan.\"',\n",
              " 'The Governor did not consult members of his own party before he released his [transportation] plan.',\n",
              " 'Ohio has lost more population than every other state in the country except for two.',\n",
              " 'Here in California, Donald Trump has given $12,000 to Jerry Brown, Gavin Newsom and Kamala Harris.',\n",
              " 'Gov. Rick Perry has overseen the highest Texas unemployment in 22 years.',\n",
              " 'On support for the auto bailouts.',\n",
              " 'Ed Gillespies 2006 book promoted an individual health care mandate, and recommends that it be enforced by the IRS through the income tax code.',\n",
              " 'When Republican extremists tried to take away abortion rights Blake Rocap stopped them.',\n",
              " 'Says Obama refuses to recognize Jerusalem as the capital of Israel.',\n",
              " 'Says he helped to draft parts of the Dodd-Frank Wall Street reform bill.',\n",
              " 'Says income tax rates under Eisenhower were as high as 90 percent.',\n",
              " 'American homeownership rate in Q2 2016 was 62.9% - lowest rate in 51yrs.',\n",
              " 'Romneys Medicare plan was estimated to cost the average senior about $6,000 a year.',\n",
              " 'If we had the same staffing ratio (of officers to residents) as Seattle, wed have 300 more officers in our department.',\n",
              " 'Department of Veterans Affairs doctors are prohibited from recommending medical marijuana.',\n",
              " 'When career politician Daniel Webster became speaker of the House, he wasted $32,000 of our money on a spiral staircase for his office.',\n",
              " 'Texas had the highest level of turnout than ever before in the primary.',\n",
              " 'Says the difference between her and Barack Obama is \"about 35 years of experience.\"',\n",
              " '22 veterans take their own lives each day.',\n",
              " 'The United States is the only major country on earth that doesnt guarantee health care to all people as a right, not a privilege.',\n",
              " 'Said former U.S. Ambassador to Kenya Scott Gration was forced to resign two years ago because of his personal use of emails.',\n",
              " 'Says Florida is a model for successful pretrial release programs.',\n",
              " 'If you have ever visited Nashville or Washington D.C. you will see MANY names and initials carved into ... desks.',\n",
              " 'Redistribution has never been a characteristic of America.',\n",
              " 'Tampa is the strip club capital of the world.',\n",
              " 'Said they reached a power-sharing agreement with Republican Lt. Gov. Casey Cagle',\n",
              " 'Says between 6 and 20 bicycles can be parked in the space required by one car.',\n",
              " 'I unsealed my records at Marquette University.',\n",
              " 'Says that U.S. Rep. Allen West is a constituent of mine.',\n",
              " 'The U.S. gives foreign aid to Cuba and Venezuela, even though those countries are our enemies.',\n",
              " 'Says Texas wildfires are linked to climate change.',\n",
              " 'if the Agreement goes into effect, the millions of Mexican citizens who will become eligible for Social Security benefits may have a far stronger claim to benefits and protection against cuts than U.S. citizens!',\n",
              " 'Earlier this year, [John DePetro] was accused of sexually assaulting a female co-worker.',\n",
              " 'Photo of \"tea party\" protests shows crowd sprawling from Capitol to Washington Monument',\n",
              " 'The approval of the United States was 20 points higher when (Hillary Clinton) left the secretary of states office than when she took it.',\n",
              " 'Every one of the 67 supervisors of elections in Florida refused to carry out the effort to remove noncitizens from the voter rolls.',\n",
              " 'Bill Richardson is the only major Democratic candidate with a plan to withdraw all American troops from Iraq. All of the other major Democratic candidates support leaving American troops in Iraq indefinitely.',\n",
              " 'I earned more votes in the state of Wisconsin than Donald Trump did in New York.',\n",
              " 'There are 278 Republicans in Congress. (With Eric Cantors defeat), they are now all Christian and all white except for one black senator, who was appointed.',\n",
              " 'If the Stamp Farm wind turbine is built, the health risk of flicker impact created by shadows of blades of turbines poses real and significant health risks, particularly seizures.',\n",
              " \"Gov. Crist's veto also clears the way for taxpayer funding of abortion in Florida.\",\n",
              " 'Says she condemned violence at a campaign stop in Arizona in March.',\n",
              " 'According to the most recent report, Wisconsins high school graduation rates are also up again -- to third best in the country.',\n",
              " 'In Iran in 1979, the extremists hijacked the broad-based popular revolution against the Shah and established a brutal theocracy.',\n",
              " 'On immigration reform, Marco Rubio all along has been saying, We have to have border security first and then he gets on Spanish TV, he ends up saying, No, no. That will never get in the way.',\n",
              " 'Dem-controlled Ohio House voted to change the process, to create objective criteria, to modify the Constitution ... to take politics out of the efforts to draw legislative boundaries.',\n",
              " 'Over the last few years, weve put more people back to work than all the other advanced economies combined.',\n",
              " 'Obama \"voted against critical resources: no to individual body armor, no to helicopters, no to ammunition, no to aircraft.\"',\n",
              " 'Says U.S. Sen. Sherrod Brown is responsible for over $14 trillion in debt.',\n",
              " 'Under Tom Barretts leadership, violent crime in Milwaukee has decreased by over 20% -- to its lowest levels in more than 20 years.',\n",
              " \"Barack Obama appeared in the video for 'Whoomp! (There it is!)'\",\n",
              " 'Florida has the most concealed weapon permits in the nation, nearly double that of the second state, which is Texas.',\n",
              " 'Under President George W. Bush, the U.S. had 52 months of ... uninterrupted job creation and revenues were at an all-time high in 2007.',\n",
              " 'Says Gov. Scott Walker didnt balance the budget so we now have a larger state deficit 14 months into (his) term than we did when he was elected.',\n",
              " 'Says that compared to direct sales by manufacturers, consumers save avg of $500 per car sold through franchised dealer model.',\n",
              " 'Says that Josh Mandel voted to let insurance companies deny coverage for autism',\n",
              " 'Prior to Obamacare here in Wisconsin, 95 percent of Wisconsinites were covered by insurance. After Obamacare, 95 percent of Wisconsinites were covered by insurance. It hasnt had an impact.',\n",
              " 'Secretary Clinton changes her position on (gun issues) every election year, it seems, having one position in 2000 and then campaigning against President Obama and saying we dont need federal standards.',\n",
              " 'The rifle used by Omar Mateen shoots off 700 rounds in a minute.',\n",
              " 'Building and running the Atlanta Streetcar is projected to create 1,399 jobs.',\n",
              " 'Wisconsin is one of the bluest states, but under Scott Walker its unemployment rate is around 3.5%.',\n",
              " 'Residential property taxes [in Providence] are up nearly 27 percent under Mayor Taveras.',\n",
              " 'Assault weapons and handguns are allowed in the state Capitol while bullhorns, trumpets, helium balloons and flags on poles are banned.',\n",
              " 'Teachers are working their third consecutive year -- some longer than that -- without salary increases.',\n",
              " 'The highest paid employee of the State of Rhode Island is a basketball coach.',\n",
              " \"I don't have lobbyists running my campaign.\",\n",
              " 'Expanding Medicaid would require borrowing more money, drastically expanding our deficit.',\n",
              " 'After (Jeb) Bushs two terms in office, Floridas graduation rate was dead last and remains near the bottom.',\n",
              " 'Farming is one of the fastest growing areas of our economy.',\n",
              " 'Weve seen the increase of alcohol use for underage kids even though alcohol has been illegal ... for kids under 21.',\n",
              " 'If we had been on Obamacare and a bureaucrat was trying to tell me when I could get that CAT scan, that would have delayed my treatment.',\n",
              " 'The proposed Keystone XL oil pipeline is a bipartisan proposal.',\n",
              " 'On support for gay marriage.',\n",
              " 'Says Mitt Romney just gave a speech a few weeks ago and said we should still have troops in Iraq.',\n",
              " 'Says David Dewhurst explicitly advocated a guest worker program for all illegal immigrants.',\n",
              " 'A Republican proposal changes Medicare for those under age 55 so that they will participate in the same kind of health plan that members of Congress do.',\n",
              " 'Says the Affordable Care Act was a federal takeover of the student loan industry and profits on the loans go to help pay for the health care law.',\n",
              " \"Barack Obama had 150 days in the U.S. Senate where he was able to vote quite often 'present.' \",\n",
              " 'Much more than 50 percentof parents out there are spankers.',\n",
              " 'Wisconsin is one of the highest taxed states in the nation.',\n",
              " 'Says opponent Bill Flores helped run a company that laid off over 3,000 workers and paid off executives with millions.',\n",
              " 'Says Michelle Obama has 43 people on her staff; Nancy Reagan had just 3.',\n",
              " 'Says Rick Perry doubled spending in a decade.',\n",
              " 'Texas still owns all of its public lands. If the federal govt wants to create a park, they must ask permission!',\n",
              " 'The 9-0 decision last week was the 13th time the Supreme Court voted 9-0 that the president had exceeded his constitutional authority.',\n",
              " 'Says Tammy Baldwin supports a law in which government will take over your decisions on medicine, on doctors and on hospitals.',\n",
              " 'The projected $1.8 billion state budget shortfall for 2015-17 actually comes from an assumption based on zero growth. That just doesnt happen.',\n",
              " 'Says if we do nothing and continue to let Obamacare siphon off that $700 billion dollars off the top of it, Medicare goes away in less than 10 years -- certain accounts of it -- and it just falls apart at the seams.',\n",
              " 'Says Sen. John McCain spent the July 4 weekend in Islamabad, Pakistan, selling F-16s and advanced weapons to the folks who harbored Osama bin Laden.',\n",
              " 'Says Donald Trump doesnt make a thing in America.',\n",
              " 'Why is President Obama unnecessarily delaying your flight? FAA could cut other spending.',\n",
              " 'John Cornyn has voted to increase the debt, raise taxes, bail out Wall Street banks and fund Obamacare.',\n",
              " 'Washington politicians run Social Security like a Ponzi scheme.',\n",
              " 'Says Republican presidential candidate and Gov. John Kasich has spent 177 days out of state and used $350,000 in taxpayer money on his costly campaign.',\n",
              " 'Ever wonder why no one ever came forward from Obamas past, saying they knew him, attended school with him, was his friend, etc.? Not one person has ever come forward from his past.',\n",
              " 'California has the sixth largest economy on planet Earth.',\n",
              " 'Barack Obama\\'s plan calls for \"mandates and fines for small businesses.\"',\n",
              " 'Says area near proposed northern Wisconsin iron ore mine is 15 hours away from where public hearing on mining was held.',\n",
              " 'Our credit rating went up since Ive been in office.',\n",
              " 'African-American children are 500 percent more likely to die from asthma than white kids.',\n",
              " 'U.S. police killed more people in just one month than the U.K.s did in over a century.',\n",
              " 'The legislature was never given the opportunity to debate or vote on loaning $75 million to 38 Studios.',\n",
              " \"When we've got CEOs making more in 10 minutes than ordinary workers are making in a year ... then something is wrong.\",\n",
              " 'Says 11 soccer players on the U.S. Mens National Team are immigrants.',\n",
              " 'The president by executive order could grant voting rights to illegal immigrants who are newly legalized under pending legislation.',\n",
              " 'Rob Portman won the fewest votes of all Ohio U. S. Senate victors since 2000.',\n",
              " 'Says U.S. Senate candidate Michelle Nunn was handpicked by President Barack Obama',\n",
              " 'China owns about 29 percent of (the U.S.) debt.',\n",
              " 'Chris Sununu supported Obamas Common Core agenda, taking away local control of our schools.',\n",
              " '(President Barack Obama) said unemployment was never gonna go over 8 percent if we passed the stimulus plan.',\n",
              " 'Gwinnett County government has made significant cutbacks in staffing.',\n",
              " 'Says the Constitution specifically states the Congress shall write legislation for immigration policy, so Barack Obama lacks the authority to defer the deportation of young illegal immigrants.',\n",
              " 'Crime rises in communities with casinos.',\n",
              " 'Americans spend 6.1 billion hours a year complying with tax law. It costs us $163 billion to comply with our tax laws annually.',\n",
              " 'A space shuttle the National Museum of the United States Air Force near Dayton would be within a days drive of 60 percent of the U.S. population.',\n",
              " 'It isnt me cutting the budget. Its the Congressdecision on sequestration. So it isnt secretary of defense or the president doing this.',\n",
              " 'Arizona schools rank 45th in the nation, dead last in funding per student.',\n",
              " 'Rhode Island is at the top of the country for alcohol-related fatalities.',\n",
              " 'Maj. Nidal Hasan, the man accused of the Fort Hood shootings, \"was an ADVISOR to the Obama Administration.\"',\n",
              " 'Florida has the second-lowest (campaign) contribution limit in the entire country.',\n",
              " 'As CEO of WWE, Linda McMahon was caught tipping off a ringside physician about a federal investigation into illegally distributing steroids to wrestlers.',\n",
              " 'We have, right now, Hezbollah, which is working throughout Latin America, in Venezuela, in Mexico, throughout Latin America, which poses a very significant and imminent threat to the United States of America.',\n",
              " 'Says taking millionaires off food stamps and unemployment would save $20 million.',\n",
              " \"The last six polls, including this week's Time magazine, show that I beat John McCain by six or seven points.\",\n",
              " 'David Beckhams proposed soccer stadium at Miamis Port threatens the 207,000 jobs and $27 billion economic impact tied to the cargo and cruise industries.',\n",
              " 'If we pass immigration reform, it will make wages go up on average $250 for the average household.',\n",
              " 'Says that when President Bill Clinton raised the top tax rates to levels now proposed by Obama, the country experienced significant job growth.',\n",
              " 'Scott Walker gave Wisconsin job creation money to his cronies: corporate friends who contributed to his campaigns and got $570 million in job-development incentives',\n",
              " 'Due to actions by President Barack Obama, the Burger King national headquarters announced this month that they will be pulling their franchises from our military bases.',\n",
              " 'Scott Walker has a plan to privatize state lands and wants to sell our deer to the highest bidder.',\n",
              " 'The United States had allies lined up for air strikes in Syria and then Obama pulled the rug out.',\n",
              " 'We saw the president of the United States engage American troops in a fourth conflict in a foreign land. This is historic.',\n",
              " 'Says hes signed a pledge not to raise taxes four times.',\n",
              " 'Unemployment in Texas has risen over two percentage points with Rick Perry as governor.',\n",
              " '(U.S. Reps.) Paul Ryan, Sean Duffy and Reid Ribble are shutting down town hall meetings, or making their constituents pay to attend them.',\n",
              " 'Rick Perry thinks injecting 11- and 12-year-old girls with a controversial drug (the HPV vaccine), without a parents consent, is a good idea.',\n",
              " 'A 2005 gay pride vote had nothing to do with discrimination.',\n",
              " 'The Republicans still want to privatize (Social Security). In fact, their whole idea is to turn over the Social Security trust fund to Wall Street.',\n",
              " 'On the night of the Iowa caucuses, Obama promised the nation that he would do health care reform focused on cost containment, he opposed an individual mandate, and he said he was going to do it with Republicans.',\n",
              " 'Says Florida rubber-stamped phony horse racing.',\n",
              " 'One of the key things about Leonard Lance is that in 2008, when you look at [the] Project Vote Smart website, he was not for guns. Now he has gone too far to the right, saying that you can carry concealed weapons in national parks.',\n",
              " ...]"
            ]
          },
          "metadata": {
            "tags": []
          },
          "execution_count": 33
        }
      ]
    },
    {
      "cell_type": "code",
      "metadata": {
        "id": "MNW_svLJYs2B"
      },
      "source": [
        "label_train = pd.get_dummies(df_train.label)\n",
        "label_val = pd.get_dummies(df_val.label)\n",
        "label_test = pd.get_dummies(df_test.label)"
      ],
      "execution_count": 28,
      "outputs": []
    },
    {
      "cell_type": "code",
      "metadata": {
        "id": "3aXcPaHwyIaC"
      },
      "source": [
        "y_train = df_train.label\n",
        "y_val = df_val.label\n",
        "y_test = df_test.label"
      ],
      "execution_count": 56,
      "outputs": []
    },
    {
      "cell_type": "code",
      "metadata": {
        "colab": {
          "base_uri": "https://localhost:8080/"
        },
        "id": "L4lnOatPlEcB",
        "outputId": "ea828188-219f-478b-ed73-3902ae08b17d"
      },
      "source": [
        "y_train = label_train.to_numpy()\n",
        "y_val = label_val.to_numpy()\n",
        "y_test = label_test.to_numpy()\n",
        "\n",
        "y_train.shape\n",
        "y_train"
      ],
      "execution_count": 55,
      "outputs": [
        {
          "output_type": "execute_result",
          "data": {
            "text/plain": [
              "array([[0, 1, 0, 0, 0, 0],\n",
              "       [0, 0, 1, 0, 0, 0],\n",
              "       [0, 0, 0, 1, 0, 0],\n",
              "       ...,\n",
              "       [0, 0, 1, 0, 0, 0],\n",
              "       [0, 1, 0, 0, 0, 0],\n",
              "       [0, 0, 0, 0, 1, 0]], dtype=uint8)"
            ]
          },
          "metadata": {
            "tags": []
          },
          "execution_count": 55
        }
      ]
    },
    {
      "cell_type": "code",
      "metadata": {
        "colab": {
          "base_uri": "https://localhost:8080/"
        },
        "id": "XoHsReNan63e",
        "outputId": "a7b52616-546a-4077-cd67-a0fd48770663"
      },
      "source": [
        "#DataFlair - Initialize a TfidfVectorizer\n",
        "tfidf_vectorizer=TfidfVectorizer(stop_words='english', max_df=0.7)\n",
        "#DataFlair - Fit and transform train set, transform test set\n",
        "tfidf_train=tfidf_vectorizer.fit_transform(x_train) \n",
        "tfidf_val=tfidf_vectorizer.transform(x_val)\n",
        "\n",
        "tfidf_train.shape"
      ],
      "execution_count": 57,
      "outputs": [
        {
          "output_type": "execute_result",
          "data": {
            "text/plain": [
              "(10240, 11915)"
            ]
          },
          "metadata": {
            "tags": []
          },
          "execution_count": 57
        }
      ]
    },
    {
      "cell_type": "code",
      "metadata": {
        "colab": {
          "base_uri": "https://localhost:8080/",
          "height": 358
        },
        "id": "SxUvbhZrrFHG",
        "outputId": "ddcef375-6d10-415b-f2d3-b6d20a91908f"
      },
      "source": [
        "#DataFlair - Initialize a PassiveAggressiveClassifier\n",
        "mnb = MultinomialNB()\n",
        "mnb.fit(tfidf_train,df_train.label)\n",
        "\n",
        "#DataFlair - Predict on the test set and calculate accuracy\n",
        "y_pred=mnb.predict(tfidf_val)\n",
        "score=accuracy_score(label_val,y_pred)\n",
        "print(f'Accuracy: {round(score*100,2)}%')"
      ],
      "execution_count": 58,
      "outputs": [
        {
          "output_type": "error",
          "ename": "ValueError",
          "evalue": "ignored",
          "traceback": [
            "\u001b[0;31m---------------------------------------------------------------------------\u001b[0m",
            "\u001b[0;31mValueError\u001b[0m                                Traceback (most recent call last)",
            "\u001b[0;32m<ipython-input-58-c33c1252f7b5>\u001b[0m in \u001b[0;36m<module>\u001b[0;34m()\u001b[0m\n\u001b[1;32m      5\u001b[0m \u001b[0;31m#DataFlair - Predict on the test set and calculate accuracy\u001b[0m\u001b[0;34m\u001b[0m\u001b[0;34m\u001b[0m\u001b[0;34m\u001b[0m\u001b[0m\n\u001b[1;32m      6\u001b[0m \u001b[0my_pred\u001b[0m\u001b[0;34m=\u001b[0m\u001b[0mmnb\u001b[0m\u001b[0;34m.\u001b[0m\u001b[0mpredict\u001b[0m\u001b[0;34m(\u001b[0m\u001b[0mtfidf_val\u001b[0m\u001b[0;34m)\u001b[0m\u001b[0;34m\u001b[0m\u001b[0;34m\u001b[0m\u001b[0m\n\u001b[0;32m----> 7\u001b[0;31m \u001b[0mscore\u001b[0m\u001b[0;34m=\u001b[0m\u001b[0maccuracy_score\u001b[0m\u001b[0;34m(\u001b[0m\u001b[0mlabel_val\u001b[0m\u001b[0;34m,\u001b[0m\u001b[0my_pred\u001b[0m\u001b[0;34m)\u001b[0m\u001b[0;34m\u001b[0m\u001b[0;34m\u001b[0m\u001b[0m\n\u001b[0m\u001b[1;32m      8\u001b[0m \u001b[0mprint\u001b[0m\u001b[0;34m(\u001b[0m\u001b[0;34mf'Accuracy: {round(score*100,2)}%'\u001b[0m\u001b[0;34m)\u001b[0m\u001b[0;34m\u001b[0m\u001b[0;34m\u001b[0m\u001b[0m\n",
            "\u001b[0;32m/usr/local/lib/python3.7/dist-packages/sklearn/metrics/_classification.py\u001b[0m in \u001b[0;36maccuracy_score\u001b[0;34m(y_true, y_pred, normalize, sample_weight)\u001b[0m\n\u001b[1;32m    183\u001b[0m \u001b[0;34m\u001b[0m\u001b[0m\n\u001b[1;32m    184\u001b[0m     \u001b[0;31m# Compute accuracy for each possible representation\u001b[0m\u001b[0;34m\u001b[0m\u001b[0;34m\u001b[0m\u001b[0;34m\u001b[0m\u001b[0m\n\u001b[0;32m--> 185\u001b[0;31m     \u001b[0my_type\u001b[0m\u001b[0;34m,\u001b[0m \u001b[0my_true\u001b[0m\u001b[0;34m,\u001b[0m \u001b[0my_pred\u001b[0m \u001b[0;34m=\u001b[0m \u001b[0m_check_targets\u001b[0m\u001b[0;34m(\u001b[0m\u001b[0my_true\u001b[0m\u001b[0;34m,\u001b[0m \u001b[0my_pred\u001b[0m\u001b[0;34m)\u001b[0m\u001b[0;34m\u001b[0m\u001b[0;34m\u001b[0m\u001b[0m\n\u001b[0m\u001b[1;32m    186\u001b[0m     \u001b[0mcheck_consistent_length\u001b[0m\u001b[0;34m(\u001b[0m\u001b[0my_true\u001b[0m\u001b[0;34m,\u001b[0m \u001b[0my_pred\u001b[0m\u001b[0;34m,\u001b[0m \u001b[0msample_weight\u001b[0m\u001b[0;34m)\u001b[0m\u001b[0;34m\u001b[0m\u001b[0;34m\u001b[0m\u001b[0m\n\u001b[1;32m    187\u001b[0m     \u001b[0;32mif\u001b[0m \u001b[0my_type\u001b[0m\u001b[0;34m.\u001b[0m\u001b[0mstartswith\u001b[0m\u001b[0;34m(\u001b[0m\u001b[0;34m'multilabel'\u001b[0m\u001b[0;34m)\u001b[0m\u001b[0;34m:\u001b[0m\u001b[0;34m\u001b[0m\u001b[0;34m\u001b[0m\u001b[0m\n",
            "\u001b[0;32m/usr/local/lib/python3.7/dist-packages/sklearn/metrics/_classification.py\u001b[0m in \u001b[0;36m_check_targets\u001b[0;34m(y_true, y_pred)\u001b[0m\n\u001b[1;32m     88\u001b[0m     \u001b[0;32mif\u001b[0m \u001b[0mlen\u001b[0m\u001b[0;34m(\u001b[0m\u001b[0my_type\u001b[0m\u001b[0;34m)\u001b[0m \u001b[0;34m>\u001b[0m \u001b[0;36m1\u001b[0m\u001b[0;34m:\u001b[0m\u001b[0;34m\u001b[0m\u001b[0;34m\u001b[0m\u001b[0m\n\u001b[1;32m     89\u001b[0m         raise ValueError(\"Classification metrics can't handle a mix of {0} \"\n\u001b[0;32m---> 90\u001b[0;31m                          \"and {1} targets\".format(type_true, type_pred))\n\u001b[0m\u001b[1;32m     91\u001b[0m \u001b[0;34m\u001b[0m\u001b[0m\n\u001b[1;32m     92\u001b[0m     \u001b[0;31m# We can't have more than one value on y_type => The set is no more needed\u001b[0m\u001b[0;34m\u001b[0m\u001b[0;34m\u001b[0m\u001b[0;34m\u001b[0m\u001b[0m\n",
            "\u001b[0;31mValueError\u001b[0m: Classification metrics can't handle a mix of multilabel-indicator and multiclass targets"
          ]
        }
      ]
    }
  ]
}